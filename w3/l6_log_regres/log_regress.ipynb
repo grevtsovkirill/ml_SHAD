{
 "cells": [
  {
   "cell_type": "code",
   "execution_count": 76,
   "metadata": {},
   "outputs": [],
   "source": [
    "import numpy as np\n",
    "import pandas \n",
    "import math "
   ]
  },
  {
   "cell_type": "code",
   "execution_count": 77,
   "metadata": {},
   "outputs": [
    {
     "data": {
      "text/html": [
       "<div>\n",
       "<style scoped>\n",
       "    .dataframe tbody tr th:only-of-type {\n",
       "        vertical-align: middle;\n",
       "    }\n",
       "\n",
       "    .dataframe tbody tr th {\n",
       "        vertical-align: top;\n",
       "    }\n",
       "\n",
       "    .dataframe thead th {\n",
       "        text-align: right;\n",
       "    }\n",
       "</style>\n",
       "<table border=\"1\" class=\"dataframe\">\n",
       "  <thead>\n",
       "    <tr style=\"text-align: right;\">\n",
       "      <th></th>\n",
       "      <th>0</th>\n",
       "      <th>1</th>\n",
       "      <th>2</th>\n",
       "    </tr>\n",
       "  </thead>\n",
       "  <tbody>\n",
       "    <tr>\n",
       "      <th>0</th>\n",
       "      <td>-1</td>\n",
       "      <td>-0.663827</td>\n",
       "      <td>-0.138526</td>\n",
       "    </tr>\n",
       "    <tr>\n",
       "      <th>1</th>\n",
       "      <td>1</td>\n",
       "      <td>1.994596</td>\n",
       "      <td>2.468025</td>\n",
       "    </tr>\n",
       "  </tbody>\n",
       "</table>\n",
       "</div>"
      ],
      "text/plain": [
       "   0         1         2\n",
       "0 -1 -0.663827 -0.138526\n",
       "1  1  1.994596  2.468025"
      ]
     },
     "execution_count": 77,
     "metadata": {},
     "output_type": "execute_result"
    }
   ],
   "source": [
    "#1. Загрузите данные из файла data-logistic.csv. \n",
    "data = pandas.read_csv('data-logistic.csv',header=None)\n",
    "data[:2]"
   ]
  },
  {
   "cell_type": "code",
   "execution_count": 78,
   "metadata": {},
   "outputs": [
    {
     "data": {
      "text/plain": [
       "0   -1\n",
       "1    1\n",
       "Name: 0, dtype: int64"
      ]
     },
     "execution_count": 78,
     "metadata": {},
     "output_type": "execute_result"
    }
   ],
   "source": [
    "# Это двумерная выборка, целевая переменная на которой принимает значения -1 или 1.\n",
    "y= data.loc[:,0]\n",
    "y[:2]"
   ]
  },
  {
   "cell_type": "code",
   "execution_count": 79,
   "metadata": {},
   "outputs": [],
   "source": [
    "#Здесь xi1 и xi2 — значение первого и второго признаков соответственно на объекте xi. \n",
    "x1= data.loc[:,1]\n",
    "#x1[:2]\n",
    "#x1"
   ]
  },
  {
   "cell_type": "code",
   "execution_count": 80,
   "metadata": {},
   "outputs": [
    {
     "data": {
      "text/plain": [
       "0   -0.138526\n",
       "1    2.468025\n",
       "Name: 2, dtype: float64"
      ]
     },
     "execution_count": 80,
     "metadata": {},
     "output_type": "execute_result"
    }
   ],
   "source": [
    "x2= data.loc[:,2]\n",
    "x2[:2]"
   ]
  },
  {
   "cell_type": "code",
   "execution_count": 81,
   "metadata": {},
   "outputs": [],
   "source": [
    "#2. Убедитесь, что выше выписаны правильные формулы для градиентного спуска. \n",
    "# Обратите внимание, что мы используем полноценный градиентный спуск, а не его стохастический вариант!"
   ]
  },
  {
   "cell_type": "code",
   "execution_count": 82,
   "metadata": {},
   "outputs": [],
   "source": [
    "# Gradient     : w^{t+1} = w^{t} - h * d(Q(w))/dw = w^{t} - h * d(Sum^l_i(q_i(w))/dw\n",
    "# Stochastic Gr: w^{t+1} = w^{t} - h * d(q_i(w))/dw - q_i - random number from sum\n",
    "# -> in functionals w1 & w2 from task we have sums, therefore - gradient, not stochastic"
   ]
  },
  {
   "cell_type": "code",
   "execution_count": 118,
   "metadata": {},
   "outputs": [],
   "source": [
    "def grad_step1(w1,w2,k,C,x1,x2,y):\n",
    "    l=len(y)\n",
    "    sum_q=0\n",
    "    for i in range(1,l):\n",
    "        sum_q+=y[i]*x1[i]*(1- 1/(1+np.exp(-y[i]*( w1*x1[i] + w2*x2[i] ) ) )  )\n",
    "    \n",
    "    #print (k,l)\n",
    "    return w1+k*(1/l)*sum_q - k*C*w1"
   ]
  },
  {
   "cell_type": "code",
   "execution_count": 119,
   "metadata": {},
   "outputs": [],
   "source": [
    "def grad_step2(w1,w2,k,C,x1,x2,y):\n",
    "    l=len(y)\n",
    "    sum_q=0\n",
    "    for i in range(1,l):\n",
    "        sum_q += y[i]*x2[i]*( 1 - 1/(1+math.exp(-y[i]*(w1*x1[i]+w2*x2[i]))) )\n",
    "    return w2+k*(1/l)*sum_q - k*C*w2"
   ]
  },
  {
   "cell_type": "code",
   "execution_count": 120,
   "metadata": {},
   "outputs": [],
   "source": [
    "# Q = 1/l sum L(w) =1/l sum log(1 +exp( -y_i(w1*x_i1+w2*x_i2))) +0.5*C|w^2|\n",
    "# minimize Q wrt w1 and w2\n",
    "# Градиентный шаг для весов будет заключаться в одновременном обновлении весов w1 и w2 "
   ]
  },
  {
   "cell_type": "code",
   "execution_count": 170,
   "metadata": {},
   "outputs": [],
   "source": [
    "#3. Реализуйте градиентный спуск для обычной и L2-регуляризованной (с коэффициентом регуляризации 10) \n",
    "# логистической регрессии. Используйте длину шага k=0.1. В качестве начального приближения используйте вектор (0, 0).\n",
    "\n",
    "def gradient_descent(y,x1,x2,C=0,w1=0,w2=0,k=0.1,precision=1e-5,N_max=10000):\n",
    "    w1_plus1=w1\n",
    "    w2_plus1=w2\n",
    "    evkl_dist = 0\n",
    "    #precision=1/N_max\n",
    "    #Останавливать итерационный процесс можно, например, при близости градиента к нулю \n",
    "    #или при слишком малом изменении вектора весов на последней итерации. \n",
    "    for i in range(0,N_max):\n",
    "        w1_plus1 = grad_step1(w1,w2,k,C,x1,x2,y)\n",
    "        w2_plus1 = grad_step2(w1,w2,k,C,x1,x2,y)\n",
    "        # евклидово расстояние между векторами весов на соседних итерациях должно быть не больше 1e-5\n",
    "        evkl_dist = math.sqrt( (w1_plus1-w1)**2 + (w2_plus1-w2)**2 )\n",
    "        if evkl_dist<=precision:\n",
    "            print(\"The local minimum occurs at %0.f: w1=%0.3f , w2=%0.3f\" % (i,w1_plus1,w2_plus1) )\n",
    "            return [w1_plus1, w2_plus1]\n",
    "            #break\n",
    "        #w1=w1_plus1\n",
    "        #w2=w2_plus1\n",
    "        w1,w2=w1_plus1,w2_plus1\n",
    "    #return [w1_plus1, w2_plus1]\n"
   ]
  },
  {
   "cell_type": "code",
   "execution_count": 171,
   "metadata": {},
   "outputs": [],
   "source": [
    "#4. Запустите градиентный спуск и доведите до сходимости (евклидово расстояние между векторами весов на соседних \n",
    "# итерациях должно быть не больше 1e-5). Рекомендуется ограничить сверху число итераций десятью тысячами.\n"
   ]
  },
  {
   "cell_type": "code",
   "execution_count": 172,
   "metadata": {},
   "outputs": [
    {
     "name": "stdout",
     "output_type": "stream",
     "text": [
      "The local minimum occurs at 241: w1=0.284 , w2=0.094\n",
      "0.28436070521455276 0.0936185320546884\n"
     ]
    }
   ],
   "source": [
    "# обычной логистической регрессии\n",
    "w1_n,w2_n=gradient_descent(y,x1,x2)\n",
    "print (w1_n,w2_n)\n",
    "#sum 1-l: 241 0.28436070521455276 0.0936185320546884\n",
    "#sum 0-l: 243 0.2878116204717764 0.09198330215925439"
   ]
  },
  {
   "cell_type": "code",
   "execution_count": 173,
   "metadata": {},
   "outputs": [
    {
     "name": "stdout",
     "output_type": "stream",
     "text": [
      "The local minimum occurs at 7: w1=0.028 , w2=0.025\n",
      "0.02841979291312511 0.024765289499758314\n"
     ]
    }
   ],
   "source": [
    "# L2-регуляризованной логистической регрессии\n",
    "w1_l2r,w2_l2r=gradient_descent(y, x1,x2, 10)\n",
    "print (w1_l2r,w2_l2r)\n",
    "#0.2849621965007955 0.0930618620041445\n",
    "#595 0.28840481937470264 0.09143492951108886\n",
    "# c actually: The local minimum occurs at 7: w1=0.028 , w2=0.025 0.02841979291312511 0.024765289499758314"
   ]
  },
  {
   "cell_type": "code",
   "execution_count": 174,
   "metadata": {},
   "outputs": [],
   "source": [
    "#5. Какое значение принимает AUC-ROC(Area Under ROC-Curve) на обучении без регуляризации и при ее использовании? \n",
    "# Эти величины будут ответом на задание. В качестве ответа приведите два числа через пробел. \n",
    "# что на вход функции roc_auc_score нужно подавать оценки вероятностей, подсчитанные обученным алгоритмом. \n",
    "# Для этого воспользуйтесь сигмоидной функцией: a(x) = 1 / (1 + exp(-w1 x1 - w2 x2)).\n",
    "from  sklearn.metrics import roc_auc_score\n",
    "#x1[204]"
   ]
  },
  {
   "cell_type": "code",
   "execution_count": 175,
   "metadata": {},
   "outputs": [],
   "source": [
    "#roc_auc_score(y_true, y_score, average=’macro’, sample_weight=None)\n",
    "#y_score - a(x) = 1 / (1 + exp(-w1 x1 - w2 x2)).\n",
    "y_n = []\n",
    "y_l2r = []\n",
    "for i in range(0,len(y)):\n",
    "    #print (i)\n",
    "    y_n.append(1 / (1+np.exp( -w1_n*x1[i] - w2_n*x2[i]) ) )\n",
    "    y_l2r.append(1 / (1+np.exp(-w1_l2r*x1[i]-w2_l2r*x2[i])) )\n"
   ]
  },
  {
   "cell_type": "code",
   "execution_count": 176,
   "metadata": {},
   "outputs": [],
   "source": [
    "#len(y_l2r)\n",
    "#y_l2r"
   ]
  },
  {
   "cell_type": "code",
   "execution_count": 177,
   "metadata": {},
   "outputs": [],
   "source": [
    "AUCROC_n = roc_auc_score(y,y_n)\n"
   ]
  },
  {
   "cell_type": "code",
   "execution_count": 178,
   "metadata": {},
   "outputs": [
    {
     "name": "stdout",
     "output_type": "stream",
     "text": [
      "0.9270476190476189 0.9362857142857142\n"
     ]
    }
   ],
   "source": [
    "AUCROC_l2r = roc_auc_score(y,y_l2r)\n",
    "print (AUCROC_n, AUCROC_l2r)"
   ]
  },
  {
   "cell_type": "code",
   "execution_count": 179,
   "metadata": {},
   "outputs": [
    {
     "name": "stdout",
     "output_type": "stream",
     "text": [
      "nom 0.927, reg 0.936\n"
     ]
    }
   ],
   "source": [
    "print (\"nom %0.3f, reg %0.3f\" % (AUCROC_n, AUCROC_l2r))"
   ]
  },
  {
   "cell_type": "code",
   "execution_count": null,
   "metadata": {},
   "outputs": [],
   "source": []
  },
  {
   "cell_type": "code",
   "execution_count": null,
   "metadata": {},
   "outputs": [],
   "source": []
  },
  {
   "cell_type": "code",
   "execution_count": null,
   "metadata": {},
   "outputs": [],
   "source": []
  }
 ],
 "metadata": {
  "kernelspec": {
   "display_name": "Python 3",
   "language": "python",
   "name": "python3"
  },
  "language_info": {
   "codemirror_mode": {
    "name": "ipython",
    "version": 3
   },
   "file_extension": ".py",
   "mimetype": "text/x-python",
   "name": "python",
   "nbconvert_exporter": "python",
   "pygments_lexer": "ipython3",
   "version": "3.6.4"
  }
 },
 "nbformat": 4,
 "nbformat_minor": 2
}
