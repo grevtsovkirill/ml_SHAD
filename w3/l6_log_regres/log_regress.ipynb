{
 "cells": [
  {
   "cell_type": "code",
   "execution_count": 28,
   "metadata": {},
   "outputs": [],
   "source": [
    "import numpy as np\n",
    "import pandas \n",
    "import math "
   ]
  },
  {
   "cell_type": "code",
   "execution_count": 29,
   "metadata": {},
   "outputs": [
    {
     "data": {
      "text/html": [
       "<div>\n",
       "<style scoped>\n",
       "    .dataframe tbody tr th:only-of-type {\n",
       "        vertical-align: middle;\n",
       "    }\n",
       "\n",
       "    .dataframe tbody tr th {\n",
       "        vertical-align: top;\n",
       "    }\n",
       "\n",
       "    .dataframe thead th {\n",
       "        text-align: right;\n",
       "    }\n",
       "</style>\n",
       "<table border=\"1\" class=\"dataframe\">\n",
       "  <thead>\n",
       "    <tr style=\"text-align: right;\">\n",
       "      <th></th>\n",
       "      <th>0</th>\n",
       "      <th>1</th>\n",
       "      <th>2</th>\n",
       "    </tr>\n",
       "  </thead>\n",
       "  <tbody>\n",
       "    <tr>\n",
       "      <th>0</th>\n",
       "      <td>-1</td>\n",
       "      <td>-0.663827</td>\n",
       "      <td>-0.138526</td>\n",
       "    </tr>\n",
       "    <tr>\n",
       "      <th>1</th>\n",
       "      <td>1</td>\n",
       "      <td>1.994596</td>\n",
       "      <td>2.468025</td>\n",
       "    </tr>\n",
       "  </tbody>\n",
       "</table>\n",
       "</div>"
      ],
      "text/plain": [
       "   0         1         2\n",
       "0 -1 -0.663827 -0.138526\n",
       "1  1  1.994596  2.468025"
      ]
     },
     "execution_count": 29,
     "metadata": {},
     "output_type": "execute_result"
    }
   ],
   "source": [
    "#1. Загрузите данные из файла data-logistic.csv. \n",
    "data = pandas.read_csv('data-logistic.csv',header=None)\n",
    "data[:2]"
   ]
  },
  {
   "cell_type": "code",
   "execution_count": 30,
   "metadata": {},
   "outputs": [
    {
     "data": {
      "text/plain": [
       "0   -1\n",
       "1    1\n",
       "Name: 0, dtype: int64"
      ]
     },
     "execution_count": 30,
     "metadata": {},
     "output_type": "execute_result"
    }
   ],
   "source": [
    "# Это двумерная выборка, целевая переменная на которой принимает значения -1 или 1.\n",
    "y= data.loc[:,0]\n",
    "y[:2]"
   ]
  },
  {
   "cell_type": "code",
   "execution_count": 41,
   "metadata": {},
   "outputs": [
    {
     "data": {
      "text/plain": [
       "0   -0.663827\n",
       "1    1.994596\n",
       "Name: 1, dtype: float64"
      ]
     },
     "execution_count": 41,
     "metadata": {},
     "output_type": "execute_result"
    }
   ],
   "source": [
    "#Здесь xi1 и xi2 — значение первого и второго признаков соответственно на объекте xi. \n",
    "x1= data.loc[:,1]\n",
    "x1[:2]"
   ]
  },
  {
   "cell_type": "code",
   "execution_count": 42,
   "metadata": {},
   "outputs": [
    {
     "data": {
      "text/plain": [
       "0   -0.138526\n",
       "1    2.468025\n",
       "Name: 2, dtype: float64"
      ]
     },
     "execution_count": 42,
     "metadata": {},
     "output_type": "execute_result"
    }
   ],
   "source": [
    "x2= data.loc[:,2]\n",
    "x2[:2]"
   ]
  },
  {
   "cell_type": "code",
   "execution_count": 43,
   "metadata": {},
   "outputs": [],
   "source": [
    "#2. Убедитесь, что выше выписаны правильные формулы для градиентного спуска. \n",
    "# Обратите внимание, что мы используем полноценный градиентный спуск, а не его стохастический вариант!"
   ]
  },
  {
   "cell_type": "code",
   "execution_count": 44,
   "metadata": {},
   "outputs": [],
   "source": [
    "# Gradient     : w^{t+1} = w^{t} - h * d(Q(w))/dw = w^{t} - h * d(Sum^l_i(q_i(w))/dw\n",
    "# Stochastic Gr: w^{t+1} = w^{t} - h * d(q_i(w))/dw - q_i - random number from sum\n",
    "# -> in functionals w1 & w2 from task we have sums, therefore - gradient, not stochastic"
   ]
  },
  {
   "cell_type": "code",
   "execution_count": 45,
   "metadata": {},
   "outputs": [],
   "source": [
    "def grad_step1(w1,w2,k,C,x1,x2,y):\n",
    "    l=len(y)\n",
    "    sum_q=0\n",
    "    for i in range(1,l):\n",
    "        sum_q+=y[i]*x1[i]*(1- 1/(1+math.exp(-y[i]*(w1*x1[i]+w2*x2[i]))) )\n",
    "    return w1+k*sum_q/l - k*C*w1"
   ]
  },
  {
   "cell_type": "code",
   "execution_count": 46,
   "metadata": {},
   "outputs": [],
   "source": [
    "def grad_step2(w1,w2,k,C,x1,x2,y):\n",
    "    l=len(y)\n",
    "    sum_q=0\n",
    "    for i in range(1,l):\n",
    "        sum_q+=y[i]*x2[i]*(1- 1/(1+math.exp(-y[i]*(w1*x1[i]+w2*x2[i]))) )\n",
    "    return w2+k*sum_q/l - k*C*w2"
   ]
  },
  {
   "cell_type": "code",
   "execution_count": 48,
   "metadata": {},
   "outputs": [],
   "source": [
    "# Q = 1/l sum L(w) =1/l sum log(1 +exp( -y_i(w1*x_i1+w2*x_i2))) +0.5*C|w^2|\n",
    "# minimize Q wrt w1 and w2\n",
    "# Градиентный шаг для весов будет заключаться в одновременном обновлении весов w1 и w2 "
   ]
  },
  {
   "cell_type": "code",
   "execution_count": 54,
   "metadata": {},
   "outputs": [],
   "source": [
    "#3. Реализуйте градиентный спуск для обычной и L2-регуляризованной (с коэффициентом регуляризации 10) \n",
    "# логистической регрессии. Используйте длину шага k=0.1. В качестве начального приближения используйте вектор (0, 0).\n",
    "\n",
    "def gradient_descent(y,x1,x2,w1=0,w2=0,C=0,k=0.1,precision=1e-5,N_max=10000):\n",
    "    w1_plus1=w1\n",
    "    w2_plus1=w2\n",
    "    #precision=1/N_max\n",
    "    #Останавливать итерационный процесс можно, например, при близости градиента к нулю \n",
    "    #или при слишком малом изменении вектора весов на последней итерации. \n",
    "    for i in range(0,N_max):\n",
    "        w1_plus1=grad_step1(w1,w2,k,C,x1,x2,y)\n",
    "        w2_plus1=grad_step2(w1,w2,k,C,x1,x2,y)\n",
    "        previous_step_size = math.sqrt((w1_plus1-w1)**2+(w2_plus1-w2)**2)\n",
    "        if previous_step_size<precision:\n",
    "            print(\"The local minimum occurs at\", i)\n",
    "            break\n",
    "        else:\n",
    "            w1=w1_plus1\n",
    "            w2=w1_plus2\n",
    "    return [w1_plus1, w2_plus1]\n"
   ]
  },
  {
   "cell_type": "code",
   "execution_count": 55,
   "metadata": {},
   "outputs": [],
   "source": [
    "#4. Запустите градиентный спуск и доведите до сходимости (евклидово расстояние между векторами весов на соседних \n",
    "# итерациях должно быть не больше 1e-5). Рекомендуется ограничить сверху число итераций десятью тысячами.\n"
   ]
  },
  {
   "cell_type": "code",
   "execution_count": null,
   "metadata": {},
   "outputs": [],
   "source": []
  },
  {
   "cell_type": "code",
   "execution_count": null,
   "metadata": {},
   "outputs": [],
   "source": []
  },
  {
   "cell_type": "code",
   "execution_count": null,
   "metadata": {},
   "outputs": [],
   "source": []
  },
  {
   "cell_type": "code",
   "execution_count": null,
   "metadata": {},
   "outputs": [],
   "source": []
  }
 ],
 "metadata": {
  "kernelspec": {
   "display_name": "Python 3",
   "language": "python",
   "name": "python3"
  },
  "language_info": {
   "codemirror_mode": {
    "name": "ipython",
    "version": 3
   },
   "file_extension": ".py",
   "mimetype": "text/x-python",
   "name": "python",
   "nbconvert_exporter": "python",
   "pygments_lexer": "ipython3",
   "version": "3.6.4"
  }
 },
 "nbformat": 4,
 "nbformat_minor": 2
}
