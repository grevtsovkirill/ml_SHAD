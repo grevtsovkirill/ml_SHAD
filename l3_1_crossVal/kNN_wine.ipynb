{
 "cells": [
  {
   "cell_type": "code",
   "execution_count": 1,
   "metadata": {},
   "outputs": [
    {
     "data": {
      "text/html": [
       "<div>\n",
       "<style scoped>\n",
       "    .dataframe tbody tr th:only-of-type {\n",
       "        vertical-align: middle;\n",
       "    }\n",
       "\n",
       "    .dataframe tbody tr th {\n",
       "        vertical-align: top;\n",
       "    }\n",
       "\n",
       "    .dataframe thead th {\n",
       "        text-align: right;\n",
       "    }\n",
       "</style>\n",
       "<table border=\"1\" class=\"dataframe\">\n",
       "  <thead>\n",
       "    <tr style=\"text-align: right;\">\n",
       "      <th></th>\n",
       "      <th>1</th>\n",
       "      <th>14.23</th>\n",
       "      <th>1.71</th>\n",
       "      <th>2.43</th>\n",
       "      <th>15.6</th>\n",
       "      <th>127</th>\n",
       "      <th>2.8</th>\n",
       "      <th>3.06</th>\n",
       "      <th>.28</th>\n",
       "      <th>2.29</th>\n",
       "      <th>5.64</th>\n",
       "      <th>1.04</th>\n",
       "      <th>3.92</th>\n",
       "      <th>1065</th>\n",
       "    </tr>\n",
       "  </thead>\n",
       "  <tbody>\n",
       "    <tr>\n",
       "      <th>0</th>\n",
       "      <td>1</td>\n",
       "      <td>13.20</td>\n",
       "      <td>1.78</td>\n",
       "      <td>2.14</td>\n",
       "      <td>11.2</td>\n",
       "      <td>100</td>\n",
       "      <td>2.65</td>\n",
       "      <td>2.76</td>\n",
       "      <td>0.26</td>\n",
       "      <td>1.28</td>\n",
       "      <td>4.38</td>\n",
       "      <td>1.05</td>\n",
       "      <td>3.40</td>\n",
       "      <td>1050</td>\n",
       "    </tr>\n",
       "    <tr>\n",
       "      <th>1</th>\n",
       "      <td>1</td>\n",
       "      <td>13.16</td>\n",
       "      <td>2.36</td>\n",
       "      <td>2.67</td>\n",
       "      <td>18.6</td>\n",
       "      <td>101</td>\n",
       "      <td>2.80</td>\n",
       "      <td>3.24</td>\n",
       "      <td>0.30</td>\n",
       "      <td>2.81</td>\n",
       "      <td>5.68</td>\n",
       "      <td>1.03</td>\n",
       "      <td>3.17</td>\n",
       "      <td>1185</td>\n",
       "    </tr>\n",
       "  </tbody>\n",
       "</table>\n",
       "</div>"
      ],
      "text/plain": [
       "   1  14.23  1.71  2.43  15.6  127   2.8  3.06   .28  2.29  5.64  1.04  3.92  \\\n",
       "0  1  13.20  1.78  2.14  11.2  100  2.65  2.76  0.26  1.28  4.38  1.05  3.40   \n",
       "1  1  13.16  2.36  2.67  18.6  101  2.80  3.24  0.30  2.81  5.68  1.03  3.17   \n",
       "\n",
       "   1065  \n",
       "0  1050  \n",
       "1  1185  "
      ]
     },
     "execution_count": 1,
     "metadata": {},
     "output_type": "execute_result"
    }
   ],
   "source": [
    "import numpy as np\n",
    "import pandas \n",
    "import pandas as pd\n",
    "#1 Загрузите выборку Wine \n",
    "data = pandas.read_csv('wine.data')\n",
    "data[:2]"
   ]
  },
  {
   "cell_type": "code",
   "execution_count": 2,
   "metadata": {},
   "outputs": [],
   "source": [
    "#The analysis determined the quantities of 13 constituents found in each of the three types of wines. \n",
    "#2 Извлеките из данных признаки и классы. \n",
    "# Класс записан в первом столбце (три варианта), признаки — в столбцах со второго по последний.\n",
    "#class/Attributes"
   ]
  },
  {
   "cell_type": "code",
   "execution_count": 3,
   "metadata": {},
   "outputs": [],
   "source": [
    "targVec= data.loc[:,['1']]\n",
    "attrVec= data.loc[:,['14.23','1.71','2.43','15.6','127','2.8','3.06','.28','2.29','5.64','1.04','3.92','1065']]\n",
    "#print (targVec)\n",
    "#print (attrVec)\n",
    "#print (targVec,attrVec)\n",
    "\n",
    "X=np.array(attrVec)\n",
    "Y=np.array(targVec)"
   ]
  },
  {
   "cell_type": "code",
   "execution_count": null,
   "metadata": {},
   "outputs": [],
   "source": [
    "Y"
   ]
  },
  {
   "cell_type": "code",
   "execution_count": 4,
   "metadata": {},
   "outputs": [
    {
     "name": "stdout",
     "output_type": "stream",
     "text": [
      "KFold(n_splits=5, random_state=42, shuffle=True)\n",
      "TRAIN: [  0   1   2   3   4   5   6   7   8  10  11  13  14  17  20  21  22  23\n",
      "  25  26  27  28  32  33  34  35  36  37  38  39  40  43  44  46  47  48\n",
      "  49  50  51  52  53  54  56  57  58  59  61  62  63  64  68  69  70  71\n",
      "  72  73  74  75  76  77  78  79  80  81  83  84  85  86  87  88  89  91\n",
      "  92  93  94  95  96  97  98  99 100 101 102 103 104 105 106 107 108 110\n",
      " 112 115 116 120 121 122 123 124 125 126 128 129 130 131 132 133 134 135\n",
      " 136 137 138 141 142 143 145 146 147 148 149 151 152 153 154 155 156 157\n",
      " 158 159 160 162 163 164 165 166 167 169 171 172 174 175 176] TEST: [  9  12  15  16  18  19  24  29  30  31  41  42  45  55  60  65  66  67\n",
      "  82  90 109 111 113 114 117 118 119 127 139 140 144 150 161 168 170 173]\n",
      "TRAIN: [  0   1   3   5   7   8   9  10  12  13  14  15  16  17  18  19  20  21\n",
      "  23  24  25  28  29  30  31  33  34  35  37  39  40  41  42  43  44  45\n",
      "  46  47  48  49  50  52  53  54  55  57  58  59  60  61  62  63  64  65\n",
      "  66  67  70  71  72  73  74  75  77  79  80  81  82  83  84  86  87  88\n",
      "  89  90  91  92  94  96  99 101 102 103 105 106 107 109 110 111 112 113\n",
      " 114 115 116 117 118 119 120 121 123 124 125 126 127 129 130 131 132 133\n",
      " 134 135 137 138 139 140 141 144 146 147 148 149 150 151 154 155 157 159\n",
      " 160 161 162 163 164 165 167 168 170 171 172 173 174 175 176] TEST: [  2   4   6  11  22  26  27  32  36  38  51  56  68  69  76  78  85  93\n",
      "  95  97  98 100 104 108 122 128 136 142 143 145 152 153 156 158 166 169]\n",
      "TRAIN: [  1   2   3   4   5   6   7   8   9  11  12  13  14  15  16  17  18  19\n",
      "  20  21  22  24  26  27  29  30  31  32  34  35  36  37  38  41  42  43\n",
      "  45  46  48  49  50  51  52  53  54  55  56  57  58  59  60  62  63  65\n",
      "  66  67  68  69  70  71  72  74  76  77  78  80  82  83  85  87  88  89\n",
      "  90  91  92  93  95  97  98  99 100 102 103 104 105 106 107 108 109 110\n",
      " 111 112 113 114 115 116 117 118 119 121 122 127 128 129 130 131 134 135\n",
      " 136 139 140 142 143 144 145 147 149 150 151 152 153 154 155 156 157 158\n",
      " 159 160 161 162 163 164 166 167 168 169 170 171 173 174 175 176] TEST: [  0  10  23  25  28  33  39  40  44  47  61  64  73  75  79  81  84  86\n",
      "  94  96 101 120 123 124 125 126 132 133 137 138 141 146 148 165 172]\n",
      "TRAIN: [  0   1   2   4   6   9  10  11  12  14  15  16  18  19  20  21  22  23\n",
      "  24  25  26  27  28  29  30  31  32  33  36  37  38  39  40  41  42  44\n",
      "  45  47  48  50  51  52  54  55  56  57  58  60  61  63  64  65  66  67\n",
      "  68  69  71  73  74  75  76  78  79  81  82  84  85  86  87  88  90  92\n",
      "  93  94  95  96  97  98  99 100 101 102 103 104 106 107 108 109 111 113\n",
      " 114 116 117 118 119 120 121 122 123 124 125 126 127 128 129 130 132 133\n",
      " 136 137 138 139 140 141 142 143 144 145 146 147 148 149 150 151 152 153\n",
      " 156 157 158 161 162 165 166 167 168 169 170 171 172 173 174 176] TEST: [  3   5   7   8  13  17  34  35  43  46  49  53  59  62  70  72  77  80\n",
      "  83  89  91 105 110 112 115 131 134 135 154 155 159 160 163 164 175]\n",
      "TRAIN: [  0   2   3   4   5   6   7   8   9  10  11  12  13  15  16  17  18  19\n",
      "  22  23  24  25  26  27  28  29  30  31  32  33  34  35  36  38  39  40\n",
      "  41  42  43  44  45  46  47  49  51  53  55  56  59  60  61  62  64  65\n",
      "  66  67  68  69  70  72  73  75  76  77  78  79  80  81  82  83  84  85\n",
      "  86  89  90  91  93  94  95  96  97  98 100 101 104 105 108 109 110 111\n",
      " 112 113 114 115 117 118 119 120 122 123 124 125 126 127 128 131 132 133\n",
      " 134 135 136 137 138 139 140 141 142 143 144 145 146 148 150 152 153 154\n",
      " 155 156 158 159 160 161 163 164 165 166 168 169 170 172 173 175] TEST: [  1  14  20  21  37  48  50  52  54  57  58  63  71  74  87  88  92  99\n",
      " 102 103 106 107 116 121 129 130 147 149 151 157 162 167 171 174 176]\n"
     ]
    }
   ],
   "source": [
    "# 3 Оценку качества необходимо провести методом кросс-валидации по 5 блокам (5-fold). \n",
    "# Создайте генератор разбиений, который перемешивает выборку перед формированием блоков (shuffle=True). \n",
    "# Для воспроизводимости результата, создавайте генератор KFold с фиксированным параметром random_state=42. \n",
    "# В качестве меры качества используйте долю верных ответов (accuracy).\n",
    "from sklearn.model_selection import KFold\n",
    "\n",
    "kf = KFold(n_splits=5, shuffle=True, random_state=42)\n",
    "print (kf)\n",
    "for train_index, test_index in kf.split(X):\n",
    "    print(\"TRAIN:\", train_index, \"TEST:\", test_index)\n",
    "    X_train, X_test = X[train_index], X[test_index]\n",
    "    y_train, y_test = Y[train_index], Y[test_index]"
   ]
  },
  {
   "cell_type": "code",
   "execution_count": null,
   "metadata": {},
   "outputs": [],
   "source": []
  },
  {
   "cell_type": "code",
   "execution_count": 6,
   "metadata": {},
   "outputs": [
    {
     "data": {
      "text/plain": [
       "KNeighborsClassifier(algorithm='auto', leaf_size=30, metric='minkowski',\n",
       "           metric_params=None, n_jobs=1, n_neighbors=5, p=2,\n",
       "           weights='uniform')"
      ]
     },
     "execution_count": 6,
     "metadata": {},
     "output_type": "execute_result"
    }
   ],
   "source": [
    "#class sklearn.neighbors.KNeighborsClassifier(n_neighbors=5, weights=’uniform’, algorithm=’auto’, leaf_size=30, p=2, metric=’minkowski’, metric_params=None, n_jobs=1, **kwargs)[source]¶\n",
    "from sklearn.neighbors import KNeighborsClassifier\n",
    "neigh = KNeighborsClassifier(n_neighbors=5)\n",
    "#fit(X, y)\tFit the model using X as training data and y as target values\n",
    "neigh.fit(X_train,y_train.ravel())"
   ]
  },
  {
   "cell_type": "code",
   "execution_count": 15,
   "metadata": {},
   "outputs": [
    {
     "data": {
      "text/plain": [
       "KFold(n_splits=5, random_state=42, shuffle=True)"
      ]
     },
     "execution_count": 15,
     "metadata": {},
     "output_type": "execute_result"
    }
   ],
   "source": [
    "kf"
   ]
  },
  {
   "cell_type": "code",
   "execution_count": 18,
   "metadata": {
    "scrolled": true
   },
   "outputs": [],
   "source": [
    "# В качестве параметра estimator передается классификатор, \n",
    "#в качестве параметра cv — генератор разбиений с предыдущего шага. \n",
    "#cross_val_score(estimator, X, y=None, groups=None, scoring=None, cv=None, n_jobs=1, verbose=0, fit_params=None, pre_dispatch=‘2*n_jobs’)[source]¶\n",
    "from sklearn.model_selection import cross_val_score\n",
    "scores = cross_val_score(neigh,X,Y.ravel(),cv=kf)"
   ]
  },
  {
   "cell_type": "code",
   "execution_count": 19,
   "metadata": {},
   "outputs": [
    {
     "name": "stdout",
     "output_type": "stream",
     "text": [
      "Accuracy: 0.71 (+/- 0.12)\n"
     ]
    }
   ],
   "source": [
    "print(\"Accuracy: %0.2f (+/- %0.2f)\" % (scores.mean(), scores.std() * 2))"
   ]
  },
  {
   "cell_type": "code",
   "execution_count": 75,
   "metadata": {},
   "outputs": [
    {
     "name": "stdout",
     "output_type": "stream",
     "text": [
      "Accuracy[1]: 0.735\n",
      "Accuracy[2]: 0.667\n",
      "Accuracy[3]: 0.718\n",
      "Accuracy[4]: 0.650\n",
      "Accuracy[5]: 0.707\n",
      "Accuracy[6]: 0.690\n",
      "Accuracy[7]: 0.724\n",
      "Accuracy[8]: 0.701\n",
      "Accuracy[9]: 0.707\n",
      "Accuracy[10]: 0.678\n",
      "Accuracy[11]: 0.684\n",
      "Accuracy[12]: 0.678\n",
      "Accuracy[13]: 0.718\n",
      "Accuracy[14]: 0.718\n",
      "Accuracy[15]: 0.735\n",
      "Accuracy[16]: 0.729\n",
      "Accuracy[17]: 0.729\n",
      "Accuracy[18]: 0.729\n",
      "Accuracy[19]: 0.718\n",
      "Accuracy[20]: 0.729\n",
      "Accuracy[21]: 0.712\n",
      "Accuracy[22]: 0.712\n",
      "Accuracy[23]: 0.712\n",
      "Accuracy[24]: 0.718\n",
      "Accuracy[25]: 0.729\n",
      "Accuracy[26]: 0.724\n",
      "Accuracy[27]: 0.729\n",
      "Accuracy[28]: 0.729\n",
      "Accuracy[29]: 0.724\n",
      "Accuracy[30]: 0.718\n",
      "Accuracy[31]: 0.724\n",
      "Accuracy[32]: 0.718\n",
      "Accuracy[33]: 0.718\n",
      "Accuracy[34]: 0.707\n",
      "Accuracy[35]: 0.712\n",
      "Accuracy[36]: 0.701\n",
      "Accuracy[37]: 0.707\n",
      "Accuracy[38]: 0.701\n",
      "Accuracy[39]: 0.713\n",
      "Accuracy[40]: 0.707\n",
      "Accuracy[41]: 0.713\n",
      "Accuracy[42]: 0.713\n",
      "Accuracy[43]: 0.713\n",
      "Accuracy[44]: 0.701\n",
      "Accuracy[45]: 0.701\n",
      "Accuracy[46]: 0.707\n",
      "Accuracy[47]: 0.695\n",
      "Accuracy[48]: 0.701\n",
      "Accuracy[49]: 0.695\n"
     ]
    }
   ],
   "source": [
    "#Найдите точность классификации на кросс-валидации для метода k ближайших соседей (sklearn.neighbors.KNeighborsClassifier), при k от 1 до 50. При каком k получилось оптимальное качество? \n",
    "#Чему оно равно (число в интервале от 0 до 1)? Данные результаты и будут ответами на вопросы 1 и 2.\n",
    "list_optim = []\n",
    "for f in range(1,50):\n",
    "    #print (f)\n",
    "    neigh = KNeighborsClassifier(n_neighbors=f)\n",
    "    #fit(X, y)\tFit the model using X as training data and y as target values\n",
    "    neigh.fit(X,Y.ravel())\n",
    "    #neigh.fit(X_train,y_train.ravel())\n",
    "    scores = cross_val_score(neigh,X,Y.ravel(),cv=kf)\n",
    "    #scores = cross_val_score(neigh,X_test,y_test.ravel(),cv=kf)\n",
    "    #print(\"Accuracy[%.f]: %0.2f (+/- %0.2f)\" % (f,scores.mean(), scores.std() * 2))\n",
    "    list_optim.append((f,scores.mean()))\n",
    "\n",
    "for x in list_optim:\n",
    "    print (\"Accuracy[%.f]: %0.3f\" % (x[0],x[1]))"
   ]
  },
  {
   "cell_type": "code",
   "execution_count": 76,
   "metadata": {},
   "outputs": [
    {
     "data": {
      "text/plain": [
       "array([49.       ,  0.7352381])"
      ]
     },
     "execution_count": 76,
     "metadata": {},
     "output_type": "execute_result"
    }
   ],
   "source": [
    "a=np.array(list_optim)\n",
    "np.amax(a, axis=0)"
   ]
  },
  {
   "cell_type": "code",
   "execution_count": 54,
   "metadata": {},
   "outputs": [
    {
     "name": "stdout",
     "output_type": "stream",
     "text": [
      "Max value element :  1\n"
     ]
    }
   ],
   "source": [
    "print (\"Max value element : \", max(list_optim[0]))"
   ]
  },
  {
   "cell_type": "code",
   "execution_count": 65,
   "metadata": {},
   "outputs": [
    {
     "data": {
      "text/plain": [
       "(17, 0.7293650793650793)"
      ]
     },
     "execution_count": 65,
     "metadata": {},
     "output_type": "execute_result"
    }
   ],
   "source": [
    "list_optim[16]"
   ]
  },
  {
   "cell_type": "code",
   "execution_count": 64,
   "metadata": {},
   "outputs": [
    {
     "data": {
      "text/plain": [
       "(16, 0.7293650793650794)"
      ]
     },
     "execution_count": 64,
     "metadata": {},
     "output_type": "execute_result"
    }
   ],
   "source": [
    "list_optim[15]"
   ]
  },
  {
   "cell_type": "code",
   "execution_count": 66,
   "metadata": {},
   "outputs": [
    {
     "data": {
      "text/plain": [
       "(1, 0.7352380952380952)"
      ]
     },
     "execution_count": 66,
     "metadata": {},
     "output_type": "execute_result"
    }
   ],
   "source": [
    "list_optim[0]"
   ]
  },
  {
   "cell_type": "code",
   "execution_count": 67,
   "metadata": {},
   "outputs": [
    {
     "data": {
      "text/plain": [
       "(15, 0.7350793650793651)"
      ]
     },
     "execution_count": 67,
     "metadata": {},
     "output_type": "execute_result"
    }
   ],
   "source": [
    "list_optim[14]"
   ]
  },
  {
   "cell_type": "code",
   "execution_count": 68,
   "metadata": {},
   "outputs": [],
   "source": [
    "#Произведите масштабирование признаков с помощью функции sklearn.preprocessing.scale. \n",
    "#Снова найдите оптимальное k на кросс-валидации."
   ]
  },
  {
   "cell_type": "code",
   "execution_count": 74,
   "metadata": {},
   "outputs": [],
   "source": [
    "from sklearn import preprocessing\n",
    "#sklearn.preprocessing.scale()\n",
    "Xs=preprocessing.scale(X)"
   ]
  },
  {
   "cell_type": "code",
   "execution_count": 84,
   "metadata": {},
   "outputs": [
    {
     "name": "stdout",
     "output_type": "stream",
     "text": [
      "AccuracyScaled[1]: 0.94920634920634916476\n",
      "AccuracyScaled[2]: 0.93793650793650795716\n",
      "AccuracyScaled[3]: 0.94380952380952387593\n",
      "AccuracyScaled[4]: 0.94349206349206349298\n",
      "AccuracyScaled[5]: 0.94936507936507941174\n",
      "AccuracyScaled[6]: 0.95460317460317456462\n",
      "AccuracyScaled[7]: 0.97190476190476182694\n",
      "AccuracyScaled[8]: 0.96603174603174613022\n",
      "AccuracyScaled[9]: 0.96079365079365075530\n",
      "AccuracyScaled[10]: 0.96619047619047615516\n",
      "AccuracyScaled[11]: 0.95507936507936508352\n",
      "AccuracyScaled[12]: 0.96047619047619048338\n",
      "AccuracyScaled[13]: 0.96063492063492061934\n",
      "AccuracyScaled[14]: 0.96047619047619048338\n",
      "AccuracyScaled[15]: 0.97174603174603180200\n",
      "AccuracyScaled[16]: 0.96047619047619048338\n",
      "AccuracyScaled[17]: 0.96079365079365075530\n",
      "AccuracyScaled[18]: 0.96031746031746023640\n",
      "AccuracyScaled[19]: 0.96619047619047615516\n",
      "AccuracyScaled[20]: 0.96603174603174613022\n",
      "AccuracyScaled[21]: 0.97174603174603180200\n",
      "AccuracyScaled[22]: 0.96031746031746023640\n",
      "AccuracyScaled[23]: 0.97174603174603180200\n",
      "AccuracyScaled[24]: 0.97174603174603180200\n",
      "AccuracyScaled[25]: 0.97174603174603180200\n",
      "AccuracyScaled[26]: 0.97174603174603180200\n",
      "AccuracyScaled[27]: 0.97174603174603180200\n",
      "AccuracyScaled[28]: 0.97730158730158733782\n",
      "AccuracyScaled[29]: 0.97730158730158733782\n",
      "AccuracyScaled[30]: 0.97730158730158733782\n",
      "AccuracyScaled[31]: 0.97730158730158733782\n",
      "AccuracyScaled[32]: 0.97730158730158733782\n",
      "AccuracyScaled[33]: 0.97730158730158733782\n",
      "AccuracyScaled[34]: 0.97730158730158733782\n",
      "AccuracyScaled[35]: 0.97730158730158733782\n",
      "AccuracyScaled[36]: 0.97730158730158733782\n",
      "AccuracyScaled[37]: 0.97730158730158733782\n",
      "AccuracyScaled[38]: 0.97158730158730155502\n",
      "AccuracyScaled[39]: 0.96603174603174613022\n",
      "AccuracyScaled[40]: 0.97158730158730155502\n",
      "AccuracyScaled[41]: 0.96603174603174613022\n",
      "AccuracyScaled[42]: 0.97158730158730155502\n",
      "AccuracyScaled[43]: 0.97158730158730155502\n",
      "AccuracyScaled[44]: 0.96603174603174613022\n",
      "AccuracyScaled[45]: 0.96603174603174613022\n",
      "AccuracyScaled[46]: 0.96603174603174613022\n",
      "AccuracyScaled[47]: 0.96603174603174613022\n",
      "AccuracyScaled[48]: 0.96603174603174613022\n",
      "AccuracyScaled[49]: 0.96603174603174613022\n"
     ]
    }
   ],
   "source": [
    "list_optim_scaled = []\n",
    "for f in range(1,50):\n",
    "    #print (f)\n",
    "    neighS = KNeighborsClassifier(n_neighbors=f)\n",
    "    #fit(X, y)\tFit the model using X as training data and y as target values\n",
    "    neighS.fit(Xs,Y.ravel())\n",
    "    scores = cross_val_score(neighS,Xs,Y.ravel(),cv=kf)\n",
    "    #scores = cross_val_score(neigh,X_test,y_test.ravel(),cv=kf)\n",
    "    #print(\"Accuracy[%.f]: %0.2f (+/- %0.2f)\" % (f,scores.mean(), scores.std() * 2))\n",
    "    list_optim_scaled.append((f,scores.mean()))\n",
    "\n",
    "for x in list_optim_scaled:\n",
    "    print (\"AccuracyScaled[%.f]: %0.20f\" % (x[0],x[1]))"
   ]
  },
  {
   "cell_type": "code",
   "execution_count": 78,
   "metadata": {},
   "outputs": [
    {
     "data": {
      "text/plain": [
       "array([49.        ,  0.97730159])"
      ]
     },
     "execution_count": 78,
     "metadata": {},
     "output_type": "execute_result"
    }
   ],
   "source": [
    "aS=np.array(list_optim_scaled)\n",
    "np.amax(aS, axis=0)"
   ]
  },
  {
   "cell_type": "code",
   "execution_count": 85,
   "metadata": {},
   "outputs": [
    {
     "data": {
      "text/plain": [
       "(28, 0.9773015873015873)"
      ]
     },
     "execution_count": 85,
     "metadata": {},
     "output_type": "execute_result"
    }
   ],
   "source": [
    "list_optim_scaled[27]"
   ]
  },
  {
   "cell_type": "code",
   "execution_count": null,
   "metadata": {},
   "outputs": [],
   "source": []
  }
 ],
 "metadata": {
  "kernelspec": {
   "display_name": "Python 3",
   "language": "python",
   "name": "python3"
  },
  "language_info": {
   "codemirror_mode": {
    "name": "ipython",
    "version": 3
   },
   "file_extension": ".py",
   "mimetype": "text/x-python",
   "name": "python",
   "nbconvert_exporter": "python",
   "pygments_lexer": "ipython3",
   "version": "3.6.4"
  }
 },
 "nbformat": 4,
 "nbformat_minor": 2
}
