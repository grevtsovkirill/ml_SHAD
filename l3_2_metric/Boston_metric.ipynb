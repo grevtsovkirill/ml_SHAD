{
 "cells": [
  {
   "cell_type": "code",
   "execution_count": 1,
   "metadata": {},
   "outputs": [],
   "source": [
    "import numpy as np\n",
    "from sklearn import datasets\n",
    "from sklearn import preprocessing\n",
    "\n",
    "#1.Загрузите выборку Boston с помощью функции sklearn.datasets.load_boston(). \n",
    "#Результатом вызова данной функции является объект, у которого признаки записаны в поле data,\n",
    "#а целевой вектор — в поле target.\n",
    "bost=datasets.load_boston()"
   ]
  },
  {
   "cell_type": "code",
   "execution_count": 2,
   "metadata": {},
   "outputs": [
    {
     "data": {
      "text/plain": [
       "((506, 13), (506,))"
      ]
     },
     "execution_count": 2,
     "metadata": {},
     "output_type": "execute_result"
    }
   ],
   "source": [
    "bost.data.shape, bost.target.shape\n",
    "# 'feature_names': array(['CRIM','ZN','INDUS','CHAS','NOX','RM','AGE','DIS','RAD','TAX', 'PTRATIO', 'B', 'LSTAT'], \n",
    "#dtype='<U7'),"
   ]
  },
  {
   "cell_type": "code",
   "execution_count": 3,
   "metadata": {},
   "outputs": [
    {
     "data": {
      "text/plain": [
       "array([2.7310e-02, 0.0000e+00, 7.0700e+00, 0.0000e+00, 4.6900e-01,\n",
       "       6.4210e+00, 7.8900e+01, 4.9671e+00, 2.0000e+00, 2.4200e+02,\n",
       "       1.7800e+01, 3.9690e+02, 9.1400e+00])"
      ]
     },
     "execution_count": 3,
     "metadata": {},
     "output_type": "execute_result"
    }
   ],
   "source": [
    "#iris = datasets.load_iris()\n",
    "#iris\n",
    "#iris.data.shape, iris.target.shape\n",
    "#for x in bost.data.shape:\n",
    "#    print (x)\n",
    "bost.data[1]"
   ]
  },
  {
   "cell_type": "code",
   "execution_count": 4,
   "metadata": {},
   "outputs": [],
   "source": [
    "# 2. Приведите признаки в выборке к одному масштабу при помощи функции sklearn.preprocessing.scale.\n",
    "X= preprocessing.scale(bost.data)"
   ]
  },
  {
   "cell_type": "code",
   "execution_count": 5,
   "metadata": {},
   "outputs": [
    {
     "data": {
      "text/plain": [
       "array([-0.41526932, -0.48772236, -0.59338101, -0.27259857, -0.74026221,\n",
       "        0.19427445,  0.36716642,  0.55715988, -0.8678825 , -0.98732948,\n",
       "       -0.30309415,  0.44105193, -0.49243937])"
      ]
     },
     "execution_count": 5,
     "metadata": {},
     "output_type": "execute_result"
    }
   ],
   "source": [
    "X[1]"
   ]
  },
  {
   "cell_type": "code",
   "execution_count": 6,
   "metadata": {},
   "outputs": [],
   "source": [
    "# 3. Переберите разные варианты параметра метрики p по сетке от 1 до 10 с таким шагом, \n",
    "# чтобы всего было протестировано 200 вариантов (используйте функцию numpy.linspace). "
   ]
  },
  {
   "cell_type": "code",
   "execution_count": 7,
   "metadata": {},
   "outputs": [],
   "source": [
    "p_range = np.linspace(1,10,200)\n",
    "#for p in p_range:\n",
    "#    print (p)"
   ]
  },
  {
   "cell_type": "code",
   "execution_count": 8,
   "metadata": {},
   "outputs": [],
   "source": [
    "# Используйте KNeighborsRegressor с n_neighbors=5 и weights='distance' \n",
    "# — данный параметр добавляет в алгоритм веса, зависящие от расстояния до ближайших соседей. "
   ]
  },
  {
   "cell_type": "code",
   "execution_count": 57,
   "metadata": {},
   "outputs": [
    {
     "data": {
      "text/plain": [
       "KNeighborsRegressor(algorithm='auto', leaf_size=30, metric='minkowski',\n",
       "          metric_params=None, n_jobs=1, n_neighbors=5, p=2,\n",
       "          weights='distance')"
      ]
     },
     "execution_count": 57,
     "metadata": {},
     "output_type": "execute_result"
    }
   ],
   "source": [
    "from sklearn.neighbors import KNeighborsRegressor\n",
    "#KNeighborsRegressor(n_neighbors=5, weights=’uniform’, algorithm=’auto’, leaf_size=30, p=2, metric=’minkowski’, metric_params=None, n_jobs=1, **kwargs)[source]¶\n",
    "p_val=2\n",
    "neigh = KNeighborsRegressor(n_neighbors=5, weights='distance',p=p_val)\n",
    "neigh.fit(X,bost.target)"
   ]
  },
  {
   "cell_type": "code",
   "execution_count": null,
   "metadata": {},
   "outputs": [],
   "source": []
  },
  {
   "cell_type": "code",
   "execution_count": 58,
   "metadata": {},
   "outputs": [
    {
     "name": "stdout",
     "output_type": "stream",
     "text": [
      "KFold(n_splits=5, random_state=42, shuffle=True)\n"
     ]
    }
   ],
   "source": [
    "# Качество оценивайте, как и в предыдущем задании, с помощью кросс-валидации \n",
    "#по 5 блокам с random_state = 42, не забудьте включить перемешивание выборки (shuffle=True).\n",
    "from sklearn.model_selection import KFold\n",
    "kf = KFold(n_splits=5, shuffle=True, random_state=42)\n",
    "print (kf)\n",
    "for train_index, test_index in kf.split(X):\n",
    "    #print(\"TRAIN:\", train_index, \"TEST:\", test_index)\n",
    "    X_train, X_test = X[train_index], X[test_index]\n",
    "    y_train, y_test = bost.target[train_index], bost.target[test_index]"
   ]
  },
  {
   "cell_type": "code",
   "execution_count": 59,
   "metadata": {},
   "outputs": [],
   "source": [
    "# В качестве метрики качества используйте среднеквадратичную ошибку \n",
    "#(параметр scoring='mean_squared_error' у cross_val_score; \n",
    "# при использовании библиотеки scikit-learn версии 0.18.1 и выше \n",
    "# необходимо указывать scoring='neg_mean_squared_error'). \n",
    "from sklearn.model_selection import cross_val_score\n",
    "scores = cross_val_score(neigh,X,bost.target.ravel(),cv=kf,scoring='neg_mean_squared_error')"
   ]
  },
  {
   "cell_type": "code",
   "execution_count": 71,
   "metadata": {},
   "outputs": [
    {
     "name": "stdout",
     "output_type": "stream",
     "text": [
      "Accuracy: -17.3366378842596696 (+/- 5.13);\n"
     ]
    }
   ],
   "source": [
    "print(\"Accuracy: %0.16f (+/- %0.2f);\" % (scores.mean(), scores.std() * 2))"
   ]
  },
  {
   "cell_type": "code",
   "execution_count": 61,
   "metadata": {},
   "outputs": [
    {
     "data": {
      "text/plain": [
       "array([-19.14917772, -13.68282099, -20.87062784, -15.41202669,\n",
       "       -17.56853618])"
      ]
     },
     "execution_count": 61,
     "metadata": {},
     "output_type": "execute_result"
    }
   ],
   "source": [
    "scores"
   ]
  },
  {
   "cell_type": "code",
   "execution_count": 62,
   "metadata": {},
   "outputs": [
    {
     "data": {
      "text/plain": [
       "-13"
      ]
     },
     "execution_count": 62,
     "metadata": {},
     "output_type": "execute_result"
    }
   ],
   "source": [
    "int(max(scores))"
   ]
  },
  {
   "cell_type": "code",
   "execution_count": 63,
   "metadata": {},
   "outputs": [
    {
     "data": {
      "text/plain": [
       "-13.68282099131146"
      ]
     },
     "execution_count": 63,
     "metadata": {},
     "output_type": "execute_result"
    }
   ],
   "source": [
    "max(scores)"
   ]
  },
  {
   "cell_type": "code",
   "execution_count": 68,
   "metadata": {},
   "outputs": [
    {
     "data": {
      "text/plain": [
       "-17.33663788425967"
      ]
     },
     "execution_count": 68,
     "metadata": {},
     "output_type": "execute_result"
    }
   ],
   "source": [
    "sum(scores) / len(scores)"
   ]
  },
  {
   "cell_type": "code",
   "execution_count": 65,
   "metadata": {},
   "outputs": [],
   "source": [
    "#loop\n",
    "list_optim = []\n",
    "for p_val1 in p_range:\n",
    "    neigh = KNeighborsRegressor(n_neighbors=5, weights='distance',p=p_val1)\n",
    "    neigh.fit(X,bost.target)\n",
    "    scores1 = cross_val_score(neigh,X,bost.target,cv=kf,scoring='neg_mean_squared_error')\n",
    "    list_optim.append((p_val1,max(scores1),scores1.mean(),scores1.std()))\n",
    "    neigh = 0"
   ]
  },
  {
   "cell_type": "code",
   "execution_count": 66,
   "metadata": {},
   "outputs": [
    {
     "name": "stdout",
     "output_type": "stream",
     "text": [
      "Accuracy[1.0]:-11.878542 , -16.050209 , 3.310\n",
      "Accuracy[1.0]:-11.996570 , -16.404081 , 3.501\n",
      "Accuracy[1.1]:-11.844383 , -16.367229 , 3.469\n",
      "Accuracy[1.1]:-11.836924 , -16.442539 , 3.427\n",
      "Accuracy[1.2]:-11.876076 , -16.455281 , 3.396\n",
      "Accuracy[1.2]:-12.035631 , -16.506563 , 3.390\n",
      "Accuracy[1.3]:-12.019038 , -16.616752 , 3.352\n",
      "Accuracy[1.3]:-12.591107 , -16.801912 , 3.081\n",
      "Accuracy[1.4]:-12.601727 , -16.843957 , 3.038\n",
      "Accuracy[1.4]:-12.581176 , -17.094611 , 3.152\n",
      "Accuracy[1.5]:-12.897805 , -17.120015 , 3.149\n",
      "Accuracy[1.5]:-12.932248 , -16.951350 , 2.960\n",
      "Accuracy[1.5]:-13.312835 , -17.088927 , 2.883\n",
      "Accuracy[1.6]:-13.383402 , -16.791080 , 2.648\n",
      "Accuracy[1.6]:-13.917517 , -16.970884 , 2.602\n",
      "Accuracy[1.7]:-13.949629 , -17.006164 , 2.347\n",
      "Accuracy[1.7]:-14.072326 , -17.154255 , 2.418\n",
      "Accuracy[1.8]:-13.870069 , -17.171595 , 2.447\n",
      "Accuracy[1.8]:-13.829324 , -17.200173 , 2.506\n",
      "Accuracy[1.9]:-13.584011 , -17.319404 , 2.734\n",
      "Accuracy[1.9]:-13.520177 , -17.410890 , 2.753\n",
      "Accuracy[1.9]:-13.672092 , -17.382597 , 2.623\n",
      "Accuracy[2.0]:-13.681178 , -17.323538 , 2.551\n",
      "Accuracy[2.0]:-13.716508 , -17.364596 , 2.508\n",
      "Accuracy[2.1]:-13.597079 , -17.390160 , 2.539\n",
      "Accuracy[2.1]:-13.616618 , -17.663511 , 2.610\n",
      "Accuracy[2.2]:-13.605215 , -17.574880 , 2.594\n",
      "Accuracy[2.2]:-13.633975 , -17.327645 , 2.523\n",
      "Accuracy[2.3]:-13.765566 , -17.515642 , 2.580\n",
      "Accuracy[2.3]:-13.949247 , -17.565429 , 2.537\n",
      "Accuracy[2.4]:-13.958747 , -17.576189 , 2.543\n",
      "Accuracy[2.4]:-13.880363 , -17.620671 , 2.582\n",
      "Accuracy[2.4]:-13.823644 , -17.623801 , 2.612\n",
      "Accuracy[2.5]:-13.825735 , -17.306885 , 2.279\n",
      "Accuracy[2.5]:-13.850098 , -17.351310 , 2.267\n",
      "Accuracy[2.6]:-14.209100 , -17.510104 , 2.149\n",
      "Accuracy[2.6]:-14.137009 , -17.495131 , 2.185\n",
      "Accuracy[2.7]:-14.137229 , -17.499268 , 2.186\n",
      "Accuracy[2.7]:-14.146639 , -17.563120 , 2.171\n",
      "Accuracy[2.8]:-14.114921 , -17.559610 , 2.169\n",
      "Accuracy[2.8]:-14.161421 , -17.645987 , 2.206\n",
      "Accuracy[2.9]:-14.184942 , -17.640931 , 2.173\n",
      "Accuracy[2.9]:-14.714860 , -17.682560 , 1.997\n",
      "Accuracy[2.9]:-15.801372 , -17.921623 , 1.695\n",
      "Accuracy[3.0]:-15.785403 , -17.983741 , 1.686\n",
      "Accuracy[3.0]:-15.410661 , -18.134386 , 2.135\n",
      "Accuracy[3.1]:-15.481564 , -18.181687 , 2.090\n",
      "Accuracy[3.1]:-15.500910 , -18.254744 , 2.049\n",
      "Accuracy[3.2]:-15.510575 , -18.312070 , 2.063\n",
      "Accuracy[3.2]:-15.521822 , -18.318597 , 2.097\n",
      "Accuracy[3.3]:-15.530389 , -18.315043 , 2.063\n",
      "Accuracy[3.3]:-15.524836 , -18.245517 , 1.926\n",
      "Accuracy[3.4]:-15.531709 , -18.545989 , 1.827\n",
      "Accuracy[3.4]:-15.539649 , -18.502251 , 1.813\n",
      "Accuracy[3.4]:-15.547410 , -18.606258 , 1.842\n",
      "Accuracy[3.5]:-15.490461 , -18.601239 , 1.868\n",
      "Accuracy[3.5]:-15.479066 , -18.887623 , 1.902\n",
      "Accuracy[3.6]:-15.464786 , -18.925155 , 1.927\n",
      "Accuracy[3.6]:-15.471939 , -18.951208 , 1.925\n",
      "Accuracy[3.7]:-15.255906 , -18.974751 , 2.031\n",
      "Accuracy[3.7]:-15.147709 , -18.948276 , 2.048\n",
      "Accuracy[3.8]:-15.116194 , -18.950031 , 2.065\n",
      "Accuracy[3.8]:-15.122580 , -19.055309 , 2.117\n",
      "Accuracy[3.8]:-15.233408 , -19.102035 , 2.106\n",
      "Accuracy[3.9]:-15.239538 , -19.090357 , 2.097\n",
      "Accuracy[3.9]:-15.263581 , -19.118709 , 2.118\n",
      "Accuracy[4.0]:-15.257294 , -19.205769 , 2.173\n",
      "Accuracy[4.0]:-15.261254 , -19.214194 , 2.176\n",
      "Accuracy[4.1]:-15.265409 , -19.171239 , 2.164\n",
      "Accuracy[4.1]:-15.273530 , -19.139627 , 2.129\n",
      "Accuracy[4.2]:-15.274124 , -19.165076 , 2.142\n",
      "Accuracy[4.2]:-15.279417 , -19.113294 , 2.127\n",
      "Accuracy[4.3]:-16.556121 , -19.330128 , 1.647\n",
      "Accuracy[4.3]:-16.569226 , -19.340032 , 1.646\n",
      "Accuracy[4.3]:-16.598571 , -19.339481 , 1.634\n",
      "Accuracy[4.4]:-16.604576 , -19.346654 , 1.637\n",
      "Accuracy[4.4]:-16.532818 , -19.252157 , 1.632\n",
      "Accuracy[4.5]:-16.553307 , -19.239443 , 1.623\n",
      "Accuracy[4.5]:-16.547654 , -19.290855 , 1.630\n",
      "Accuracy[4.6]:-16.553214 , -19.432167 , 1.750\n",
      "Accuracy[4.6]:-16.478016 , -19.493108 , 1.800\n",
      "Accuracy[4.7]:-16.387688 , -19.485730 , 1.809\n",
      "Accuracy[4.7]:-16.948437 , -19.601891 , 1.615\n",
      "Accuracy[4.8]:-16.947588 , -19.697338 , 1.646\n",
      "Accuracy[4.8]:-16.951406 , -19.708615 , 1.662\n",
      "Accuracy[4.8]:-17.061950 , -19.749301 , 1.651\n",
      "Accuracy[4.9]:-17.008030 , -19.742810 , 1.659\n",
      "Accuracy[4.9]:-17.005844 , -19.746156 , 1.662\n",
      "Accuracy[5.0]:-17.011400 , -19.777410 , 1.656\n",
      "Accuracy[5.0]:-16.849856 , -19.694589 , 1.680\n",
      "Accuracy[5.1]:-16.859867 , -19.704140 , 1.677\n",
      "Accuracy[5.1]:-16.860030 , -19.662687 , 1.639\n",
      "Accuracy[5.2]:-16.842251 , -19.689464 , 1.655\n",
      "Accuracy[5.2]:-16.700939 , -19.678852 , 1.711\n",
      "Accuracy[5.3]:-16.695234 , -19.706866 , 1.749\n",
      "Accuracy[5.3]:-16.699764 , -19.679366 , 1.738\n",
      "Accuracy[5.3]:-16.704207 , -19.683933 , 1.738\n",
      "Accuracy[5.4]:-16.708564 , -19.711837 , 1.743\n",
      "Accuracy[5.4]:-16.709298 , -19.714924 , 1.744\n",
      "Accuracy[5.5]:-16.891734 , -19.752003 , 1.682\n",
      "Accuracy[5.5]:-17.640750 , -19.914452 , 1.441\n",
      "Accuracy[5.6]:-17.645610 , -19.892610 , 1.442\n",
      "Accuracy[5.6]:-17.650376 , -19.908443 , 1.454\n",
      "Accuracy[5.7]:-17.709531 , -19.935731 , 1.441\n",
      "Accuracy[5.7]:-17.714137 , -19.939777 , 1.441\n",
      "Accuracy[5.7]:-17.624549 , -19.931871 , 1.473\n",
      "Accuracy[5.8]:-17.628038 , -20.141964 , 1.449\n",
      "Accuracy[5.8]:-17.632429 , -20.322601 , 1.489\n",
      "Accuracy[5.9]:-17.636737 , -20.326546 , 1.489\n",
      "Accuracy[5.9]:-17.640963 , -20.204369 , 1.347\n",
      "Accuracy[6.0]:-17.774505 , -20.153218 , 1.236\n",
      "Accuracy[6.0]:-17.778270 , -20.156572 , 1.236\n",
      "Accuracy[6.1]:-17.773694 , -20.148440 , 1.239\n",
      "Accuracy[6.1]:-17.777687 , -20.099190 , 1.212\n",
      "Accuracy[6.2]:-17.795485 , -20.074126 , 1.196\n",
      "Accuracy[6.2]:-17.838863 , -20.076775 , 1.177\n",
      "Accuracy[6.2]:-17.842648 , -20.076234 , 1.177\n",
      "Accuracy[6.3]:-17.846364 , -20.081928 , 1.177\n",
      "Accuracy[6.3]:-17.850012 , -20.569816 , 1.876\n",
      "Accuracy[6.4]:-17.853595 , -20.583635 , 1.874\n",
      "Accuracy[6.4]:-17.857112 , -20.584066 , 1.874\n",
      "Accuracy[6.5]:-17.860567 , -20.632549 , 1.923\n",
      "Accuracy[6.5]:-17.863959 , -20.612625 , 1.928\n",
      "Accuracy[6.6]:-17.867291 , -20.623298 , 1.942\n",
      "Accuracy[6.6]:-17.870564 , -20.609220 , 1.943\n",
      "Accuracy[6.7]:-17.851168 , -20.605396 , 1.950\n",
      "Accuracy[6.7]:-17.854329 , -20.605951 , 1.952\n",
      "Accuracy[6.7]:-17.886904 , -20.621254 , 1.954\n",
      "Accuracy[6.8]:-17.889813 , -20.617736 , 1.956\n",
      "Accuracy[6.8]:-17.892672 , -20.615370 , 1.957\n",
      "Accuracy[6.9]:-17.895481 , -20.618006 , 1.958\n",
      "Accuracy[6.9]:-17.898241 , -20.622464 , 1.961\n",
      "Accuracy[7.0]:-17.900953 , -20.665159 , 1.954\n",
      "Accuracy[7.0]:-17.903618 , -20.684366 , 1.950\n",
      "Accuracy[7.1]:-17.984217 , -20.684990 , 1.930\n",
      "Accuracy[7.1]:-17.986852 , -20.687208 , 1.931\n",
      "Accuracy[7.2]:-17.996722 , -20.675348 , 1.932\n",
      "Accuracy[7.2]:-17.999275 , -20.677484 , 1.932\n",
      "Accuracy[7.2]:-18.986969 , -20.876621 , 1.684\n",
      "Accuracy[7.3]:-18.988808 , -20.976048 , 1.656\n",
      "Accuracy[7.3]:-18.990615 , -20.991063 , 1.651\n",
      "Accuracy[7.4]:-18.992390 , -20.992928 , 1.651\n",
      "Accuracy[7.4]:-18.994134 , -21.006815 , 1.647\n",
      "Accuracy[7.5]:-18.995847 , -21.008616 , 1.648\n",
      "Accuracy[7.5]:-18.997531 , -21.010387 , 1.648\n",
      "Accuracy[7.6]:-18.999186 , -21.012130 , 1.648\n",
      "Accuracy[7.6]:-19.005114 , -21.014703 , 1.647\n",
      "Accuracy[7.6]:-18.949664 , -21.008141 , 1.662\n",
      "Accuracy[7.7]:-18.951206 , -21.026969 , 1.656\n",
      "Accuracy[7.7]:-18.952722 , -21.019679 , 1.657\n",
      "Accuracy[7.8]:-18.954212 , -21.021276 , 1.657\n",
      "Accuracy[7.8]:-18.955675 , -21.055091 , 1.716\n",
      "Accuracy[7.9]:-18.957114 , -21.062871 , 1.716\n",
      "Accuracy[7.9]:-18.960417 , -21.064205 , 1.715\n",
      "Accuracy[8.0]:-18.961807 , -21.065694 , 1.715\n",
      "Accuracy[8.0]:-18.963174 , -21.064608 , 1.711\n",
      "Accuracy[8.1]:-18.971532 , -21.067452 , 1.709\n",
      "Accuracy[8.1]:-18.972867 , -21.022775 , 1.623\n",
      "Accuracy[8.1]:-18.974180 , -20.948282 , 1.632\n",
      "Accuracy[8.2]:-18.975472 , -20.949640 , 1.632\n",
      "Accuracy[8.2]:-18.991154 , -20.889888 , 1.653\n",
      "Accuracy[8.3]:-18.992406 , -20.891215 , 1.653\n",
      "Accuracy[8.3]:-19.555355 , -21.004865 , 1.536\n",
      "Accuracy[8.4]:-19.556599 , -21.006158 , 1.536\n",
      "Accuracy[8.4]:-19.557822 , -21.009287 , 1.535\n",
      "Accuracy[8.5]:-19.559026 , -21.014222 , 1.534\n",
      "Accuracy[8.5]:-19.560210 , -21.012092 , 1.535\n",
      "Accuracy[8.6]:-19.561375 , -21.013310 , 1.536\n",
      "Accuracy[8.6]:-19.562521 , -21.009491 , 1.538\n",
      "Accuracy[8.6]:-19.563648 , -21.010122 , 1.538\n",
      "Accuracy[8.7]:-19.564758 , -21.013335 , 1.542\n",
      "Accuracy[8.7]:-19.565850 , -21.003181 , 1.556\n",
      "Accuracy[8.8]:-19.566924 , -21.002853 , 1.556\n",
      "Accuracy[8.8]:-19.565109 , -21.003692 , 1.557\n",
      "Accuracy[8.9]:-19.551956 , -21.000626 , 1.560\n",
      "Accuracy[8.9]:-19.562586 , -21.003643 , 1.559\n",
      "Accuracy[9.0]:-19.563619 , -21.004729 , 1.559\n",
      "Accuracy[9.0]:-19.564637 , -21.014561 , 1.558\n",
      "Accuracy[9.1]:-19.565638 , -21.024515 , 1.555\n",
      "Accuracy[9.1]:-19.566624 , -21.073346 , 1.647\n",
      "Accuracy[9.1]:-19.567595 , -21.073906 , 1.648\n",
      "Accuracy[9.2]:-19.568551 , -21.074951 , 1.648\n",
      "Accuracy[9.2]:-19.569492 , -21.075465 , 1.647\n",
      "Accuracy[9.3]:-19.570419 , -21.076481 , 1.648\n",
      "Accuracy[9.3]:-19.690889 , -21.101394 , 1.627\n",
      "Accuracy[9.4]:-19.691729 , -21.102253 , 1.627\n",
      "Accuracy[9.4]:-19.692555 , -21.106974 , 1.634\n",
      "Accuracy[9.5]:-19.693369 , -21.107926 , 1.635\n",
      "Accuracy[9.5]:-19.694170 , -21.109243 , 1.635\n",
      "Accuracy[9.5]:-19.694959 , -21.062545 , 1.543\n",
      "Accuracy[9.6]:-19.695736 , -21.063471 , 1.543\n",
      "Accuracy[9.6]:-19.696501 , -21.071768 , 1.539\n",
      "Accuracy[9.7]:-19.697255 , -21.057331 , 1.546\n",
      "Accuracy[9.7]:-19.697997 , -21.058222 , 1.546\n",
      "Accuracy[9.8]:-19.698729 , -21.059101 , 1.546\n",
      "Accuracy[9.8]:-19.699449 , -21.062863 , 1.546\n",
      "Accuracy[9.9]:-19.700158 , -21.063723 , 1.546\n",
      "Accuracy[9.9]:-19.700857 , -21.064572 , 1.546\n",
      "Accuracy[10.0]:-19.701545 , -21.065408 , 1.546\n",
      "Accuracy[10.0]:-19.702224 , -21.086617 , 1.586\n"
     ]
    }
   ],
   "source": [
    "for x in list_optim:\n",
    "    print (\"Accuracy[%0.1f]:%0.6f , %0.6f , %0.3f\" % (x[0],x[1],x[2],x[3]))"
   ]
  },
  {
   "cell_type": "code",
   "execution_count": 67,
   "metadata": {},
   "outputs": [
    {
     "data": {
      "text/plain": [
       "array([  1.        , -19.70222365, -21.10924301,   1.17689929])"
      ]
     },
     "execution_count": 67,
     "metadata": {},
     "output_type": "execute_result"
    }
   ],
   "source": [
    "a=np.array(list_optim)\n",
    "np.amin(a, axis=0)"
   ]
  },
  {
   "cell_type": "code",
   "execution_count": null,
   "metadata": {},
   "outputs": [],
   "source": [
    "# tried 9.5 - maximum of average, wrong:\n",
    "# rec: Проверьте, верно ли вы находите значение функционала качества"
   ]
  }
 ],
 "metadata": {
  "kernelspec": {
   "display_name": "Python 3",
   "language": "python",
   "name": "python3"
  },
  "language_info": {
   "codemirror_mode": {
    "name": "ipython",
    "version": 3
   },
   "file_extension": ".py",
   "mimetype": "text/x-python",
   "name": "python",
   "nbconvert_exporter": "python",
   "pygments_lexer": "ipython3",
   "version": "3.6.4"
  }
 },
 "nbformat": 4,
 "nbformat_minor": 2
}
