{
 "cells": [
  {
   "cell_type": "code",
   "execution_count": 17,
   "metadata": {},
   "outputs": [],
   "source": [
    "import numpy as np\n",
    "import pandas \n",
    "#1 Загрузите обучающую и тестовую выборки из файлов perceptron-train.csv и perceptron-test.csv. \n",
    "# Целевая переменная записана в первом столбце, признаки — во втором и третьем.\n",
    "data_train = pandas.read_csv('perceptron-train.csv')\n",
    "data_test = pandas.read_csv('perceptron-test.csv')\n",
    "\n",
    "#data_train\n",
    "targVec= data_train.loc[:,['-1.0']]\n",
    "attrVec= data_train.loc[:,['-0.0246259814315','1174.60023796']]\n",
    "#print (targVec)\n",
    "#print (attrVec)\n",
    "#print (targVec,attrVec)\n",
    "\n",
    "X=np.array(attrVec)\n",
    "y=np.array(targVec)"
   ]
  },
  {
   "cell_type": "code",
   "execution_count": 28,
   "metadata": {},
   "outputs": [],
   "source": [
    "#data_test\n",
    "#-1.0\t1.6514365371\t1337.45382564\n"
   ]
  },
  {
   "cell_type": "code",
   "execution_count": 29,
   "metadata": {},
   "outputs": [],
   "source": [
    "\n",
    "TtargVec= data_test.loc[:,['-1.0']]\n",
    "TattrVec= data_test.loc[:,['1.6514365371','1337.45382564']]\n",
    "X_test=np.array(TattrVec)\n",
    "y_test=np.array(TtargVec)"
   ]
  },
  {
   "cell_type": "code",
   "execution_count": 30,
   "metadata": {},
   "outputs": [
    {
     "name": "stderr",
     "output_type": "stream",
     "text": [
      "/anaconda3/lib/python3.6/site-packages/sklearn/linear_model/stochastic_gradient.py:128: FutureWarning: max_iter and tol parameters have been added in <class 'sklearn.linear_model.perceptron.Perceptron'> in 0.19. If both are left unset, they default to max_iter=5 and tol=None. If tol is not None, max_iter defaults to max_iter=1000. From 0.21, default max_iter will be 1000, and default tol will be 1e-3.\n",
      "  \"and default tol will be 1e-3.\" % type(self), FutureWarning)\n"
     ]
    }
   ],
   "source": [
    "#2 Обучите персептрон со стандартными параметрами и random_state=241.\n",
    "from sklearn.linear_model import Perceptron\n",
    "clf = Perceptron(random_state=241)\n",
    "clf.fit(X, y.ravel())\n",
    "predictions = clf.predict(X)"
   ]
  },
  {
   "cell_type": "code",
   "execution_count": 31,
   "metadata": {},
   "outputs": [
    {
     "name": "stdout",
     "output_type": "stream",
     "text": [
      "-1.0 [1.]\n",
      "1.0 [-1.]\n",
      "-1.0 [-1.]\n",
      "1.0 [1.]\n",
      "1.0 [-1.]\n",
      "1.0 [1.]\n",
      "1.0 [1.]\n",
      "1.0 [1.]\n",
      "1.0 [1.]\n",
      "1.0 [-1.]\n"
     ]
    }
   ],
   "source": [
    "for i in range(0,10):\n",
    "    print (predictions[i],y[i])"
   ]
  },
  {
   "cell_type": "code",
   "execution_count": 32,
   "metadata": {},
   "outputs": [
    {
     "data": {
      "text/plain": [
       "0.7023411371237458"
      ]
     },
     "execution_count": 32,
     "metadata": {},
     "output_type": "execute_result"
    }
   ],
   "source": [
    "#3 Подсчитайте качество (долю правильно классифицированных объектов, accuracy)\n",
    "#полученного классификатора на тестовой выборке\n",
    "from sklearn.metrics import accuracy_score\n",
    "#accuracy_score(y_true, y_pred, normalize=True, sample_weight=None)[source]¶\n",
    "accuracy_score(y,predictions)"
   ]
  },
  {
   "cell_type": "code",
   "execution_count": 33,
   "metadata": {},
   "outputs": [],
   "source": [
    "#4 Нормализуйте обучающую и тестовую выборку с помощью класса StandardScaler.\n",
    "from sklearn.preprocessing import StandardScaler\n",
    "scaler = StandardScaler()\n",
    "X_train_scaled = scaler.fit_transform(X)\n",
    "X_test_scaled = scaler.transform(X_test)\n"
   ]
  },
  {
   "cell_type": "code",
   "execution_count": null,
   "metadata": {},
   "outputs": [],
   "source": [
    "# 5. Обучите персептрон на новой выборке. Найдите долю правильных ответов на тестовой выборке."
   ]
  }
 ],
 "metadata": {
  "kernelspec": {
   "display_name": "Python 3",
   "language": "python",
   "name": "python3"
  },
  "language_info": {
   "codemirror_mode": {
    "name": "ipython",
    "version": 3
   },
   "file_extension": ".py",
   "mimetype": "text/x-python",
   "name": "python",
   "nbconvert_exporter": "python",
   "pygments_lexer": "ipython3",
   "version": "3.6.4"
  }
 },
 "nbformat": 4,
 "nbformat_minor": 2
}
