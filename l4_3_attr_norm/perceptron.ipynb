{
 "cells": [
  {
   "cell_type": "code",
   "execution_count": 17,
   "metadata": {},
   "outputs": [],
   "source": [
    "import numpy as np\n",
    "import pandas \n",
    "#1 Загрузите обучающую и тестовую выборки из файлов perceptron-train.csv и perceptron-test.csv. \n",
    "# Целевая переменная записана в первом столбце, признаки — во втором и третьем.\n",
    "data_train = pandas.read_csv('perceptron-train.csv')\n",
    "data_test = pandas.read_csv('perceptron-test.csv')\n",
    "\n",
    "#data_train\n",
    "targVec= data_train.loc[:,['-1.0']]\n",
    "attrVec= data_train.loc[:,['-0.0246259814315','1174.60023796']]\n",
    "#print (targVec)\n",
    "#print (attrVec)\n",
    "#print (targVec,attrVec)\n",
    "\n",
    "X=np.array(attrVec)\n",
    "y=np.array(targVec)\n"
   ]
  },
  {
   "cell_type": "code",
   "execution_count": 19,
   "metadata": {},
   "outputs": [
    {
     "name": "stderr",
     "output_type": "stream",
     "text": [
      "/anaconda3/lib/python3.6/site-packages/sklearn/linear_model/stochastic_gradient.py:128: FutureWarning: max_iter and tol parameters have been added in <class 'sklearn.linear_model.perceptron.Perceptron'> in 0.19. If both are left unset, they default to max_iter=5 and tol=None. If tol is not None, max_iter defaults to max_iter=1000. From 0.21, default max_iter will be 1000, and default tol will be 1e-3.\n",
      "  \"and default tol will be 1e-3.\" % type(self), FutureWarning)\n"
     ]
    },
    {
     "data": {
      "text/plain": [
       "Perceptron(alpha=0.0001, class_weight=None, eta0=1.0, fit_intercept=True,\n",
       "      max_iter=None, n_iter=None, n_jobs=1, penalty=None, random_state=241,\n",
       "      shuffle=True, tol=None, verbose=0, warm_start=False)"
      ]
     },
     "execution_count": 19,
     "metadata": {},
     "output_type": "execute_result"
    }
   ],
   "source": [
    "#2 Обучите персептрон со стандартными параметрами и random_state=241.\n",
    "from sklearn.linear_model import Perceptron\n",
    "clf = Perceptron(random_state=241)\n",
    "clf.fit(X, y.ravel())"
   ]
  },
  {
   "cell_type": "code",
   "execution_count": null,
   "metadata": {},
   "outputs": [],
   "source": []
  }
 ],
 "metadata": {
  "kernelspec": {
   "display_name": "Python 3",
   "language": "python",
   "name": "python3"
  },
  "language_info": {
   "codemirror_mode": {
    "name": "ipython",
    "version": 3
   },
   "file_extension": ".py",
   "mimetype": "text/x-python",
   "name": "python",
   "nbconvert_exporter": "python",
   "pygments_lexer": "ipython3",
   "version": "3.6.4"
  }
 },
 "nbformat": 4,
 "nbformat_minor": 2
}
