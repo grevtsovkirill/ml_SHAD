{
 "cells": [
  {
   "cell_type": "markdown",
   "metadata": {},
   "source": [
    "Подход 1: градиентный бустинг \"в лоб\""
   ]
  },
  {
   "cell_type": "code",
   "execution_count": 1,
   "metadata": {},
   "outputs": [
    {
     "data": {
      "text/html": [
       "<div>\n",
       "<style scoped>\n",
       "    .dataframe tbody tr th:only-of-type {\n",
       "        vertical-align: middle;\n",
       "    }\n",
       "\n",
       "    .dataframe tbody tr th {\n",
       "        vertical-align: top;\n",
       "    }\n",
       "\n",
       "    .dataframe thead th {\n",
       "        text-align: right;\n",
       "    }\n",
       "</style>\n",
       "<table border=\"1\" class=\"dataframe\">\n",
       "  <thead>\n",
       "    <tr style=\"text-align: right;\">\n",
       "      <th></th>\n",
       "      <th>start_time</th>\n",
       "      <th>lobby_type</th>\n",
       "      <th>r1_hero</th>\n",
       "      <th>r1_level</th>\n",
       "      <th>r1_xp</th>\n",
       "      <th>r1_gold</th>\n",
       "      <th>r1_lh</th>\n",
       "      <th>r1_kills</th>\n",
       "      <th>r1_deaths</th>\n",
       "      <th>r1_items</th>\n",
       "      <th>...</th>\n",
       "      <th>dire_boots_count</th>\n",
       "      <th>dire_ward_observer_count</th>\n",
       "      <th>dire_ward_sentry_count</th>\n",
       "      <th>dire_first_ward_time</th>\n",
       "      <th>duration</th>\n",
       "      <th>radiant_win</th>\n",
       "      <th>tower_status_radiant</th>\n",
       "      <th>tower_status_dire</th>\n",
       "      <th>barracks_status_radiant</th>\n",
       "      <th>barracks_status_dire</th>\n",
       "    </tr>\n",
       "    <tr>\n",
       "      <th>match_id</th>\n",
       "      <th></th>\n",
       "      <th></th>\n",
       "      <th></th>\n",
       "      <th></th>\n",
       "      <th></th>\n",
       "      <th></th>\n",
       "      <th></th>\n",
       "      <th></th>\n",
       "      <th></th>\n",
       "      <th></th>\n",
       "      <th></th>\n",
       "      <th></th>\n",
       "      <th></th>\n",
       "      <th></th>\n",
       "      <th></th>\n",
       "      <th></th>\n",
       "      <th></th>\n",
       "      <th></th>\n",
       "      <th></th>\n",
       "      <th></th>\n",
       "      <th></th>\n",
       "    </tr>\n",
       "  </thead>\n",
       "  <tbody>\n",
       "    <tr>\n",
       "      <th>0</th>\n",
       "      <td>1430198770</td>\n",
       "      <td>7</td>\n",
       "      <td>11</td>\n",
       "      <td>5</td>\n",
       "      <td>2098</td>\n",
       "      <td>1489</td>\n",
       "      <td>20</td>\n",
       "      <td>0</td>\n",
       "      <td>0</td>\n",
       "      <td>7</td>\n",
       "      <td>...</td>\n",
       "      <td>4</td>\n",
       "      <td>2</td>\n",
       "      <td>2</td>\n",
       "      <td>-52.0</td>\n",
       "      <td>2874</td>\n",
       "      <td>1</td>\n",
       "      <td>1796</td>\n",
       "      <td>0</td>\n",
       "      <td>51</td>\n",
       "      <td>0</td>\n",
       "    </tr>\n",
       "    <tr>\n",
       "      <th>1</th>\n",
       "      <td>1430220345</td>\n",
       "      <td>0</td>\n",
       "      <td>42</td>\n",
       "      <td>4</td>\n",
       "      <td>1188</td>\n",
       "      <td>1033</td>\n",
       "      <td>9</td>\n",
       "      <td>0</td>\n",
       "      <td>1</td>\n",
       "      <td>12</td>\n",
       "      <td>...</td>\n",
       "      <td>4</td>\n",
       "      <td>3</td>\n",
       "      <td>1</td>\n",
       "      <td>-5.0</td>\n",
       "      <td>2463</td>\n",
       "      <td>1</td>\n",
       "      <td>1974</td>\n",
       "      <td>0</td>\n",
       "      <td>63</td>\n",
       "      <td>1</td>\n",
       "    </tr>\n",
       "    <tr>\n",
       "      <th>2</th>\n",
       "      <td>1430227081</td>\n",
       "      <td>7</td>\n",
       "      <td>33</td>\n",
       "      <td>4</td>\n",
       "      <td>1319</td>\n",
       "      <td>1270</td>\n",
       "      <td>22</td>\n",
       "      <td>0</td>\n",
       "      <td>0</td>\n",
       "      <td>12</td>\n",
       "      <td>...</td>\n",
       "      <td>4</td>\n",
       "      <td>3</td>\n",
       "      <td>1</td>\n",
       "      <td>13.0</td>\n",
       "      <td>2130</td>\n",
       "      <td>0</td>\n",
       "      <td>0</td>\n",
       "      <td>1830</td>\n",
       "      <td>0</td>\n",
       "      <td>63</td>\n",
       "    </tr>\n",
       "    <tr>\n",
       "      <th>3</th>\n",
       "      <td>1430263531</td>\n",
       "      <td>1</td>\n",
       "      <td>29</td>\n",
       "      <td>4</td>\n",
       "      <td>1779</td>\n",
       "      <td>1056</td>\n",
       "      <td>14</td>\n",
       "      <td>0</td>\n",
       "      <td>0</td>\n",
       "      <td>5</td>\n",
       "      <td>...</td>\n",
       "      <td>4</td>\n",
       "      <td>2</td>\n",
       "      <td>0</td>\n",
       "      <td>27.0</td>\n",
       "      <td>1459</td>\n",
       "      <td>0</td>\n",
       "      <td>1920</td>\n",
       "      <td>2047</td>\n",
       "      <td>50</td>\n",
       "      <td>63</td>\n",
       "    </tr>\n",
       "    <tr>\n",
       "      <th>4</th>\n",
       "      <td>1430282290</td>\n",
       "      <td>7</td>\n",
       "      <td>13</td>\n",
       "      <td>4</td>\n",
       "      <td>1431</td>\n",
       "      <td>1090</td>\n",
       "      <td>8</td>\n",
       "      <td>1</td>\n",
       "      <td>0</td>\n",
       "      <td>8</td>\n",
       "      <td>...</td>\n",
       "      <td>3</td>\n",
       "      <td>3</td>\n",
       "      <td>0</td>\n",
       "      <td>-16.0</td>\n",
       "      <td>2449</td>\n",
       "      <td>0</td>\n",
       "      <td>4</td>\n",
       "      <td>1974</td>\n",
       "      <td>3</td>\n",
       "      <td>63</td>\n",
       "    </tr>\n",
       "  </tbody>\n",
       "</table>\n",
       "<p>5 rows × 108 columns</p>\n",
       "</div>"
      ],
      "text/plain": [
       "          start_time  lobby_type  r1_hero  r1_level  r1_xp  r1_gold  r1_lh  \\\n",
       "match_id                                                                     \n",
       "0         1430198770           7       11         5   2098     1489     20   \n",
       "1         1430220345           0       42         4   1188     1033      9   \n",
       "2         1430227081           7       33         4   1319     1270     22   \n",
       "3         1430263531           1       29         4   1779     1056     14   \n",
       "4         1430282290           7       13         4   1431     1090      8   \n",
       "\n",
       "          r1_kills  r1_deaths  r1_items          ...           \\\n",
       "match_id                                         ...            \n",
       "0                0          0         7          ...            \n",
       "1                0          1        12          ...            \n",
       "2                0          0        12          ...            \n",
       "3                0          0         5          ...            \n",
       "4                1          0         8          ...            \n",
       "\n",
       "          dire_boots_count  dire_ward_observer_count  dire_ward_sentry_count  \\\n",
       "match_id                                                                       \n",
       "0                        4                         2                       2   \n",
       "1                        4                         3                       1   \n",
       "2                        4                         3                       1   \n",
       "3                        4                         2                       0   \n",
       "4                        3                         3                       0   \n",
       "\n",
       "          dire_first_ward_time  duration  radiant_win  tower_status_radiant  \\\n",
       "match_id                                                                      \n",
       "0                        -52.0      2874            1                  1796   \n",
       "1                         -5.0      2463            1                  1974   \n",
       "2                         13.0      2130            0                     0   \n",
       "3                         27.0      1459            0                  1920   \n",
       "4                        -16.0      2449            0                     4   \n",
       "\n",
       "          tower_status_dire  barracks_status_radiant  barracks_status_dire  \n",
       "match_id                                                                    \n",
       "0                         0                       51                     0  \n",
       "1                         0                       63                     1  \n",
       "2                      1830                        0                    63  \n",
       "3                      2047                       50                    63  \n",
       "4                      1974                        3                    63  \n",
       "\n",
       "[5 rows x 108 columns]"
      ]
     },
     "execution_count": 1,
     "metadata": {},
     "output_type": "execute_result"
    }
   ],
   "source": [
    "import pandas\n",
    "# 1. Считайте таблицу с признаками из файла features.csv с помощью кода, приведенного выше. \n",
    "features = pandas.read_csv('features.csv', index_col='match_id')\n",
    "features_test = pandas.read_csv('features_test.csv', index_col='match_id')\n",
    "features.head()"
   ]
  },
  {
   "cell_type": "code",
   "execution_count": 2,
   "metadata": {},
   "outputs": [
    {
     "data": {
      "text/html": [
       "<div>\n",
       "<style scoped>\n",
       "    .dataframe tbody tr th:only-of-type {\n",
       "        vertical-align: middle;\n",
       "    }\n",
       "\n",
       "    .dataframe tbody tr th {\n",
       "        vertical-align: top;\n",
       "    }\n",
       "\n",
       "    .dataframe thead th {\n",
       "        text-align: right;\n",
       "    }\n",
       "</style>\n",
       "<table border=\"1\" class=\"dataframe\">\n",
       "  <thead>\n",
       "    <tr style=\"text-align: right;\">\n",
       "      <th></th>\n",
       "      <th>start_time</th>\n",
       "      <th>lobby_type</th>\n",
       "      <th>r1_hero</th>\n",
       "      <th>r1_level</th>\n",
       "      <th>r1_xp</th>\n",
       "      <th>r1_gold</th>\n",
       "      <th>r1_lh</th>\n",
       "      <th>r1_kills</th>\n",
       "      <th>r1_deaths</th>\n",
       "      <th>r1_items</th>\n",
       "      <th>...</th>\n",
       "      <th>radiant_ward_sentry_count</th>\n",
       "      <th>radiant_first_ward_time</th>\n",
       "      <th>dire_bottle_time</th>\n",
       "      <th>dire_courier_time</th>\n",
       "      <th>dire_flying_courier_time</th>\n",
       "      <th>dire_tpscroll_count</th>\n",
       "      <th>dire_boots_count</th>\n",
       "      <th>dire_ward_observer_count</th>\n",
       "      <th>dire_ward_sentry_count</th>\n",
       "      <th>dire_first_ward_time</th>\n",
       "    </tr>\n",
       "    <tr>\n",
       "      <th>match_id</th>\n",
       "      <th></th>\n",
       "      <th></th>\n",
       "      <th></th>\n",
       "      <th></th>\n",
       "      <th></th>\n",
       "      <th></th>\n",
       "      <th></th>\n",
       "      <th></th>\n",
       "      <th></th>\n",
       "      <th></th>\n",
       "      <th></th>\n",
       "      <th></th>\n",
       "      <th></th>\n",
       "      <th></th>\n",
       "      <th></th>\n",
       "      <th></th>\n",
       "      <th></th>\n",
       "      <th></th>\n",
       "      <th></th>\n",
       "      <th></th>\n",
       "      <th></th>\n",
       "    </tr>\n",
       "  </thead>\n",
       "  <tbody>\n",
       "    <tr>\n",
       "      <th>0</th>\n",
       "      <td>1430198770</td>\n",
       "      <td>7</td>\n",
       "      <td>11</td>\n",
       "      <td>5</td>\n",
       "      <td>2098</td>\n",
       "      <td>1489</td>\n",
       "      <td>20</td>\n",
       "      <td>0</td>\n",
       "      <td>0</td>\n",
       "      <td>7</td>\n",
       "      <td>...</td>\n",
       "      <td>0</td>\n",
       "      <td>35.0</td>\n",
       "      <td>103.0</td>\n",
       "      <td>-84.0</td>\n",
       "      <td>221.0</td>\n",
       "      <td>3</td>\n",
       "      <td>4</td>\n",
       "      <td>2</td>\n",
       "      <td>2</td>\n",
       "      <td>-52.0</td>\n",
       "    </tr>\n",
       "    <tr>\n",
       "      <th>1</th>\n",
       "      <td>1430220345</td>\n",
       "      <td>0</td>\n",
       "      <td>42</td>\n",
       "      <td>4</td>\n",
       "      <td>1188</td>\n",
       "      <td>1033</td>\n",
       "      <td>9</td>\n",
       "      <td>0</td>\n",
       "      <td>1</td>\n",
       "      <td>12</td>\n",
       "      <td>...</td>\n",
       "      <td>0</td>\n",
       "      <td>-20.0</td>\n",
       "      <td>149.0</td>\n",
       "      <td>-84.0</td>\n",
       "      <td>195.0</td>\n",
       "      <td>5</td>\n",
       "      <td>4</td>\n",
       "      <td>3</td>\n",
       "      <td>1</td>\n",
       "      <td>-5.0</td>\n",
       "    </tr>\n",
       "    <tr>\n",
       "      <th>2</th>\n",
       "      <td>1430227081</td>\n",
       "      <td>7</td>\n",
       "      <td>33</td>\n",
       "      <td>4</td>\n",
       "      <td>1319</td>\n",
       "      <td>1270</td>\n",
       "      <td>22</td>\n",
       "      <td>0</td>\n",
       "      <td>0</td>\n",
       "      <td>12</td>\n",
       "      <td>...</td>\n",
       "      <td>1</td>\n",
       "      <td>-39.0</td>\n",
       "      <td>45.0</td>\n",
       "      <td>-77.0</td>\n",
       "      <td>221.0</td>\n",
       "      <td>3</td>\n",
       "      <td>4</td>\n",
       "      <td>3</td>\n",
       "      <td>1</td>\n",
       "      <td>13.0</td>\n",
       "    </tr>\n",
       "    <tr>\n",
       "      <th>3</th>\n",
       "      <td>1430263531</td>\n",
       "      <td>1</td>\n",
       "      <td>29</td>\n",
       "      <td>4</td>\n",
       "      <td>1779</td>\n",
       "      <td>1056</td>\n",
       "      <td>14</td>\n",
       "      <td>0</td>\n",
       "      <td>0</td>\n",
       "      <td>5</td>\n",
       "      <td>...</td>\n",
       "      <td>0</td>\n",
       "      <td>-30.0</td>\n",
       "      <td>124.0</td>\n",
       "      <td>-80.0</td>\n",
       "      <td>184.0</td>\n",
       "      <td>0</td>\n",
       "      <td>4</td>\n",
       "      <td>2</td>\n",
       "      <td>0</td>\n",
       "      <td>27.0</td>\n",
       "    </tr>\n",
       "    <tr>\n",
       "      <th>4</th>\n",
       "      <td>1430282290</td>\n",
       "      <td>7</td>\n",
       "      <td>13</td>\n",
       "      <td>4</td>\n",
       "      <td>1431</td>\n",
       "      <td>1090</td>\n",
       "      <td>8</td>\n",
       "      <td>1</td>\n",
       "      <td>0</td>\n",
       "      <td>8</td>\n",
       "      <td>...</td>\n",
       "      <td>0</td>\n",
       "      <td>46.0</td>\n",
       "      <td>182.0</td>\n",
       "      <td>-80.0</td>\n",
       "      <td>225.0</td>\n",
       "      <td>6</td>\n",
       "      <td>3</td>\n",
       "      <td>3</td>\n",
       "      <td>0</td>\n",
       "      <td>-16.0</td>\n",
       "    </tr>\n",
       "  </tbody>\n",
       "</table>\n",
       "<p>5 rows × 102 columns</p>\n",
       "</div>"
      ],
      "text/plain": [
       "          start_time  lobby_type  r1_hero  r1_level  r1_xp  r1_gold  r1_lh  \\\n",
       "match_id                                                                     \n",
       "0         1430198770           7       11         5   2098     1489     20   \n",
       "1         1430220345           0       42         4   1188     1033      9   \n",
       "2         1430227081           7       33         4   1319     1270     22   \n",
       "3         1430263531           1       29         4   1779     1056     14   \n",
       "4         1430282290           7       13         4   1431     1090      8   \n",
       "\n",
       "          r1_kills  r1_deaths  r1_items          ...           \\\n",
       "match_id                                         ...            \n",
       "0                0          0         7          ...            \n",
       "1                0          1        12          ...            \n",
       "2                0          0        12          ...            \n",
       "3                0          0         5          ...            \n",
       "4                1          0         8          ...            \n",
       "\n",
       "          radiant_ward_sentry_count  radiant_first_ward_time  \\\n",
       "match_id                                                       \n",
       "0                                 0                     35.0   \n",
       "1                                 0                    -20.0   \n",
       "2                                 1                    -39.0   \n",
       "3                                 0                    -30.0   \n",
       "4                                 0                     46.0   \n",
       "\n",
       "          dire_bottle_time  dire_courier_time  dire_flying_courier_time  \\\n",
       "match_id                                                                  \n",
       "0                    103.0              -84.0                     221.0   \n",
       "1                    149.0              -84.0                     195.0   \n",
       "2                     45.0              -77.0                     221.0   \n",
       "3                    124.0              -80.0                     184.0   \n",
       "4                    182.0              -80.0                     225.0   \n",
       "\n",
       "          dire_tpscroll_count  dire_boots_count  dire_ward_observer_count  \\\n",
       "match_id                                                                    \n",
       "0                           3                 4                         2   \n",
       "1                           5                 4                         3   \n",
       "2                           3                 4                         3   \n",
       "3                           0                 4                         2   \n",
       "4                           6                 3                         3   \n",
       "\n",
       "          dire_ward_sentry_count  dire_first_ward_time  \n",
       "match_id                                                \n",
       "0                              2                 -52.0  \n",
       "1                              1                  -5.0  \n",
       "2                              1                  13.0  \n",
       "3                              0                  27.0  \n",
       "4                              0                 -16.0  \n",
       "\n",
       "[5 rows x 102 columns]"
      ]
     },
     "execution_count": 2,
     "metadata": {},
     "output_type": "execute_result"
    }
   ],
   "source": [
    "#Удалите признаки, связанные с итогами матча (они помечены в описании данных как отсутствующиев тестовой выборке).:\n",
    "y = features['radiant_win'].to_frame()\n",
    "#Итог матча: duration: длительность; radiant_win: 1, если победила команда Radiant, 0 — иначе; \n",
    "#Состояние башен и барраков к концу матча: tower_status_radiant; tower_status_dire;barracks_status_radiant; barracks_status_dire\n",
    "features.drop(['duration',\n",
    "               'radiant_win',\n",
    "               'tower_status_radiant', \n",
    "               'tower_status_dire', \n",
    "               'barracks_status_radiant',\n",
    "               'barracks_status_dire'], axis=1, inplace=True)\n",
    "features.head()"
   ]
  },
  {
   "cell_type": "code",
   "execution_count": 3,
   "metadata": {},
   "outputs": [],
   "source": [
    "# 2. Проверьте выборку на наличие пропусков с помощью функции count(), которая для каждого столбца показывает число заполненных значений. \n",
    "def check_missing(features):\n",
    "    list_of_columns=list(features)\n",
    "    num_rows=len(features)\n",
    "    print (\"N_features %.f, N_rows %.f\" % (len(list_of_columns),num_rows))\n",
    "\n",
    "    list_of_incomplete=[]\n",
    "    print (\"Missing: \")\n",
    "    for i in range(0,len(list_of_columns)-1):\n",
    "        i_count = features[list_of_columns[i]].count()\n",
    "        if i_count!=num_rows:\n",
    "            print (\"%s , %.f \" % (list_of_columns[i],100-i_count/num_rows*100))\n",
    "            list_of_incomplete.append((i,list_of_columns[i],100-i_count/num_rows*100))\n",
    "#list_of_columns[len(list_of_columns)-1]\n",
    "    return list_of_incomplete\n"
   ]
  },
  {
   "cell_type": "code",
   "execution_count": 4,
   "metadata": {},
   "outputs": [
    {
     "name": "stdout",
     "output_type": "stream",
     "text": [
      "N_features 102, N_rows 97230\n",
      "Missing: \n",
      "first_blood_time , 20 \n",
      "first_blood_team , 20 \n",
      "first_blood_player1 , 20 \n",
      "first_blood_player2 , 45 \n",
      "radiant_bottle_time , 16 \n",
      "radiant_courier_time , 1 \n",
      "radiant_flying_courier_time , 28 \n",
      "radiant_first_ward_time , 2 \n",
      "dire_bottle_time , 17 \n",
      "dire_courier_time , 1 \n",
      "dire_flying_courier_time , 27 \n"
     ]
    }
   ],
   "source": [
    "list_initial = check_missing(features)"
   ]
  },
  {
   "cell_type": "code",
   "execution_count": 5,
   "metadata": {},
   "outputs": [
    {
     "data": {
      "text/plain": [
       "[(95, 'dire_courier_time', 0.6952586650210861),\n",
       " (87, 'radiant_courier_time', 0.7117144914121241),\n",
       " (93, 'radiant_first_ward_time', 1.8883060783708743),\n",
       " (86, 'radiant_bottle_time', 16.138023243854775),\n",
       " (94, 'dire_bottle_time', 16.602900339401415),\n",
       " (82, 'first_blood_time', 20.110048338990026),\n",
       " (83, 'first_blood_team', 20.110048338990026),\n",
       " (84, 'first_blood_player1', 20.110048338990026),\n",
       " (96, 'dire_flying_courier_time', 26.841509822071373),\n",
       " (88, 'radiant_flying_courier_time', 28.261853337447292),\n",
       " (85, 'first_blood_player2', 45.240152216394115)]"
      ]
     },
     "execution_count": 5,
     "metadata": {},
     "output_type": "execute_result"
    }
   ],
   "source": [
    "#Много ли пропусков в данных? \n",
    "len(list_initial)\n",
    "\n",
    "list_initial.sort(key=lambda x:x[2])\n",
    "list_initial"
   ]
  },
  {
   "cell_type": "raw",
   "metadata": {},
   "source": [
    "Запишите названия признаков, имеющих пропуски, и попробуйте для любых двух из них дать обоснование, почему их значения могут быть пропущены:\n",
    "1. first_blood_player2 (второй игрок, причастный к событию) - в 55% случаев только 1 игрок причастен к событию;\n",
    "2. radiant_flying_courier_time (время приобретения предмета \"flying_courier\") - в 72% случаев этот предмет не покупается \n"
   ]
  },
  {
   "cell_type": "code",
   "execution_count": 6,
   "metadata": {},
   "outputs": [
    {
     "name": "stdout",
     "output_type": "stream",
     "text": [
      "N_features 102, N_rows 97230\n",
      "Missing: \n"
     ]
    }
   ],
   "source": [
    "# 3. Замените пропуски на нули с помощью функции fillna(). \n",
    "features_clean = features.fillna(0)\n",
    "#Check:\n",
    "list_of_mis_after_clean = check_missing(features_clean)"
   ]
  },
  {
   "cell_type": "code",
   "execution_count": 7,
   "metadata": {},
   "outputs": [
    {
     "data": {
      "text/plain": [
       "['radiant_win']"
      ]
     },
     "execution_count": 7,
     "metadata": {},
     "output_type": "execute_result"
    }
   ],
   "source": [
    "# 4. Какой столбец содержит целевую переменную? Запишите его название.\n",
    "list(y)\n"
   ]
  },
  {
   "cell_type": "code",
   "execution_count": 8,
   "metadata": {},
   "outputs": [
    {
     "name": "stderr",
     "output_type": "stream",
     "text": [
      "/anaconda3/lib/python3.6/site-packages/sklearn/cross_validation.py:41: DeprecationWarning: This module was deprecated in version 0.18 in favor of the model_selection module into which all the refactored classes and functions are moved. Also note that the interface of the new CV iterators are different from that of this module. This module will be removed in 0.20.\n",
      "  \"This module will be removed in 0.20.\", DeprecationWarning)\n"
     ]
    }
   ],
   "source": [
    "# 5. Забудем, что в выборке есть категориальные признаки, и попробуем обучить градиентный бустинг\n",
    "# над деревьями на имеющейся матрице \"объекты-признаки\". \n",
    "#Зафиксируйте генератор разбиений для кросс-валидации по 5 блокам (KFold), \n",
    "#не забудьте перемешать при этом выборку (shuffle=True), поскольку данные в таблице \n",
    "#отсортированы по времени, и без перемешивания можно столкнуться с нежелательными эффектами \n",
    "#при оценивании качества. \n",
    "from sklearn.cross_validation import KFold,cross_val_score\n",
    "kf = KFold(y.size, n_folds=5, shuffle=True, random_state=241)"
   ]
  },
  {
   "cell_type": "code",
   "execution_count": 9,
   "metadata": {},
   "outputs": [
    {
     "name": "stdout",
     "output_type": "stream",
     "text": [
      "Time elapsed: 0:00:03.001411\n"
     ]
    }
   ],
   "source": [
    "#Оцените качество градиентного бустинга (GradientBoostingClassifier) с помощью данной \n",
    "#кросс-валидации, попробуйте при этом разное количество деревьев (как минимум протестируйте \n",
    "#следующие значения для количества деревьев: 10, 20, 30). \n",
    "\n",
    "#Долго ли настраивались классификаторы? \n",
    "import time\n",
    "import datetime\n",
    "start_time = datetime.datetime.now()\n",
    "time.sleep(3) # вместо этой строчки разместить замеряемый код\n",
    "print ('Time elapsed:', datetime.datetime.now() - start_time)\n"
   ]
  },
  {
   "cell_type": "code",
   "execution_count": 10,
   "metadata": {},
   "outputs": [
    {
     "name": "stdout",
     "output_type": "stream",
     "text": [
      "Time elapsed: 0:00:19.296906\n",
      "[0.66943496 0.65627754 0.66390454 0.66281223 0.66950933]\n",
      "Time elapsed: 0:00:35.280699\n",
      "[0.68939011 0.67567277 0.68201026 0.67977584 0.68741889]\n",
      "Time elapsed: 0:00:56.224454\n",
      "[0.69641668 0.68365441 0.68731862 0.68728458 0.69280674]\n",
      "Time elapsed: 0:01:23.578763\n",
      "[0.70382382 0.69325852 0.69452532 0.69565719 0.7000093 ]\n",
      "Time elapsed: 0:01:55.002650\n",
      "[0.70784114 0.69833267 0.6990506  0.70019753 0.70473656]\n",
      "Time elapsed: 0:02:43.064857\n",
      "[0.71211028 0.70275727 0.70340522 0.70450889 0.70884943]\n",
      "Time elapsed: 0:04:06.177800\n",
      "[0.71546705 0.70731614 0.70793497 0.70887821 0.71252658]\n",
      "Time elapsed: 0:05:23.668560\n",
      "[0.71884063 0.71030142 0.71135838 0.71139223 0.71574489]\n"
     ]
    }
   ],
   "source": [
    "from sklearn.ensemble import GradientBoostingClassifier\n",
    "import numpy as np\n",
    "gb_qual = []\n",
    "n_trees = [10, 20, 30, 50, 70,100,150,200]\n",
    "Y=np.array(y)\n",
    "for i in n_trees:\n",
    "    gb = GradientBoostingClassifier(n_estimators=i, random_state=241)\n",
    "    start_time = datetime.datetime.now()\n",
    "    gb_scores = cross_val_score(gb, features_clean, Y.ravel(), cv=kf, scoring='roc_auc')\n",
    "    run_time=datetime.datetime.now() - start_time\n",
    "    print ('Time elapsed:', run_time)\n",
    "    print (gb_scores)\n",
    "    gb_qual.append((i,run_time,np.mean(gb_scores)))"
   ]
  },
  {
   "cell_type": "code",
   "execution_count": 11,
   "metadata": {},
   "outputs": [
    {
     "data": {
      "text/plain": [
       "[(10, datetime.timedelta(0, 19, 296906), 0.6643877206345742),\n",
       " (20, datetime.timedelta(0, 35, 280699), 0.6828535735340822),\n",
       " (30, datetime.timedelta(0, 56, 224454), 0.6894962060591201),\n",
       " (50, datetime.timedelta(0, 83, 578763), 0.6974548316948366),\n",
       " (70, datetime.timedelta(0, 115, 2650), 0.7020316980434622),\n",
       " (100, datetime.timedelta(0, 163, 64857), 0.7063262181631453),\n",
       " (150, datetime.timedelta(0, 246, 177800), 0.7104245908535362),\n",
       " (200, datetime.timedelta(0, 323, 668560), 0.713527508807472)]"
      ]
     },
     "execution_count": 11,
     "metadata": {},
     "output_type": "execute_result"
    }
   ],
   "source": [
    "#Достигнут ли оптимум на испытанных значениях параметра n_estimators, или же качество, \n",
    "#скорее всего, продолжит расти при дальнейшем его увеличении?\n",
    "gb_qual"
   ]
  },
  {
   "cell_type": "markdown",
   "metadata": {},
   "source": [
    "Report\n",
    "\n",
    "Q1. Какие признаки имеют пропуски среди своих значений? Что могут означать пропуски в этих признаках (ответьте на этот вопрос для двух любых признаков)?\n",
    "A1.:\n",
    "1. first_blood_player2 (второй игрок, причастный к событию) - в 55% случаев только 1 игрок причастен к событию;\n",
    "2. radiant_flying_courier_time (время приобретения предмета \"flying_courier\") - в 72% случаев этот предмет не покупается\n",
    "\n",
    "Q2. Как называется столбец, содержащий целевую переменную?\n",
    "A2.:\n",
    "['radiant_win']\n",
    "\n",
    "Q3.1 Как долго проводилась кросс-валидация для градиентного бустинга с 30 деревьями? \n",
    "Q3.2 Какое качество при этом получилось?\n",
    "A3.1: для 30 деревьев 56 секунд, \n",
    "A3.2: качество = 0.69\n",
    "\n",
    "Q4.1 Имеет ли смысл использовать больше 30 деревьев в градиентном бустинге? \n",
    "Q4.2 Что бы вы предложили делать, чтобы ускорить его обучение при увеличении количества деревьев?\n",
    "A4.1: Нет, после 30 деревьев качество можно увеличить до 71% на 200 деревьях, но лучше стоит подобрать более оптимальный алгоритм\n",
    "A4.2: Можно обучать на подвыборках, либо уменьшить глубину"
   ]
  },
  {
   "cell_type": "code",
   "execution_count": 12,
   "metadata": {},
   "outputs": [
    {
     "data": {
      "text/plain": [
       "GradientBoostingClassifier(criterion='friedman_mse', init=None,\n",
       "              learning_rate=0.1, loss='deviance', max_depth=3,\n",
       "              max_features=None, max_leaf_nodes=None,\n",
       "              min_impurity_decrease=0.0, min_impurity_split=None,\n",
       "              min_samples_leaf=1, min_samples_split=2,\n",
       "              min_weight_fraction_leaf=0.0, n_estimators=250,\n",
       "              presort='auto', random_state=241, subsample=1.0, verbose=0,\n",
       "              warm_start=False)"
      ]
     },
     "execution_count": 12,
     "metadata": {},
     "output_type": "execute_result"
    }
   ],
   "source": [
    "gb = GradientBoostingClassifier(n_estimators=250, random_state=241)\n",
    "gb.fit(features_clean, Y.ravel())"
   ]
  },
  {
   "cell_type": "code",
   "execution_count": 13,
   "metadata": {},
   "outputs": [
    {
     "data": {
      "text/plain": [
       "array([0.45677799, 0.69648984, 0.41123343, ..., 0.2297639 , 0.34162075,\n",
       "       0.58538676])"
      ]
     },
     "execution_count": 13,
     "metadata": {},
     "output_type": "execute_result"
    }
   ],
   "source": [
    "features_test_clean = features_test.fillna(0)\n",
    "gb.predict_proba(features_test_clean)[:,1]"
   ]
  },
  {
   "cell_type": "markdown",
   "metadata": {},
   "source": [
    "Подход 2: логистическая регресси"
   ]
  },
  {
   "cell_type": "code",
   "execution_count": 14,
   "metadata": {},
   "outputs": [],
   "source": [
    "# Важно: не забывайте, что линейные алгоритмы чувствительны к масштабу признаков! \n",
    "# Может пригодиться sklearn.preprocessing.StandartScaler.\n",
    "\n",
    "import numpy as np\n",
    "import pandas\n",
    "import time\n",
    "import datetime\n",
    "from sklearn.preprocessing import StandardScaler\n",
    "from sklearn.cross_validation import KFold,cross_val_score\n",
    "\n",
    "features = pandas.read_csv('features.csv', index_col='match_id')\n",
    "features_test = pandas.read_csv('features_test.csv', index_col='match_id')\n",
    "y = features['radiant_win'].to_frame()\n",
    "features.drop(['duration',\n",
    "               'radiant_win',\n",
    "               'tower_status_radiant', \n",
    "               'tower_status_dire', \n",
    "               'barracks_status_radiant',\n",
    "               'barracks_status_dire'], axis=1, inplace=True)\n",
    "features_clean = features.fillna(0)\n",
    "features_test_clean = features_test.fillna(0)\n",
    "\n",
    "rescale_attr = StandardScaler()\n",
    "features_fin = rescale_attr.fit_transform(features_clean)\n",
    "Y=np.array(y)\n",
    "\n",
    "\n",
    "kf = KFold(y.size, n_folds=5, shuffle=True, random_state=241)"
   ]
  },
  {
   "cell_type": "code",
   "execution_count": 19,
   "metadata": {},
   "outputs": [],
   "source": [
    "#1. Оцените качество логистической регрессии (sklearn.linear_model.LogisticRegression с \n",
    "# L2-регуляризацией) с помощью кросс-валидации по той же схеме, которая использовалась для \n",
    "# градиентного бустинга. \n",
    "from sklearn.linear_model import LogisticRegression\n",
    "lr_qual =[]\n",
    "def run_LogReg(features_fin,Y):\n",
    "    for i in range(-5,5):\n",
    "        C=10**i\n",
    "        lr = LogisticRegression(C=C, random_state=241)\n",
    "        start_time = datetime.datetime.now()\n",
    "        lr_scores = cross_val_score(lr, features_fin, Y.ravel(), cv=kf, scoring='roc_auc')\n",
    "        run_time=datetime.datetime.now() - start_time\n",
    "        print ('Time elapsed:', run_time)\n",
    "        print (lr_scores)\n",
    "        lr_qual.append((i,C,run_time.total_seconds(),np.mean(lr_scores)))\n",
    "    return lr_qual"
   ]
  },
  {
   "cell_type": "code",
   "execution_count": 20,
   "metadata": {},
   "outputs": [
    {
     "name": "stdout",
     "output_type": "stream",
     "text": [
      "Time elapsed: 0:00:03.029860\n",
      "[0.69959206 0.69159358 0.69419291 0.69433159 0.69589176]\n",
      "Time elapsed: 0:00:04.489936\n",
      "[0.7161759  0.7083769  0.70960313 0.71017245 0.71192219]\n",
      "Time elapsed: 0:00:08.621488\n",
      "[0.72134945 0.71368677 0.71425051 0.71512064 0.71649386]\n",
      "Time elapsed: 0:00:11.336046\n",
      "[0.7216634  0.71377395 0.71440813 0.71540233 0.7164595 ]\n",
      "Time elapsed: 0:00:11.218287\n",
      "[0.72165841 0.7137031  0.71438941 0.71539496 0.71640454]\n",
      "Time elapsed: 0:00:11.969031\n",
      "[0.72165762 0.71369565 0.71438656 0.71539329 0.7163998 ]\n",
      "Time elapsed: 0:00:12.130469\n",
      "[0.72165702 0.7136947  0.71438623 0.71539423 0.71639952]\n",
      "Time elapsed: 0:00:11.724836\n",
      "[0.72165734 0.71369455 0.7143859  0.71539408 0.71639946]\n",
      "Time elapsed: 0:00:11.818378\n",
      "[0.72165734 0.71369457 0.71438593 0.71539409 0.71639938]\n",
      "Time elapsed: 0:00:13.207464\n",
      "[0.72165733 0.71369457 0.71438593 0.71539407 0.71639938]\n"
     ]
    }
   ],
   "source": [
    "lr_qual = run_LogReg(features_fin, Y)"
   ]
  },
  {
   "cell_type": "code",
   "execution_count": 21,
   "metadata": {},
   "outputs": [],
   "source": [
    "# Подберите при этом лучший параметр регуляризации (C).\n",
    "def bestC(lr_qual):\n",
    "    lr_qual.sort(key=lambda x:x[3])\n",
    "    return max(lr_qual, key=lambda x: x[3])[3], max(lr_qual, key=lambda x: x[3])[1]"
   ]
  },
  {
   "cell_type": "code",
   "execution_count": 23,
   "metadata": {},
   "outputs": [
    {
     "name": "stdout",
     "output_type": "stream",
     "text": [
      "best val=0.7163, with C=0.01\n"
     ]
    },
    {
     "data": {
      "text/plain": [
       "0.716341462186996"
      ]
     },
     "execution_count": 23,
     "metadata": {},
     "output_type": "execute_result"
    }
   ],
   "source": [
    "# Какое наилучшее качество у вас получилось?\n",
    "all_values = bestC(lr_qual)[0]\n",
    "all_C = bestC(lr_qual)[1]\n",
    "print (\"best val=%.4f, with C=%.2f\" % (all_values,all_C))\n",
    "all_values"
   ]
  },
  {
   "cell_type": "code",
   "execution_count": 24,
   "metadata": {},
   "outputs": [
    {
     "data": {
      "text/plain": [
       "11.336046"
      ]
     },
     "execution_count": 24,
     "metadata": {},
     "output_type": "execute_result"
    }
   ],
   "source": [
    "# Быстрее ли работает логистическая регрессия по сравнению с градиентным бустингом?\n",
    "time_required = max(lr_qual, key=lambda x: x[3])[2]\n",
    "time_required #=11.336046\n",
    "# GB@200trees t=323s"
   ]
  },
  {
   "cell_type": "code",
   "execution_count": 32,
   "metadata": {},
   "outputs": [],
   "source": [
    "#2. Среди признаков в выборке есть категориальные, которые мы использовали как числовые, \n",
    "#что вряд ли является хорошей идеей.\n",
    "#Категориальных признаков в этой задаче одиннадцать: lobby_type и r1_hero, r2_hero, ..., r5_hero, d1_hero, \n",
    "#d2_hero, ..., d5_hero. Уберите их из выборки,\n",
    "features_clean_nocat=features_clean.copy()\n"
   ]
  },
  {
   "cell_type": "code",
   "execution_count": 33,
   "metadata": {},
   "outputs": [],
   "source": [
    "def remove_cat_attr(features_nocat):\n",
    "    del features_nocat['lobby_type']\n",
    "    for n in range(1, 6):\n",
    "        del features_nocat['r{}_hero'.format(n)]\n",
    "        del features_nocat['d{}_hero'.format(n)]\n",
    "    return features_nocat"
   ]
  },
  {
   "cell_type": "code",
   "execution_count": 34,
   "metadata": {},
   "outputs": [
    {
     "data": {
      "text/html": [
       "<div>\n",
       "<style scoped>\n",
       "    .dataframe tbody tr th:only-of-type {\n",
       "        vertical-align: middle;\n",
       "    }\n",
       "\n",
       "    .dataframe tbody tr th {\n",
       "        vertical-align: top;\n",
       "    }\n",
       "\n",
       "    .dataframe thead th {\n",
       "        text-align: right;\n",
       "    }\n",
       "</style>\n",
       "<table border=\"1\" class=\"dataframe\">\n",
       "  <thead>\n",
       "    <tr style=\"text-align: right;\">\n",
       "      <th></th>\n",
       "      <th>start_time</th>\n",
       "      <th>r1_level</th>\n",
       "      <th>r1_xp</th>\n",
       "      <th>r1_gold</th>\n",
       "      <th>r1_lh</th>\n",
       "      <th>r1_kills</th>\n",
       "      <th>r1_deaths</th>\n",
       "      <th>r1_items</th>\n",
       "      <th>r2_level</th>\n",
       "      <th>r2_xp</th>\n",
       "      <th>...</th>\n",
       "      <th>radiant_ward_sentry_count</th>\n",
       "      <th>radiant_first_ward_time</th>\n",
       "      <th>dire_bottle_time</th>\n",
       "      <th>dire_courier_time</th>\n",
       "      <th>dire_flying_courier_time</th>\n",
       "      <th>dire_tpscroll_count</th>\n",
       "      <th>dire_boots_count</th>\n",
       "      <th>dire_ward_observer_count</th>\n",
       "      <th>dire_ward_sentry_count</th>\n",
       "      <th>dire_first_ward_time</th>\n",
       "    </tr>\n",
       "    <tr>\n",
       "      <th>match_id</th>\n",
       "      <th></th>\n",
       "      <th></th>\n",
       "      <th></th>\n",
       "      <th></th>\n",
       "      <th></th>\n",
       "      <th></th>\n",
       "      <th></th>\n",
       "      <th></th>\n",
       "      <th></th>\n",
       "      <th></th>\n",
       "      <th></th>\n",
       "      <th></th>\n",
       "      <th></th>\n",
       "      <th></th>\n",
       "      <th></th>\n",
       "      <th></th>\n",
       "      <th></th>\n",
       "      <th></th>\n",
       "      <th></th>\n",
       "      <th></th>\n",
       "      <th></th>\n",
       "    </tr>\n",
       "  </thead>\n",
       "  <tbody>\n",
       "    <tr>\n",
       "      <th>0</th>\n",
       "      <td>1430198770</td>\n",
       "      <td>5</td>\n",
       "      <td>2098</td>\n",
       "      <td>1489</td>\n",
       "      <td>20</td>\n",
       "      <td>0</td>\n",
       "      <td>0</td>\n",
       "      <td>7</td>\n",
       "      <td>3</td>\n",
       "      <td>842</td>\n",
       "      <td>...</td>\n",
       "      <td>0</td>\n",
       "      <td>35.0</td>\n",
       "      <td>103.0</td>\n",
       "      <td>-84.0</td>\n",
       "      <td>221.0</td>\n",
       "      <td>3</td>\n",
       "      <td>4</td>\n",
       "      <td>2</td>\n",
       "      <td>2</td>\n",
       "      <td>-52.0</td>\n",
       "    </tr>\n",
       "    <tr>\n",
       "      <th>1</th>\n",
       "      <td>1430220345</td>\n",
       "      <td>4</td>\n",
       "      <td>1188</td>\n",
       "      <td>1033</td>\n",
       "      <td>9</td>\n",
       "      <td>0</td>\n",
       "      <td>1</td>\n",
       "      <td>12</td>\n",
       "      <td>4</td>\n",
       "      <td>1596</td>\n",
       "      <td>...</td>\n",
       "      <td>0</td>\n",
       "      <td>-20.0</td>\n",
       "      <td>149.0</td>\n",
       "      <td>-84.0</td>\n",
       "      <td>195.0</td>\n",
       "      <td>5</td>\n",
       "      <td>4</td>\n",
       "      <td>3</td>\n",
       "      <td>1</td>\n",
       "      <td>-5.0</td>\n",
       "    </tr>\n",
       "  </tbody>\n",
       "</table>\n",
       "<p>2 rows × 91 columns</p>\n",
       "</div>"
      ],
      "text/plain": [
       "          start_time  r1_level  r1_xp  r1_gold  r1_lh  r1_kills  r1_deaths  \\\n",
       "match_id                                                                     \n",
       "0         1430198770         5   2098     1489     20         0          0   \n",
       "1         1430220345         4   1188     1033      9         0          1   \n",
       "\n",
       "          r1_items  r2_level  r2_xp          ...           \\\n",
       "match_id                                     ...            \n",
       "0                7         3    842          ...            \n",
       "1               12         4   1596          ...            \n",
       "\n",
       "          radiant_ward_sentry_count  radiant_first_ward_time  \\\n",
       "match_id                                                       \n",
       "0                                 0                     35.0   \n",
       "1                                 0                    -20.0   \n",
       "\n",
       "          dire_bottle_time  dire_courier_time  dire_flying_courier_time  \\\n",
       "match_id                                                                  \n",
       "0                    103.0              -84.0                     221.0   \n",
       "1                    149.0              -84.0                     195.0   \n",
       "\n",
       "          dire_tpscroll_count  dire_boots_count  dire_ward_observer_count  \\\n",
       "match_id                                                                    \n",
       "0                           3                 4                         2   \n",
       "1                           5                 4                         3   \n",
       "\n",
       "          dire_ward_sentry_count  dire_first_ward_time  \n",
       "match_id                                                \n",
       "0                              2                 -52.0  \n",
       "1                              1                  -5.0  \n",
       "\n",
       "[2 rows x 91 columns]"
      ]
     },
     "execution_count": 34,
     "metadata": {},
     "output_type": "execute_result"
    }
   ],
   "source": [
    "#remove category-attributes\n",
    "remove_cat_attr(features_clean_nocat)\n",
    "features_clean_nocat[:2]"
   ]
  },
  {
   "cell_type": "code",
   "execution_count": 35,
   "metadata": {},
   "outputs": [],
   "source": [
    "#normalize attributes\n",
    "features_fin_nocat = rescale_attr.fit_transform(features_clean_nocat)"
   ]
  },
  {
   "cell_type": "code",
   "execution_count": 36,
   "metadata": {},
   "outputs": [
    {
     "name": "stdout",
     "output_type": "stream",
     "text": [
      "Time elapsed: 0:00:02.696174\n",
      "[0.69961316 0.69150564 0.69419646 0.69425458 0.69571482]\n",
      "Time elapsed: 0:00:03.777219\n",
      "[0.71630684 0.70828717 0.70971489 0.71020968 0.71172337]\n",
      "Time elapsed: 0:00:07.729608\n",
      "[0.72152794 0.71360976 0.71445497 0.71521698 0.71636831]\n",
      "Time elapsed: 0:00:09.233237\n",
      "[0.7218164  0.71370124 0.71462628 0.71551614 0.71634469]\n",
      "Time elapsed: 0:00:09.620300\n",
      "[0.72181205 0.7136378  0.7146095  0.71551012 0.71629945]\n",
      "Time elapsed: 0:00:10.040947\n",
      "[0.72181039 0.71363045 0.71460884 0.71551016 0.71629392]\n",
      "Time elapsed: 0:00:10.249705\n",
      "[0.72181043 0.71362965 0.71460893 0.71551033 0.71629306]\n",
      "Time elapsed: 0:00:10.053217\n",
      "[0.72181067 0.71362945 0.71460889 0.71551027 0.71629322]\n",
      "Time elapsed: 0:00:10.065452\n",
      "[0.72181072 0.71362952 0.71460893 0.71551026 0.71629323]\n",
      "Time elapsed: 0:00:09.571548\n",
      "[0.72181071 0.71362952 0.71460894 0.71551026 0.71629323]\n"
     ]
    }
   ],
   "source": [
    "# rerun crossval for dataset without category-attributes\n",
    "lr_qual_nocat = run_LogReg(features_fin_nocat, Y)"
   ]
  },
  {
   "cell_type": "code",
   "execution_count": 37,
   "metadata": {},
   "outputs": [
    {
     "name": "stdout",
     "output_type": "stream",
     "text": [
      "best val=0.716401, with C=0.01 with dropped category attributes\n"
     ]
    },
    {
     "data": {
      "text/plain": [
       "0.7164009506527343"
      ]
     },
     "execution_count": 37,
     "metadata": {},
     "output_type": "execute_result"
    }
   ],
   "source": [
    "# и проведите кросс-валидацию для логистической регрессии на новой выборке с подбором лучшего параметра регуляризации.\n",
    "nocat_values = bestC(lr_qual_nocat)[0]\n",
    "nocat_C = bestC(lr_qual_nocat)[1]\n",
    "print (\"best val=%.6f, with C=%.2f with dropped category attributes\" % (nocat_values,nocat_C))\n",
    "nocat_values"
   ]
  },
  {
   "cell_type": "code",
   "execution_count": 38,
   "metadata": {},
   "outputs": [
    {
     "data": {
      "text/plain": [
       "1.0000830448450613"
      ]
     },
     "execution_count": 38,
     "metadata": {},
     "output_type": "execute_result"
    }
   ],
   "source": [
    "#Изменилось ли качество?\n",
    "nocat_values/all_values"
   ]
  },
  {
   "cell_type": "code",
   "execution_count": 40,
   "metadata": {},
   "outputs": [],
   "source": [
    "#На предыдущем шаге мы исключили из выборки признаки rM_hero и dM_hero, которые показывают, какие именно герои играли \n",
    "# за каждую команду. Это важные признаки — герои имеют разные характеристики, и некоторые из них выигрывают чаще, \n",
    "# чем другие. Выясните из данных, сколько различных идентификаторов героев существует в данной игре (вам может \n",
    "# пригодиться фукнция unique или value_counts).\n",
    "features_heros=features_clean.copy()\n",
    "all_heroes1=[]\n",
    "all_heroes2=[]\n",
    "for n in range(1, 6):\n",
    "    all_heroes1.append(features_heros['r{}_hero'.format(n)].unique())\n",
    "    all_heroes2.append(features_heros['d{}_hero'.format(n)].unique())\n",
    "\n",
    "all_names_of_heroes=[]\n",
    "for i in range(0,5):\n",
    "    for j in range(0,len(all_heroes2[i])):\n",
    "        all_names_of_heroes.append(all_heroes2[i][j])\n",
    "for i in range(0,5):\n",
    "    for j in range(0,len(all_heroes1[i])):\n",
    "        all_names_of_heroes.append(all_heroes1[i][j])"
   ]
  },
  {
   "cell_type": "code",
   "execution_count": 41,
   "metadata": {},
   "outputs": [
    {
     "name": "stdout",
     "output_type": "stream",
     "text": [
      "108\n"
     ]
    }
   ],
   "source": [
    "hero_names = list(set(all_names_of_heroes))\n",
    "#hero_names\n",
    "Num_heroes = len(hero_names)\n",
    "print (Num_heroes)"
   ]
  },
  {
   "cell_type": "code",
   "execution_count": 48,
   "metadata": {},
   "outputs": [],
   "source": [
    "#4. Воспользуемся подходом \"мешок слов\" для кодирования информации о героях. Пусть всего в игре имеет N различных героев.\n",
    "#Сформируем N признаков, при этом i-й будет равен нулю, если i-й герой не участвовал в матче; единице, \n",
    "#если i-й герой играл за команду Radiant; минус единице, если i-й герой играл за команду Dire. \n",
    "#Ниже вы можете найти код, который выполняет данной преобразование. \n",
    "# N — количество различных героев в выборке\n",
    "# Формируем \"мешок слов\" по героям\n",
    "def bag_hero_to_num(X):\n",
    "    X_pick = np.zeros((X.shape[0], Num_heroes))\n",
    "    for i, match_id in enumerate(X.index):\n",
    "        for p in range(1,6):\n",
    "            X_pick[i, np.where(hero_names == X.ix[match_id, 'r%d_hero' % p])] = 1\n",
    "            X_pick[i, np.where(hero_names == X.ix[match_id, 'd%d_hero' % p])] = -1\n",
    "    return X_pick\n",
    "\n"
   ]
  },
  {
   "cell_type": "code",
   "execution_count": 49,
   "metadata": {},
   "outputs": [
    {
     "data": {
      "text/plain": [
       "array([[ 0.,  0.,  0., ...,  0.,  0.,  0.],\n",
       "       [ 0.,  0.,  0., ...,  0.,  0.,  0.],\n",
       "       [ 0.,  0.,  0., ...,  0.,  0.,  0.],\n",
       "       ...,\n",
       "       [ 0.,  0.,  0., ...,  0.,  0.,  1.],\n",
       "       [ 0.,  0.,  0., ...,  0.,  0.,  0.],\n",
       "       [ 0.,  0.,  0., ...,  0.,  0., -1.]])"
      ]
     },
     "execution_count": 49,
     "metadata": {},
     "output_type": "execute_result"
    }
   ],
   "source": [
    "# clean dataset with all attributes - to estimate value for new attribute based on hero-category \n",
    "X_pick = bag_hero_to_num(features_clean)\n",
    "X_pick"
   ]
  },
  {
   "cell_type": "code",
   "execution_count": 51,
   "metadata": {},
   "outputs": [
    {
     "data": {
      "text/html": [
       "<div>\n",
       "<style scoped>\n",
       "    .dataframe tbody tr th:only-of-type {\n",
       "        vertical-align: middle;\n",
       "    }\n",
       "\n",
       "    .dataframe tbody tr th {\n",
       "        vertical-align: top;\n",
       "    }\n",
       "\n",
       "    .dataframe thead th {\n",
       "        text-align: right;\n",
       "    }\n",
       "</style>\n",
       "<table border=\"1\" class=\"dataframe\">\n",
       "  <thead>\n",
       "    <tr style=\"text-align: right;\">\n",
       "      <th></th>\n",
       "      <th>start_time</th>\n",
       "      <th>r1_level</th>\n",
       "      <th>r1_xp</th>\n",
       "      <th>r1_gold</th>\n",
       "      <th>r1_lh</th>\n",
       "      <th>r1_kills</th>\n",
       "      <th>r1_deaths</th>\n",
       "      <th>r1_items</th>\n",
       "      <th>r2_level</th>\n",
       "      <th>r2_xp</th>\n",
       "      <th>...</th>\n",
       "      <th>radiant_ward_sentry_count</th>\n",
       "      <th>radiant_first_ward_time</th>\n",
       "      <th>dire_bottle_time</th>\n",
       "      <th>dire_courier_time</th>\n",
       "      <th>dire_flying_courier_time</th>\n",
       "      <th>dire_tpscroll_count</th>\n",
       "      <th>dire_boots_count</th>\n",
       "      <th>dire_ward_observer_count</th>\n",
       "      <th>dire_ward_sentry_count</th>\n",
       "      <th>dire_first_ward_time</th>\n",
       "    </tr>\n",
       "    <tr>\n",
       "      <th>match_id</th>\n",
       "      <th></th>\n",
       "      <th></th>\n",
       "      <th></th>\n",
       "      <th></th>\n",
       "      <th></th>\n",
       "      <th></th>\n",
       "      <th></th>\n",
       "      <th></th>\n",
       "      <th></th>\n",
       "      <th></th>\n",
       "      <th></th>\n",
       "      <th></th>\n",
       "      <th></th>\n",
       "      <th></th>\n",
       "      <th></th>\n",
       "      <th></th>\n",
       "      <th></th>\n",
       "      <th></th>\n",
       "      <th></th>\n",
       "      <th></th>\n",
       "      <th></th>\n",
       "    </tr>\n",
       "  </thead>\n",
       "  <tbody>\n",
       "    <tr>\n",
       "      <th>0</th>\n",
       "      <td>1430198770</td>\n",
       "      <td>5</td>\n",
       "      <td>2098</td>\n",
       "      <td>1489</td>\n",
       "      <td>20</td>\n",
       "      <td>0</td>\n",
       "      <td>0</td>\n",
       "      <td>7</td>\n",
       "      <td>3</td>\n",
       "      <td>842</td>\n",
       "      <td>...</td>\n",
       "      <td>0</td>\n",
       "      <td>35.0</td>\n",
       "      <td>103.0</td>\n",
       "      <td>-84.0</td>\n",
       "      <td>221.0</td>\n",
       "      <td>3</td>\n",
       "      <td>4</td>\n",
       "      <td>2</td>\n",
       "      <td>2</td>\n",
       "      <td>-52.0</td>\n",
       "    </tr>\n",
       "    <tr>\n",
       "      <th>1</th>\n",
       "      <td>1430220345</td>\n",
       "      <td>4</td>\n",
       "      <td>1188</td>\n",
       "      <td>1033</td>\n",
       "      <td>9</td>\n",
       "      <td>0</td>\n",
       "      <td>1</td>\n",
       "      <td>12</td>\n",
       "      <td>4</td>\n",
       "      <td>1596</td>\n",
       "      <td>...</td>\n",
       "      <td>0</td>\n",
       "      <td>-20.0</td>\n",
       "      <td>149.0</td>\n",
       "      <td>-84.0</td>\n",
       "      <td>195.0</td>\n",
       "      <td>5</td>\n",
       "      <td>4</td>\n",
       "      <td>3</td>\n",
       "      <td>1</td>\n",
       "      <td>-5.0</td>\n",
       "    </tr>\n",
       "    <tr>\n",
       "      <th>2</th>\n",
       "      <td>1430227081</td>\n",
       "      <td>4</td>\n",
       "      <td>1319</td>\n",
       "      <td>1270</td>\n",
       "      <td>22</td>\n",
       "      <td>0</td>\n",
       "      <td>0</td>\n",
       "      <td>12</td>\n",
       "      <td>3</td>\n",
       "      <td>1314</td>\n",
       "      <td>...</td>\n",
       "      <td>1</td>\n",
       "      <td>-39.0</td>\n",
       "      <td>45.0</td>\n",
       "      <td>-77.0</td>\n",
       "      <td>221.0</td>\n",
       "      <td>3</td>\n",
       "      <td>4</td>\n",
       "      <td>3</td>\n",
       "      <td>1</td>\n",
       "      <td>13.0</td>\n",
       "    </tr>\n",
       "    <tr>\n",
       "      <th>3</th>\n",
       "      <td>1430263531</td>\n",
       "      <td>4</td>\n",
       "      <td>1779</td>\n",
       "      <td>1056</td>\n",
       "      <td>14</td>\n",
       "      <td>0</td>\n",
       "      <td>0</td>\n",
       "      <td>5</td>\n",
       "      <td>2</td>\n",
       "      <td>539</td>\n",
       "      <td>...</td>\n",
       "      <td>0</td>\n",
       "      <td>-30.0</td>\n",
       "      <td>124.0</td>\n",
       "      <td>-80.0</td>\n",
       "      <td>184.0</td>\n",
       "      <td>0</td>\n",
       "      <td>4</td>\n",
       "      <td>2</td>\n",
       "      <td>0</td>\n",
       "      <td>27.0</td>\n",
       "    </tr>\n",
       "    <tr>\n",
       "      <th>4</th>\n",
       "      <td>1430282290</td>\n",
       "      <td>4</td>\n",
       "      <td>1431</td>\n",
       "      <td>1090</td>\n",
       "      <td>8</td>\n",
       "      <td>1</td>\n",
       "      <td>0</td>\n",
       "      <td>8</td>\n",
       "      <td>2</td>\n",
       "      <td>629</td>\n",
       "      <td>...</td>\n",
       "      <td>0</td>\n",
       "      <td>46.0</td>\n",
       "      <td>182.0</td>\n",
       "      <td>-80.0</td>\n",
       "      <td>225.0</td>\n",
       "      <td>6</td>\n",
       "      <td>3</td>\n",
       "      <td>3</td>\n",
       "      <td>0</td>\n",
       "      <td>-16.0</td>\n",
       "    </tr>\n",
       "  </tbody>\n",
       "</table>\n",
       "<p>5 rows × 91 columns</p>\n",
       "</div>"
      ],
      "text/plain": [
       "          start_time  r1_level  r1_xp  r1_gold  r1_lh  r1_kills  r1_deaths  \\\n",
       "match_id                                                                     \n",
       "0         1430198770         5   2098     1489     20         0          0   \n",
       "1         1430220345         4   1188     1033      9         0          1   \n",
       "2         1430227081         4   1319     1270     22         0          0   \n",
       "3         1430263531         4   1779     1056     14         0          0   \n",
       "4         1430282290         4   1431     1090      8         1          0   \n",
       "\n",
       "          r1_items  r2_level  r2_xp          ...           \\\n",
       "match_id                                     ...            \n",
       "0                7         3    842          ...            \n",
       "1               12         4   1596          ...            \n",
       "2               12         3   1314          ...            \n",
       "3                5         2    539          ...            \n",
       "4                8         2    629          ...            \n",
       "\n",
       "          radiant_ward_sentry_count  radiant_first_ward_time  \\\n",
       "match_id                                                       \n",
       "0                                 0                     35.0   \n",
       "1                                 0                    -20.0   \n",
       "2                                 1                    -39.0   \n",
       "3                                 0                    -30.0   \n",
       "4                                 0                     46.0   \n",
       "\n",
       "          dire_bottle_time  dire_courier_time  dire_flying_courier_time  \\\n",
       "match_id                                                                  \n",
       "0                    103.0              -84.0                     221.0   \n",
       "1                    149.0              -84.0                     195.0   \n",
       "2                     45.0              -77.0                     221.0   \n",
       "3                    124.0              -80.0                     184.0   \n",
       "4                    182.0              -80.0                     225.0   \n",
       "\n",
       "          dire_tpscroll_count  dire_boots_count  dire_ward_observer_count  \\\n",
       "match_id                                                                    \n",
       "0                           3                 4                         2   \n",
       "1                           5                 4                         3   \n",
       "2                           3                 4                         3   \n",
       "3                           0                 4                         2   \n",
       "4                           6                 3                         3   \n",
       "\n",
       "          dire_ward_sentry_count  dire_first_ward_time  \n",
       "match_id                                                \n",
       "0                              2                 -52.0  \n",
       "1                              1                  -5.0  \n",
       "2                              1                  13.0  \n",
       "3                              0                  27.0  \n",
       "4                              0                 -16.0  \n",
       "\n",
       "[5 rows x 91 columns]"
      ]
     },
     "execution_count": 51,
     "metadata": {},
     "output_type": "execute_result"
    }
   ],
   "source": [
    "#Добавьте полученные признаки к числовым, которые вы использовали во втором пункте данного этапа.\n",
    "# copy cleaned + removed_cat-attr\n",
    "features_clean_catToNum_base = features_clean_nocat.copy()\n",
    "features_clean_catToNum_base.head()"
   ]
  },
  {
   "cell_type": "code",
   "execution_count": 52,
   "metadata": {},
   "outputs": [
    {
     "data": {
      "text/html": [
       "<div>\n",
       "<style scoped>\n",
       "    .dataframe tbody tr th:only-of-type {\n",
       "        vertical-align: middle;\n",
       "    }\n",
       "\n",
       "    .dataframe tbody tr th {\n",
       "        vertical-align: top;\n",
       "    }\n",
       "\n",
       "    .dataframe thead th {\n",
       "        text-align: right;\n",
       "    }\n",
       "</style>\n",
       "<table border=\"1\" class=\"dataframe\">\n",
       "  <thead>\n",
       "    <tr style=\"text-align: right;\">\n",
       "      <th></th>\n",
       "      <th>start_time</th>\n",
       "      <th>r1_level</th>\n",
       "      <th>r1_xp</th>\n",
       "      <th>r1_gold</th>\n",
       "      <th>r1_lh</th>\n",
       "      <th>r1_kills</th>\n",
       "      <th>r1_deaths</th>\n",
       "      <th>r1_items</th>\n",
       "      <th>r2_level</th>\n",
       "      <th>r2_xp</th>\n",
       "      <th>...</th>\n",
       "      <th>98</th>\n",
       "      <th>99</th>\n",
       "      <th>100</th>\n",
       "      <th>101</th>\n",
       "      <th>102</th>\n",
       "      <th>103</th>\n",
       "      <th>104</th>\n",
       "      <th>105</th>\n",
       "      <th>106</th>\n",
       "      <th>107</th>\n",
       "    </tr>\n",
       "    <tr>\n",
       "      <th>match_id</th>\n",
       "      <th></th>\n",
       "      <th></th>\n",
       "      <th></th>\n",
       "      <th></th>\n",
       "      <th></th>\n",
       "      <th></th>\n",
       "      <th></th>\n",
       "      <th></th>\n",
       "      <th></th>\n",
       "      <th></th>\n",
       "      <th></th>\n",
       "      <th></th>\n",
       "      <th></th>\n",
       "      <th></th>\n",
       "      <th></th>\n",
       "      <th></th>\n",
       "      <th></th>\n",
       "      <th></th>\n",
       "      <th></th>\n",
       "      <th></th>\n",
       "      <th></th>\n",
       "    </tr>\n",
       "  </thead>\n",
       "  <tbody>\n",
       "    <tr>\n",
       "      <th>0</th>\n",
       "      <td>1430198770</td>\n",
       "      <td>5</td>\n",
       "      <td>2098</td>\n",
       "      <td>1489</td>\n",
       "      <td>20</td>\n",
       "      <td>0</td>\n",
       "      <td>0</td>\n",
       "      <td>7</td>\n",
       "      <td>3</td>\n",
       "      <td>842</td>\n",
       "      <td>...</td>\n",
       "      <td>0.0</td>\n",
       "      <td>0.0</td>\n",
       "      <td>0.0</td>\n",
       "      <td>0.0</td>\n",
       "      <td>0.0</td>\n",
       "      <td>1.0</td>\n",
       "      <td>0.0</td>\n",
       "      <td>0.0</td>\n",
       "      <td>0.0</td>\n",
       "      <td>0.0</td>\n",
       "    </tr>\n",
       "    <tr>\n",
       "      <th>1</th>\n",
       "      <td>1430220345</td>\n",
       "      <td>4</td>\n",
       "      <td>1188</td>\n",
       "      <td>1033</td>\n",
       "      <td>9</td>\n",
       "      <td>0</td>\n",
       "      <td>1</td>\n",
       "      <td>12</td>\n",
       "      <td>4</td>\n",
       "      <td>1596</td>\n",
       "      <td>...</td>\n",
       "      <td>0.0</td>\n",
       "      <td>0.0</td>\n",
       "      <td>0.0</td>\n",
       "      <td>0.0</td>\n",
       "      <td>0.0</td>\n",
       "      <td>0.0</td>\n",
       "      <td>0.0</td>\n",
       "      <td>0.0</td>\n",
       "      <td>0.0</td>\n",
       "      <td>0.0</td>\n",
       "    </tr>\n",
       "    <tr>\n",
       "      <th>2</th>\n",
       "      <td>1430227081</td>\n",
       "      <td>4</td>\n",
       "      <td>1319</td>\n",
       "      <td>1270</td>\n",
       "      <td>22</td>\n",
       "      <td>0</td>\n",
       "      <td>0</td>\n",
       "      <td>12</td>\n",
       "      <td>3</td>\n",
       "      <td>1314</td>\n",
       "      <td>...</td>\n",
       "      <td>0.0</td>\n",
       "      <td>0.0</td>\n",
       "      <td>0.0</td>\n",
       "      <td>0.0</td>\n",
       "      <td>0.0</td>\n",
       "      <td>0.0</td>\n",
       "      <td>0.0</td>\n",
       "      <td>0.0</td>\n",
       "      <td>0.0</td>\n",
       "      <td>0.0</td>\n",
       "    </tr>\n",
       "    <tr>\n",
       "      <th>3</th>\n",
       "      <td>1430263531</td>\n",
       "      <td>4</td>\n",
       "      <td>1779</td>\n",
       "      <td>1056</td>\n",
       "      <td>14</td>\n",
       "      <td>0</td>\n",
       "      <td>0</td>\n",
       "      <td>5</td>\n",
       "      <td>2</td>\n",
       "      <td>539</td>\n",
       "      <td>...</td>\n",
       "      <td>0.0</td>\n",
       "      <td>0.0</td>\n",
       "      <td>-1.0</td>\n",
       "      <td>0.0</td>\n",
       "      <td>0.0</td>\n",
       "      <td>0.0</td>\n",
       "      <td>0.0</td>\n",
       "      <td>0.0</td>\n",
       "      <td>0.0</td>\n",
       "      <td>0.0</td>\n",
       "    </tr>\n",
       "    <tr>\n",
       "      <th>4</th>\n",
       "      <td>1430282290</td>\n",
       "      <td>4</td>\n",
       "      <td>1431</td>\n",
       "      <td>1090</td>\n",
       "      <td>8</td>\n",
       "      <td>1</td>\n",
       "      <td>0</td>\n",
       "      <td>8</td>\n",
       "      <td>2</td>\n",
       "      <td>629</td>\n",
       "      <td>...</td>\n",
       "      <td>0.0</td>\n",
       "      <td>0.0</td>\n",
       "      <td>0.0</td>\n",
       "      <td>0.0</td>\n",
       "      <td>0.0</td>\n",
       "      <td>0.0</td>\n",
       "      <td>0.0</td>\n",
       "      <td>0.0</td>\n",
       "      <td>0.0</td>\n",
       "      <td>0.0</td>\n",
       "    </tr>\n",
       "  </tbody>\n",
       "</table>\n",
       "<p>5 rows × 199 columns</p>\n",
       "</div>"
      ],
      "text/plain": [
       "          start_time  r1_level  r1_xp  r1_gold  r1_lh  r1_kills  r1_deaths  \\\n",
       "match_id                                                                     \n",
       "0         1430198770         5   2098     1489     20         0          0   \n",
       "1         1430220345         4   1188     1033      9         0          1   \n",
       "2         1430227081         4   1319     1270     22         0          0   \n",
       "3         1430263531         4   1779     1056     14         0          0   \n",
       "4         1430282290         4   1431     1090      8         1          0   \n",
       "\n",
       "          r1_items  r2_level  r2_xp ...    98   99  100  101  102  103  104  \\\n",
       "match_id                            ...                                       \n",
       "0                7         3    842 ...   0.0  0.0  0.0  0.0  0.0  1.0  0.0   \n",
       "1               12         4   1596 ...   0.0  0.0  0.0  0.0  0.0  0.0  0.0   \n",
       "2               12         3   1314 ...   0.0  0.0  0.0  0.0  0.0  0.0  0.0   \n",
       "3                5         2    539 ...   0.0  0.0 -1.0  0.0  0.0  0.0  0.0   \n",
       "4                8         2    629 ...   0.0  0.0  0.0  0.0  0.0  0.0  0.0   \n",
       "\n",
       "          105  106  107  \n",
       "match_id                 \n",
       "0         0.0  0.0  0.0  \n",
       "1         0.0  0.0  0.0  \n",
       "2         0.0  0.0  0.0  \n",
       "3         0.0  0.0  0.0  \n",
       "4         0.0  0.0  0.0  \n",
       "\n",
       "[5 rows x 199 columns]"
      ]
     },
     "execution_count": 52,
     "metadata": {},
     "output_type": "execute_result"
    }
   ],
   "source": [
    "#add new-cat-digital to cleaned_removed_cat-attr\n",
    "features_clean_catToNum = features_clean_catToNum_base.join(pandas.DataFrame(X_pick, index=features_clean_nocat.index))\n",
    "features_clean_catToNum.head()"
   ]
  },
  {
   "cell_type": "code",
   "execution_count": 53,
   "metadata": {},
   "outputs": [],
   "source": [
    "# normalize newly created dataset\n",
    "features_fin_catToNum = rescale_attr.fit_transform(features_clean_catToNum)\n",
    "#features_fin_catToNum[:2]"
   ]
  },
  {
   "cell_type": "code",
   "execution_count": 54,
   "metadata": {},
   "outputs": [
    {
     "name": "stdout",
     "output_type": "stream",
     "text": [
      "Time elapsed: 0:00:06.260029\n",
      "[0.71907467 0.71117649 0.71512939 0.71288168 0.71586231]\n",
      "Time elapsed: 0:00:08.847284\n",
      "[0.74685672 0.74006714 0.74277168 0.74026225 0.74423779]\n",
      "Time elapsed: 0:00:14.961524\n",
      "[0.75515333 0.74931124 0.75181648 0.74901026 0.75305284]\n",
      "Time elapsed: 0:00:20.309634\n",
      "[0.75521596 0.74985583 0.75218088 0.74951097 0.75308879]\n",
      "Time elapsed: 0:00:20.972533\n",
      "[0.75513027 0.74989157 0.75213472 0.74953537 0.75293117]\n",
      "Time elapsed: 0:00:21.668403\n",
      "[0.75511969 0.74989604 0.75212742 0.74953884 0.75290574]\n",
      "Time elapsed: 0:00:21.779120\n",
      "[0.75511883 0.74989652 0.75212657 0.74953969 0.75290278]\n",
      "Time elapsed: 0:00:24.243963\n",
      "[0.75511879 0.74989678 0.75212649 0.74953983 0.75290249]\n",
      "Time elapsed: 0:00:22.505003\n",
      "[0.75511885 0.74989672 0.75212658 0.74953981 0.75290238]\n",
      "Time elapsed: 0:00:21.136635\n",
      "[0.75511887 0.74989671 0.75212658 0.74953978 0.75290239]\n"
     ]
    }
   ],
   "source": [
    "#4 .Проведите кросс-валидацию для логистической регрессии на новой выборке с подбором лучшего параметра регуляризации.\n",
    "lr_qual_corCat = run_LogReg(features_fin_catToNum, Y)"
   ]
  },
  {
   "cell_type": "code",
   "execution_count": 55,
   "metadata": {},
   "outputs": [
    {
     "name": "stdout",
     "output_type": "stream",
     "text": [
      "best val=0.7520, with C=0.01 with correccly propagated category attributes\n"
     ]
    },
    {
     "data": {
      "text/plain": [
       "0.7519704890317174"
      ]
     },
     "execution_count": 55,
     "metadata": {},
     "output_type": "execute_result"
    }
   ],
   "source": [
    "values_with_catToNum = bestC(lr_qual_corCat)[0]\n",
    "C_with_catToNum = bestC(lr_qual_corCat)[1]\n",
    "print (\"best val=%.4f, with C=%.2f with correccly propagated category attributes\" % (values_with_catToNum,C_with_catToNum)) \n",
    "values_with_catToNum"
   ]
  },
  {
   "cell_type": "code",
   "execution_count": 56,
   "metadata": {},
   "outputs": [
    {
     "data": {
      "text/plain": [
       "1.0496503226950977"
      ]
     },
     "execution_count": 56,
     "metadata": {},
     "output_type": "execute_result"
    }
   ],
   "source": [
    "# ratio to previous version\n",
    "values_with_catToNum/nocat_values"
   ]
  },
  {
   "cell_type": "code",
   "execution_count": 59,
   "metadata": {},
   "outputs": [
    {
     "data": {
      "text/plain": [
       "array([0.001     , 0.00621053, 0.01142105, 0.01663158, 0.02184211,\n",
       "       0.02705263, 0.03226316, 0.03747368, 0.04268421, 0.04789474,\n",
       "       0.05310526, 0.05831579, 0.06352632, 0.06873684, 0.07394737,\n",
       "       0.07915789, 0.08436842, 0.08957895, 0.09478947, 0.1       ])"
      ]
     },
     "execution_count": 59,
     "metadata": {},
     "output_type": "execute_result"
    }
   ],
   "source": [
    "# this is best model, make sense to optimise C again with coarse binning around \"C_with_catToNum=0.01\"\n",
    "grid_C = np.linspace(0.001,0.1,20)\n",
    "grid_C\n"
   ]
  },
  {
   "cell_type": "code",
   "execution_count": 60,
   "metadata": {},
   "outputs": [],
   "source": [
    "lr_optimize_qual =[]\n",
    "#features_fin_catToNum\n",
    "for i in grid_C:\n",
    "    C=i\n",
    "    lrOpt = LogisticRegression(C=C, random_state=241)\n",
    "    start_time = datetime.datetime.now()\n",
    "    lrOpt_scores = cross_val_score(lrOpt, features_fin_catToNum, Y.ravel(), cv=kf, scoring='roc_auc')\n",
    "    run_time=datetime.datetime.now() - start_time\n",
    "    lr_optimize_qual.append((i,C,run_time.total_seconds(),np.mean(lrOpt_scores)))"
   ]
  },
  {
   "cell_type": "code",
   "execution_count": 61,
   "metadata": {},
   "outputs": [
    {
     "name": "stdout",
     "output_type": "stream",
     "text": [
      "best val=0.751984, with C=0.00621 with converted category attributes\n"
     ]
    }
   ],
   "source": [
    "lr_optimize_qual_values = bestC(lr_optimize_qual)[0]\n",
    "lr_optimize_qual_C = bestC(lr_optimize_qual)[1]\n",
    "print (\"best val=%.6f, with C=%.5f with converted category attributes\" % (lr_optimize_qual_values,lr_optimize_qual_C))\n",
    "#best val=0.751984, with C=0.00621 with converted category attributes"
   ]
  },
  {
   "cell_type": "code",
   "execution_count": 62,
   "metadata": {},
   "outputs": [
    {
     "data": {
      "text/plain": [
       "LogisticRegression(C=0.006210526315789474, class_weight=None, dual=False,\n",
       "          fit_intercept=True, intercept_scaling=1, max_iter=100,\n",
       "          multi_class='ovr', n_jobs=1, penalty='l2', random_state=241,\n",
       "          solver='liblinear', tol=0.0001, verbose=0, warm_start=False)"
      ]
     },
     "execution_count": 62,
     "metadata": {},
     "output_type": "execute_result"
    }
   ],
   "source": [
    "#Постройте предсказания вероятностей победы команды Radiant для тестовой выборки с помощью лучшей из изученных моделей\n",
    "#(лучшей с точки зрения AUC-ROC на кросс-валидации). \n",
    "lrfin = LogisticRegression(C=lr_optimize_qual_C, random_state=241)\n",
    "lrfin.fit(features_fin_catToNum, Y.ravel())"
   ]
  },
  {
   "cell_type": "code",
   "execution_count": 63,
   "metadata": {},
   "outputs": [
    {
     "name": "stderr",
     "output_type": "stream",
     "text": [
      "/anaconda3/lib/python3.6/site-packages/ipykernel_launcher.py:11: DeprecationWarning: \n",
      ".ix is deprecated. Please use\n",
      ".loc for label based indexing or\n",
      ".iloc for positional indexing\n",
      "\n",
      "See the documentation here:\n",
      "http://pandas.pydata.org/pandas-docs/stable/indexing.html#ix-indexer-is-deprecated\n",
      "  # This is added back by InteractiveShellApp.init_path()\n"
     ]
    }
   ],
   "source": [
    "# Prepate test dataset:\n",
    "# 1. take test data with cleaned missing values\n",
    "features_test_clean_nocat = features_test_clean.copy()\n",
    "\n",
    "# 2. remove category attributes\n",
    "remove_cat_attr(features_test_clean_nocat)\n",
    "\n",
    "# 3. create attributes based on category - heroes type\n",
    "X_pick_test = bag_hero_to_num(features_test_clean)\n",
    "\n",
    "# 4. add newly created attributes to initial test matrix without categories\n",
    "features_test_clean_catToNum = features_test_clean_nocat.join(pandas.DataFrame(X_pick_test, index=features_test_clean.index))\n",
    "\n",
    "# 5. normalize attributes in final test dataset\n",
    "features_test_fin1 = rescale_attr.fit_transform(features_test_clean_catToNum)"
   ]
  },
  {
   "cell_type": "code",
   "execution_count": 64,
   "metadata": {},
   "outputs": [
    {
     "data": {
      "text/plain": [
       "array([[0.1786769 , 0.8213231 ],\n",
       "       [0.24540716, 0.75459284],\n",
       "       [0.81030389, 0.18969611],\n",
       "       ...,\n",
       "       [0.76469889, 0.23530111],\n",
       "       [0.36947263, 0.63052737],\n",
       "       [0.5690182 , 0.4309818 ]])"
      ]
     },
     "execution_count": 64,
     "metadata": {},
     "output_type": "execute_result"
    }
   ],
   "source": [
    "rad_win_pred = lrfin.predict_proba(features_test_fin1)\n",
    "rad_win_pred"
   ]
  },
  {
   "cell_type": "code",
   "execution_count": 65,
   "metadata": {},
   "outputs": [
    {
     "name": "stdout",
     "output_type": "stream",
     "text": [
      "min = 0.004, max= 0.996\n"
     ]
    }
   ],
   "source": [
    "#Убедитесь, что предсказанные вероятности адекватные — находятся на отрезке [0, 1], не совпадают между собой (т.е. что модель не получилась константной).\n",
    "print(\"min = %.3f, max= %.3f\" % (rad_win_pred.min(), rad_win_pred.max()))\n",
    "\n"
   ]
  },
  {
   "cell_type": "code",
   "execution_count": null,
   "metadata": {},
   "outputs": [],
   "source": []
  },
  {
   "cell_type": "markdown",
   "metadata": {},
   "source": [
    "Report part 2:\n",
    "Q1. Какое качество получилось у логистической регрессии над всеми исходными признаками? 1.2: Как оно соотносится с качеством градиентного бустинга? 1.3: Чем вы можете объяснить эту разницу? 1.4: Быстрее ли работает логистическая регрессия по сравнению с градиентным бустингом?\n",
    "\n",
    "A1.1: 0.71634 (all_values в коде);\n",
    "A1.2: качество лучше чем у очень глубокого дерева (0.71352 GB ntrees=200)\n",
    "A1.3: Линейная регрессия оптимально проводит разделяющую гиперплоскость для объектов двух классов. Градиетный бустинг хуже подходит для разреженных данных\n",
    "A1.4: время LR~11s (time_required в коду), у бустинга ~323s -> в 30 раз быстрее\n",
    "\n",
    "Q2. Как влияет на качество логистической регрессии удаление категориальных признаков (укажите новое значение метрики качества)? 2.2: Чем вы можете объяснить это изменение?\n",
    "\n",
    "A2.1: Почти не меняется : ( в коде: значение values_with_catToNum=0.716401, отношение= nocat_values/all_values=1.0000830448450613)\n",
    "A2.2: категориальные признаки использовались не верно в предыдущем шаге (как числовые), поэтому не вносили дополнительной полезной информации - просто шум. при удалении, получили примерно такое же качество (модель и в первом случае проигнорировала шум) \n",
    "\n",
    "Q3. Сколько различных идентификаторов героев существует в данной игре?\n",
    "A3: 108\n",
    "\n",
    "Q4. Какое получилось качество при добавлении \"мешка слов\" по героям? Улучшилось ли оно по сравнению с предыдущим вариантом? Чем вы можете это объяснить?\n",
    "A.4.1: 0.7520 (values_with_catToNum в коде) \n",
    "A.4.2: да, улучшилось на 5% (values_with_catToNum/nocat_values=1.04965032)\n",
    "A.4.3: в данном случае категориальные признаки используются по назначению и несут дополнительную информацию, которая помогает в определении решения\n",
    "\n",
    "Q5. Какое минимальное и максимальное значение прогноза на тестовой выборке получилось у лучшего из алгоритмов?\n",
    "A.5.1: min = 0.004, max= 0.996"
   ]
  },
  {
   "cell_type": "code",
   "execution_count": null,
   "metadata": {},
   "outputs": [],
   "source": []
  },
  {
   "cell_type": "code",
   "execution_count": null,
   "metadata": {},
   "outputs": [],
   "source": []
  }
 ],
 "metadata": {
  "kernelspec": {
   "display_name": "Python 3",
   "language": "python",
   "name": "python3"
  },
  "language_info": {
   "codemirror_mode": {
    "name": "ipython",
    "version": 3
   },
   "file_extension": ".py",
   "mimetype": "text/x-python",
   "name": "python",
   "nbconvert_exporter": "python",
   "pygments_lexer": "ipython3",
   "version": "3.6.4"
  }
 },
 "nbformat": 4,
 "nbformat_minor": 2
}
