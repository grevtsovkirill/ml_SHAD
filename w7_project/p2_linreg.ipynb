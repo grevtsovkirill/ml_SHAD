{
 "cells": [
  {
   "cell_type": "markdown",
   "metadata": {},
   "source": [
    "CODE\n",
    "Подход 2: логистическая регрессия"
   ]
  },
  {
   "cell_type": "code",
   "execution_count": 1,
   "metadata": {},
   "outputs": [
    {
     "name": "stderr",
     "output_type": "stream",
     "text": [
      "/anaconda3/lib/python3.6/site-packages/sklearn/cross_validation.py:41: DeprecationWarning: This module was deprecated in version 0.18 in favor of the model_selection module into which all the refactored classes and functions are moved. Also note that the interface of the new CV iterators are different from that of this module. This module will be removed in 0.20.\n",
      "  \"This module will be removed in 0.20.\", DeprecationWarning)\n"
     ]
    }
   ],
   "source": [
    "# Важно: не забывайте, что линейные алгоритмы чувствительны к масштабу признаков! \n",
    "# Может пригодиться sklearn.preprocessing.StandartScaler.\n",
    "\n",
    "import numpy as np\n",
    "import pandas\n",
    "import time\n",
    "import datetime\n",
    "from sklearn.preprocessing import StandardScaler\n",
    "from sklearn.cross_validation import KFold,cross_val_score\n",
    "\n",
    "features = pandas.read_csv('features.csv', index_col='match_id')\n",
    "features_test = pandas.read_csv('features_test.csv', index_col='match_id')\n",
    "y = features['radiant_win'].to_frame()\n",
    "features.drop(['duration',\n",
    "               'radiant_win',\n",
    "               'tower_status_radiant', \n",
    "               'tower_status_dire', \n",
    "               'barracks_status_radiant',\n",
    "               'barracks_status_dire'], axis=1, inplace=True)\n",
    "features_clean = features.fillna(0)\n",
    "features_test_clean = features_test.fillna(0)\n",
    "\n",
    "rescale_attr = StandardScaler()\n",
    "features_fin = rescale_attr.fit_transform(features_clean)\n",
    "Y=np.array(y)\n",
    "\n",
    "\n",
    "kf = KFold(y.size, n_folds=5, shuffle=True, random_state=241)"
   ]
  },
  {
   "cell_type": "code",
   "execution_count": 16,
   "metadata": {},
   "outputs": [],
   "source": [
    "#1. Оцените качество логистической регрессии (sklearn.linear_model.LogisticRegression с \n",
    "# L2-регуляризацией) с помощью кросс-валидации по той же схеме, которая использовалась для \n",
    "# градиентного бустинга. \n",
    "from sklearn.linear_model import LogisticRegression\n",
    "\n",
    "def run_LogReg(features_fin,Y):\n",
    "    for i in range(-5,5):\n",
    "        C=10**i\n",
    "        lr = LogisticRegression(C=C, random_state=241)\n",
    "        start_time = datetime.datetime.now()\n",
    "        lr_scores = cross_val_score(lr, features_fin, Y.ravel(), cv=kf, scoring='roc_auc')\n",
    "        run_time=datetime.datetime.now() - start_time\n",
    "        print ('Time elapsed:', run_time)\n",
    "        print (lr_scores)\n",
    "        lr_qual.append((i,C,run_time.total_seconds(),np.mean(lr_scores)))\n",
    "    return lr_qual"
   ]
  },
  {
   "cell_type": "code",
   "execution_count": 17,
   "metadata": {},
   "outputs": [
    {
     "name": "stdout",
     "output_type": "stream",
     "text": [
      "Time elapsed: 0:00:03.250486\n",
      "[0.69959206 0.69159358 0.69419291 0.69433159 0.69589176]\n",
      "Time elapsed: 0:00:04.499796\n",
      "[0.7161759  0.7083769  0.70960313 0.71017245 0.71192219]\n",
      "Time elapsed: 0:00:08.433491\n",
      "[0.72134945 0.71368677 0.71425051 0.71512064 0.71649386]\n",
      "Time elapsed: 0:00:11.234739\n",
      "[0.7216634  0.71377395 0.71440813 0.71540233 0.7164595 ]\n",
      "Time elapsed: 0:00:10.852820\n",
      "[0.72165841 0.7137031  0.71438941 0.71539496 0.71640454]\n",
      "Time elapsed: 0:00:12.139916\n",
      "[0.72165762 0.71369565 0.71438656 0.71539329 0.7163998 ]\n",
      "Time elapsed: 0:00:11.272202\n",
      "[0.72165702 0.7136947  0.71438623 0.71539423 0.71639952]\n",
      "Time elapsed: 0:00:11.656524\n",
      "[0.72165734 0.71369455 0.7143859  0.71539408 0.71639946]\n",
      "Time elapsed: 0:00:11.281191\n",
      "[0.72165734 0.71369457 0.71438593 0.71539409 0.71639938]\n",
      "Time elapsed: 0:00:11.997719\n",
      "[0.72165733 0.71369457 0.71438593 0.71539407 0.71639938]\n"
     ]
    },
    {
     "data": {
      "text/plain": [
       "[(-5, 1e-05, 3.368827, 0.695120379847076),\n",
       " (-4, 0.0001, 4.462422, 0.7112501143920594),\n",
       " (-3, 0.001, 8.185532, 0.7161802463683578),\n",
       " (4, 10000, 12.385078, 0.7163062572998156),\n",
       " (3, 1000, 12.130183, 0.7163062636530346),\n",
       " (2, 100, 18.181951, 0.7163062657792337),\n",
       " (1, 10, 13.232057, 0.7163063399602339),\n",
       " (0, 1, 11.104389, 0.716306583645544),\n",
       " (-1, 0.1, 11.270448, 0.7163100836533356),\n",
       " (-2, 0.01, 10.440804, 0.716341462186996),\n",
       " (-5, 1e-05, 2.985466, 0.695120379847076),\n",
       " (-4, 0.0001, 4.651262, 0.7112501143920594),\n",
       " (-3, 0.001, 8.615195, 0.7161802463683578),\n",
       " (-2, 0.01, 19.876072, 0.716341462186996),\n",
       " (-1, 0.1, 24.528729, 0.7163100836533356),\n",
       " (0, 1, 15.178845, 0.716306583645544),\n",
       " (1, 10, 14.36206, 0.7163063399602339),\n",
       " (2, 100, 16.921301, 0.7163062657792337),\n",
       " (3, 1000, 12.653866, 0.7163062636530346),\n",
       " (4, 10000, 12.836843, 0.7163062572998156),\n",
       " (-5, 1e-05, 3.250486, 0.695120379847076),\n",
       " (-4, 0.0001, 4.499796, 0.7112501143920594),\n",
       " (-3, 0.001, 8.433491, 0.7161802463683578),\n",
       " (-2, 0.01, 11.234739, 0.716341462186996),\n",
       " (-1, 0.1, 10.85282, 0.7163100836533356),\n",
       " (0, 1, 12.139916, 0.716306583645544),\n",
       " (1, 10, 11.272202, 0.7163063399602339),\n",
       " (2, 100, 11.656524, 0.7163062657792337),\n",
       " (3, 1000, 11.281191, 0.7163062636530346),\n",
       " (4, 10000, 11.997719, 0.7163062572998156)]"
      ]
     },
     "execution_count": 17,
     "metadata": {},
     "output_type": "execute_result"
    }
   ],
   "source": [
    "lr_qual = run_LogReg(features_fin, Y)\n",
    "lr_qual"
   ]
  },
  {
   "cell_type": "code",
   "execution_count": 18,
   "metadata": {},
   "outputs": [],
   "source": [
    "# Подберите при этом лучший параметр регуляризации (C).\n",
    "def bestC(lr_qual):\n",
    "    lr_qual.sort(key=lambda x:x[3])\n",
    "    return max(lr_qual, key=lambda x: x[3])[3], max(lr_qual, key=lambda x: x[3])[1]"
   ]
  },
  {
   "cell_type": "code",
   "execution_count": 89,
   "metadata": {},
   "outputs": [
    {
     "data": {
      "text/plain": [
       "(0.7519018100855892, 0.01)"
      ]
     },
     "execution_count": 89,
     "metadata": {},
     "output_type": "execute_result"
    }
   ],
   "source": [
    "bestC(lr_qual)"
   ]
  },
  {
   "cell_type": "code",
   "execution_count": 88,
   "metadata": {},
   "outputs": [
    {
     "name": "stdout",
     "output_type": "stream",
     "text": [
      "best val=1, with C=0.01\n"
     ]
    },
    {
     "data": {
      "text/plain": [
       "0.7519018100855892"
      ]
     },
     "execution_count": 88,
     "metadata": {},
     "output_type": "execute_result"
    }
   ],
   "source": [
    "# Какое наилучшее качество у вас получилось?\n",
    "all_values = bestC(lr_qual)[0]\n",
    "all_C = bestC(lr_qual)[1]\n",
    "print (\"best val=%.f, with C=%.2f\" % (all_values,all_C))\n",
    "all_values"
   ]
  },
  {
   "cell_type": "markdown",
   "metadata": {},
   "source": [
    " Как оно соотносится с качеством градиентного бустинга? \n",
    " \n",
    " 0.716341462186996 -> similar to GB with ntrees=200\n"
   ]
  },
  {
   "cell_type": "code",
   "execution_count": 22,
   "metadata": {},
   "outputs": [
    {
     "data": {
      "text/plain": [
       "10.440804"
      ]
     },
     "execution_count": 22,
     "metadata": {},
     "output_type": "execute_result"
    }
   ],
   "source": [
    "# Быстрее ли работает логистическая регрессия по сравнению с градиентным бустингом?\n",
    "time_required = max(lr_qual, key=lambda x: x[3])[2]\n",
    "time_required #=10.079412"
   ]
  },
  {
   "cell_type": "markdown",
   "metadata": {},
   "source": [
    "GB: datetime.timedelta(0, 321, 256976).total_seconds() = 321.256976\n",
    "\n",
    "->  30 times faster"
   ]
  },
  {
   "cell_type": "code",
   "execution_count": 23,
   "metadata": {},
   "outputs": [],
   "source": [
    "#2. Среди признаков в выборке есть категориальные, которые мы использовали как числовые, \n",
    "#что вряд ли является хорошей идеей.\n"
   ]
  },
  {
   "cell_type": "code",
   "execution_count": 24,
   "metadata": {},
   "outputs": [],
   "source": [
    "#Категориальных признаков в этой задаче одиннадцать: lobby_type и r1_hero, r2_hero, ..., r5_hero, d1_hero, \n",
    "#d2_hero, ..., d5_hero. Уберите их из выборки,"
   ]
  },
  {
   "cell_type": "code",
   "execution_count": 25,
   "metadata": {},
   "outputs": [],
   "source": [
    "features_clean_nocat=features_clean.copy()"
   ]
  },
  {
   "cell_type": "code",
   "execution_count": 26,
   "metadata": {},
   "outputs": [],
   "source": [
    "def remove_cat_attr(features_nocat):\n",
    "    del features_nocat['lobby_type']\n",
    "    for n in range(1, 6):\n",
    "        del features_nocat['r{}_hero'.format(n)]\n",
    "        del features_nocat['d{}_hero'.format(n)]\n",
    "    return features_nocat"
   ]
  },
  {
   "cell_type": "code",
   "execution_count": 27,
   "metadata": {},
   "outputs": [
    {
     "data": {
      "text/html": [
       "<div>\n",
       "<style scoped>\n",
       "    .dataframe tbody tr th:only-of-type {\n",
       "        vertical-align: middle;\n",
       "    }\n",
       "\n",
       "    .dataframe tbody tr th {\n",
       "        vertical-align: top;\n",
       "    }\n",
       "\n",
       "    .dataframe thead th {\n",
       "        text-align: right;\n",
       "    }\n",
       "</style>\n",
       "<table border=\"1\" class=\"dataframe\">\n",
       "  <thead>\n",
       "    <tr style=\"text-align: right;\">\n",
       "      <th></th>\n",
       "      <th>start_time</th>\n",
       "      <th>r1_level</th>\n",
       "      <th>r1_xp</th>\n",
       "      <th>r1_gold</th>\n",
       "      <th>r1_lh</th>\n",
       "      <th>r1_kills</th>\n",
       "      <th>r1_deaths</th>\n",
       "      <th>r1_items</th>\n",
       "      <th>r2_level</th>\n",
       "      <th>r2_xp</th>\n",
       "      <th>...</th>\n",
       "      <th>radiant_ward_sentry_count</th>\n",
       "      <th>radiant_first_ward_time</th>\n",
       "      <th>dire_bottle_time</th>\n",
       "      <th>dire_courier_time</th>\n",
       "      <th>dire_flying_courier_time</th>\n",
       "      <th>dire_tpscroll_count</th>\n",
       "      <th>dire_boots_count</th>\n",
       "      <th>dire_ward_observer_count</th>\n",
       "      <th>dire_ward_sentry_count</th>\n",
       "      <th>dire_first_ward_time</th>\n",
       "    </tr>\n",
       "    <tr>\n",
       "      <th>match_id</th>\n",
       "      <th></th>\n",
       "      <th></th>\n",
       "      <th></th>\n",
       "      <th></th>\n",
       "      <th></th>\n",
       "      <th></th>\n",
       "      <th></th>\n",
       "      <th></th>\n",
       "      <th></th>\n",
       "      <th></th>\n",
       "      <th></th>\n",
       "      <th></th>\n",
       "      <th></th>\n",
       "      <th></th>\n",
       "      <th></th>\n",
       "      <th></th>\n",
       "      <th></th>\n",
       "      <th></th>\n",
       "      <th></th>\n",
       "      <th></th>\n",
       "      <th></th>\n",
       "    </tr>\n",
       "  </thead>\n",
       "  <tbody>\n",
       "    <tr>\n",
       "      <th>0</th>\n",
       "      <td>1430198770</td>\n",
       "      <td>5</td>\n",
       "      <td>2098</td>\n",
       "      <td>1489</td>\n",
       "      <td>20</td>\n",
       "      <td>0</td>\n",
       "      <td>0</td>\n",
       "      <td>7</td>\n",
       "      <td>3</td>\n",
       "      <td>842</td>\n",
       "      <td>...</td>\n",
       "      <td>0</td>\n",
       "      <td>35.0</td>\n",
       "      <td>103.0</td>\n",
       "      <td>-84.0</td>\n",
       "      <td>221.0</td>\n",
       "      <td>3</td>\n",
       "      <td>4</td>\n",
       "      <td>2</td>\n",
       "      <td>2</td>\n",
       "      <td>-52.0</td>\n",
       "    </tr>\n",
       "    <tr>\n",
       "      <th>1</th>\n",
       "      <td>1430220345</td>\n",
       "      <td>4</td>\n",
       "      <td>1188</td>\n",
       "      <td>1033</td>\n",
       "      <td>9</td>\n",
       "      <td>0</td>\n",
       "      <td>1</td>\n",
       "      <td>12</td>\n",
       "      <td>4</td>\n",
       "      <td>1596</td>\n",
       "      <td>...</td>\n",
       "      <td>0</td>\n",
       "      <td>-20.0</td>\n",
       "      <td>149.0</td>\n",
       "      <td>-84.0</td>\n",
       "      <td>195.0</td>\n",
       "      <td>5</td>\n",
       "      <td>4</td>\n",
       "      <td>3</td>\n",
       "      <td>1</td>\n",
       "      <td>-5.0</td>\n",
       "    </tr>\n",
       "  </tbody>\n",
       "</table>\n",
       "<p>2 rows × 91 columns</p>\n",
       "</div>"
      ],
      "text/plain": [
       "          start_time  r1_level  r1_xp  r1_gold  r1_lh  r1_kills  r1_deaths  \\\n",
       "match_id                                                                     \n",
       "0         1430198770         5   2098     1489     20         0          0   \n",
       "1         1430220345         4   1188     1033      9         0          1   \n",
       "\n",
       "          r1_items  r2_level  r2_xp          ...           \\\n",
       "match_id                                     ...            \n",
       "0                7         3    842          ...            \n",
       "1               12         4   1596          ...            \n",
       "\n",
       "          radiant_ward_sentry_count  radiant_first_ward_time  \\\n",
       "match_id                                                       \n",
       "0                                 0                     35.0   \n",
       "1                                 0                    -20.0   \n",
       "\n",
       "          dire_bottle_time  dire_courier_time  dire_flying_courier_time  \\\n",
       "match_id                                                                  \n",
       "0                    103.0              -84.0                     221.0   \n",
       "1                    149.0              -84.0                     195.0   \n",
       "\n",
       "          dire_tpscroll_count  dire_boots_count  dire_ward_observer_count  \\\n",
       "match_id                                                                    \n",
       "0                           3                 4                         2   \n",
       "1                           5                 4                         3   \n",
       "\n",
       "          dire_ward_sentry_count  dire_first_ward_time  \n",
       "match_id                                                \n",
       "0                              2                 -52.0  \n",
       "1                              1                  -5.0  \n",
       "\n",
       "[2 rows x 91 columns]"
      ]
     },
     "execution_count": 27,
     "metadata": {},
     "output_type": "execute_result"
    }
   ],
   "source": [
    "remove_cat_attr(features_clean_nocat)\n",
    "features_clean_nocat[:2]"
   ]
  },
  {
   "cell_type": "code",
   "execution_count": 28,
   "metadata": {},
   "outputs": [],
   "source": [
    "features_fin_nocat = rescale_attr.fit_transform(features_clean_nocat)"
   ]
  },
  {
   "cell_type": "code",
   "execution_count": 29,
   "metadata": {},
   "outputs": [
    {
     "name": "stdout",
     "output_type": "stream",
     "text": [
      "Time elapsed: 0:00:02.442813\n",
      "[0.69961316 0.69150564 0.69419646 0.69425458 0.69571482]\n",
      "Time elapsed: 0:00:03.800238\n",
      "[0.71630684 0.70828717 0.70971489 0.71020968 0.71172337]\n",
      "Time elapsed: 0:00:07.145027\n",
      "[0.72152794 0.71360976 0.71445497 0.71521698 0.71636831]\n",
      "Time elapsed: 0:00:09.135378\n",
      "[0.7218164  0.71370124 0.71462628 0.71551614 0.71634469]\n",
      "Time elapsed: 0:00:09.586750\n",
      "[0.72181205 0.7136378  0.7146095  0.71551012 0.71629945]\n",
      "Time elapsed: 0:00:10.035968\n",
      "[0.72181039 0.71363045 0.71460884 0.71551016 0.71629392]\n",
      "Time elapsed: 0:00:09.863436\n",
      "[0.72181043 0.71362965 0.71460893 0.71551033 0.71629306]\n",
      "Time elapsed: 0:00:09.559017\n",
      "[0.72181067 0.71362945 0.71460889 0.71551027 0.71629322]\n",
      "Time elapsed: 0:00:09.674702\n",
      "[0.72181072 0.71362952 0.71460893 0.71551026 0.71629323]\n",
      "Time elapsed: 0:00:09.557062\n",
      "[0.72181071 0.71362952 0.71460894 0.71551026 0.71629323]\n"
     ]
    },
    {
     "data": {
      "text/plain": [
       "[(-5, 1e-05, 3.368827, 0.695120379847076),\n",
       " (-5, 1e-05, 2.985466, 0.695120379847076),\n",
       " (-5, 1e-05, 3.250486, 0.695120379847076),\n",
       " (-4, 0.0001, 4.462422, 0.7112501143920594),\n",
       " (-4, 0.0001, 4.651262, 0.7112501143920594),\n",
       " (-4, 0.0001, 4.499796, 0.7112501143920594),\n",
       " (-3, 0.001, 8.185532, 0.7161802463683578),\n",
       " (-3, 0.001, 8.615195, 0.7161802463683578),\n",
       " (-3, 0.001, 8.433491, 0.7161802463683578),\n",
       " (4, 10000, 12.385078, 0.7163062572998156),\n",
       " (4, 10000, 12.836843, 0.7163062572998156),\n",
       " (4, 10000, 11.997719, 0.7163062572998156),\n",
       " (3, 1000, 12.130183, 0.7163062636530346),\n",
       " (3, 1000, 12.653866, 0.7163062636530346),\n",
       " (3, 1000, 11.281191, 0.7163062636530346),\n",
       " (2, 100, 18.181951, 0.7163062657792337),\n",
       " (2, 100, 16.921301, 0.7163062657792337),\n",
       " (2, 100, 11.656524, 0.7163062657792337),\n",
       " (1, 10, 13.232057, 0.7163063399602339),\n",
       " (1, 10, 14.36206, 0.7163063399602339),\n",
       " (1, 10, 11.272202, 0.7163063399602339),\n",
       " (0, 1, 11.104389, 0.716306583645544),\n",
       " (0, 1, 15.178845, 0.716306583645544),\n",
       " (0, 1, 12.139916, 0.716306583645544),\n",
       " (-1, 0.1, 11.270448, 0.7163100836533356),\n",
       " (-1, 0.1, 24.528729, 0.7163100836533356),\n",
       " (-1, 0.1, 10.85282, 0.7163100836533356),\n",
       " (-2, 0.01, 10.440804, 0.716341462186996),\n",
       " (-2, 0.01, 19.876072, 0.716341462186996),\n",
       " (-2, 0.01, 11.234739, 0.716341462186996),\n",
       " (-5, 1e-05, 2.442813, 0.6950569329910983),\n",
       " (-4, 0.0001, 3.800238, 0.7112483906159717),\n",
       " (-3, 0.001, 7.145027, 0.7162355910206267),\n",
       " (-2, 0.01, 9.135378, 0.7164009506527343),\n",
       " (-1, 0.1, 9.58675, 0.7163737844721112),\n",
       " (0, 1, 10.035968, 0.7163707526581122),\n",
       " (1, 10, 9.863436, 0.7163704793048005),\n",
       " (2, 100, 9.559017, 0.7163704962706654),\n",
       " (3, 1000, 9.674702, 0.7163705301659756),\n",
       " (4, 10000, 9.557062, 0.7163705301674704)]"
      ]
     },
     "execution_count": 29,
     "metadata": {},
     "output_type": "execute_result"
    }
   ],
   "source": [
    "lr_qual_nocat = run_LogReg(features_fin_nocat, Y)\n",
    "lr_qual_nocat\n"
   ]
  },
  {
   "cell_type": "code",
   "execution_count": 87,
   "metadata": {},
   "outputs": [
    {
     "name": "stdout",
     "output_type": "stream",
     "text": [
      "best val=0.751902, with C=0.01 with dropped category attributes\n"
     ]
    }
   ],
   "source": [
    "# и проведите кросс-валидацию для логистической регрессии на новой выборке с подбором лучшего параметра регуляризации.\n",
    "nocat_values = bestC(lr_qual_nocat)[0]\n",
    "nocat_C = bestC(lr_qual_nocat)[1]\n",
    "print (\"best val=%.6f, with C=%.2f with dropped category attributes\" % (nocat_values,nocat_C))"
   ]
  },
  {
   "cell_type": "code",
   "execution_count": 33,
   "metadata": {},
   "outputs": [
    {
     "data": {
      "text/plain": [
       "1.0000830448450613"
      ]
     },
     "execution_count": 33,
     "metadata": {},
     "output_type": "execute_result"
    }
   ],
   "source": [
    "nocat_values/all_values"
   ]
  },
  {
   "cell_type": "markdown",
   "metadata": {},
   "source": [
    " Изменилось ли качество? - no, same\n",
    " \n",
    "Чем вы можете это объяснить? - those attributes do not have any impact on the model"
   ]
  },
  {
   "cell_type": "code",
   "execution_count": 34,
   "metadata": {},
   "outputs": [],
   "source": [
    "#На предыдущем шаге мы исключили из выборки признаки rM_hero и dM_hero, которые показывают, какие именно герои играли \n",
    "# за каждую команду. Это важные признаки — герои имеют разные характеристики, и некоторые из них выигрывают чаще, \n",
    "# чем другие. Выясните из данных, сколько различных идентификаторов героев существует в данной игре (вам может \n",
    "# пригодиться фукнция unique или value_counts)."
   ]
  },
  {
   "cell_type": "code",
   "execution_count": 35,
   "metadata": {},
   "outputs": [],
   "source": [
    "features_heros=features_clean.copy()\n",
    "all_heroes1=[]\n",
    "all_heroes2=[]\n",
    "for n in range(1, 6):\n",
    "    all_heroes1.append(features_heros['r{}_hero'.format(n)].unique())\n",
    "    all_heroes2.append(features_heros['d{}_hero'.format(n)].unique())\n"
   ]
  },
  {
   "cell_type": "code",
   "execution_count": 36,
   "metadata": {},
   "outputs": [
    {
     "data": {
      "text/plain": [
       "33"
      ]
     },
     "execution_count": 36,
     "metadata": {},
     "output_type": "execute_result"
    }
   ],
   "source": [
    "features_heros['r1_hero'][2]"
   ]
  },
  {
   "cell_type": "code",
   "execution_count": 37,
   "metadata": {},
   "outputs": [],
   "source": [
    "all_names_of_heroes=[]\n",
    "for i in range(0,5):\n",
    "    for j in range(0,len(all_heroes2[i])):\n",
    "        all_names_of_heroes.append(all_heroes2[i][j])\n",
    "for i in range(0,5):\n",
    "    for j in range(0,len(all_heroes1[i])):\n",
    "        all_names_of_heroes.append(all_heroes1[i][j])        "
   ]
  },
  {
   "cell_type": "code",
   "execution_count": 63,
   "metadata": {},
   "outputs": [],
   "source": [
    "hero_names = list(set(all_names_of_heroes))\n",
    "#hero_names"
   ]
  },
  {
   "cell_type": "code",
   "execution_count": 39,
   "metadata": {},
   "outputs": [
    {
     "name": "stdout",
     "output_type": "stream",
     "text": [
      "108\n"
     ]
    }
   ],
   "source": [
    "Num_heroes = len(hero_names)\n",
    "print (Num_heroes)"
   ]
  },
  {
   "cell_type": "code",
   "execution_count": 56,
   "metadata": {},
   "outputs": [
    {
     "data": {
      "text/plain": [
       "97230"
      ]
     },
     "execution_count": 56,
     "metadata": {},
     "output_type": "execute_result"
    }
   ],
   "source": [
    "features_clean.shape[0]"
   ]
  },
  {
   "cell_type": "code",
   "execution_count": 64,
   "metadata": {},
   "outputs": [],
   "source": [
    "#4. Воспользуемся подходом \"мешок слов\" для кодирования информации о героях. Пусть всего в игре имеет N различных героев.\n",
    "#Сформируем N признаков, при этом i-й будет равен нулю, если i-й герой не участвовал в матче; единице, \n",
    "#если i-й герой играл за команду Radiant; минус единице, если i-й герой играл за команду Dire. \n",
    "#Ниже вы можете найти код, который выполняет данной преобразование. \n",
    "# N — количество различных героев в выборке\n",
    "# Формируем \"мешок слов\" по героям\n",
    "def bag_hero_to_num(X):\n",
    "    X_pick = np.zeros((X.shape[0], Num_heroes))\n",
    "    for i, match_id in enumerate(X.index):\n",
    "        for p in range(1,6):\n",
    "            X_pick[i, np.where(hero_names == X.ix[match_id, 'r%d_hero' % p])] = 1\n",
    "            X_pick[i, np.where(hero_names == X.ix[match_id, 'd%d_hero' % p])] = -1\n",
    "    return X_pick\n"
   ]
  },
  {
   "cell_type": "code",
   "execution_count": 70,
   "metadata": {},
   "outputs": [
    {
     "data": {
      "text/plain": [
       "array([[ 0.,  0.,  0., ...,  0.,  0.,  0.],\n",
       "       [ 0.,  0.,  0., ...,  0.,  0.,  0.],\n",
       "       [ 0.,  0.,  0., ...,  0.,  0.,  0.],\n",
       "       ...,\n",
       "       [ 0.,  0.,  0., ...,  0.,  0.,  1.],\n",
       "       [ 0.,  0.,  0., ...,  0.,  0.,  0.],\n",
       "       [ 0.,  0.,  0., ...,  0.,  0., -1.]])"
      ]
     },
     "execution_count": 70,
     "metadata": {},
     "output_type": "execute_result"
    }
   ],
   "source": [
    "X_pick = bag_hero_to_num(features_clean)\n",
    "X_pick"
   ]
  },
  {
   "cell_type": "code",
   "execution_count": 115,
   "metadata": {},
   "outputs": [
    {
     "data": {
      "text/html": [
       "<div>\n",
       "<style scoped>\n",
       "    .dataframe tbody tr th:only-of-type {\n",
       "        vertical-align: middle;\n",
       "    }\n",
       "\n",
       "    .dataframe tbody tr th {\n",
       "        vertical-align: top;\n",
       "    }\n",
       "\n",
       "    .dataframe thead th {\n",
       "        text-align: right;\n",
       "    }\n",
       "</style>\n",
       "<table border=\"1\" class=\"dataframe\">\n",
       "  <thead>\n",
       "    <tr style=\"text-align: right;\">\n",
       "      <th></th>\n",
       "      <th>start_time</th>\n",
       "      <th>r1_level</th>\n",
       "      <th>r1_xp</th>\n",
       "      <th>r1_gold</th>\n",
       "      <th>r1_lh</th>\n",
       "      <th>r1_kills</th>\n",
       "      <th>r1_deaths</th>\n",
       "      <th>r1_items</th>\n",
       "      <th>r2_level</th>\n",
       "      <th>r2_xp</th>\n",
       "      <th>...</th>\n",
       "      <th>radiant_ward_sentry_count</th>\n",
       "      <th>radiant_first_ward_time</th>\n",
       "      <th>dire_bottle_time</th>\n",
       "      <th>dire_courier_time</th>\n",
       "      <th>dire_flying_courier_time</th>\n",
       "      <th>dire_tpscroll_count</th>\n",
       "      <th>dire_boots_count</th>\n",
       "      <th>dire_ward_observer_count</th>\n",
       "      <th>dire_ward_sentry_count</th>\n",
       "      <th>dire_first_ward_time</th>\n",
       "    </tr>\n",
       "    <tr>\n",
       "      <th>match_id</th>\n",
       "      <th></th>\n",
       "      <th></th>\n",
       "      <th></th>\n",
       "      <th></th>\n",
       "      <th></th>\n",
       "      <th></th>\n",
       "      <th></th>\n",
       "      <th></th>\n",
       "      <th></th>\n",
       "      <th></th>\n",
       "      <th></th>\n",
       "      <th></th>\n",
       "      <th></th>\n",
       "      <th></th>\n",
       "      <th></th>\n",
       "      <th></th>\n",
       "      <th></th>\n",
       "      <th></th>\n",
       "      <th></th>\n",
       "      <th></th>\n",
       "      <th></th>\n",
       "    </tr>\n",
       "  </thead>\n",
       "  <tbody>\n",
       "    <tr>\n",
       "      <th>0</th>\n",
       "      <td>1430198770</td>\n",
       "      <td>5</td>\n",
       "      <td>2098</td>\n",
       "      <td>1489</td>\n",
       "      <td>20</td>\n",
       "      <td>0</td>\n",
       "      <td>0</td>\n",
       "      <td>7</td>\n",
       "      <td>3</td>\n",
       "      <td>842</td>\n",
       "      <td>...</td>\n",
       "      <td>0</td>\n",
       "      <td>35.0</td>\n",
       "      <td>103.0</td>\n",
       "      <td>-84.0</td>\n",
       "      <td>221.0</td>\n",
       "      <td>3</td>\n",
       "      <td>4</td>\n",
       "      <td>2</td>\n",
       "      <td>2</td>\n",
       "      <td>-52.0</td>\n",
       "    </tr>\n",
       "    <tr>\n",
       "      <th>1</th>\n",
       "      <td>1430220345</td>\n",
       "      <td>4</td>\n",
       "      <td>1188</td>\n",
       "      <td>1033</td>\n",
       "      <td>9</td>\n",
       "      <td>0</td>\n",
       "      <td>1</td>\n",
       "      <td>12</td>\n",
       "      <td>4</td>\n",
       "      <td>1596</td>\n",
       "      <td>...</td>\n",
       "      <td>0</td>\n",
       "      <td>-20.0</td>\n",
       "      <td>149.0</td>\n",
       "      <td>-84.0</td>\n",
       "      <td>195.0</td>\n",
       "      <td>5</td>\n",
       "      <td>4</td>\n",
       "      <td>3</td>\n",
       "      <td>1</td>\n",
       "      <td>-5.0</td>\n",
       "    </tr>\n",
       "    <tr>\n",
       "      <th>2</th>\n",
       "      <td>1430227081</td>\n",
       "      <td>4</td>\n",
       "      <td>1319</td>\n",
       "      <td>1270</td>\n",
       "      <td>22</td>\n",
       "      <td>0</td>\n",
       "      <td>0</td>\n",
       "      <td>12</td>\n",
       "      <td>3</td>\n",
       "      <td>1314</td>\n",
       "      <td>...</td>\n",
       "      <td>1</td>\n",
       "      <td>-39.0</td>\n",
       "      <td>45.0</td>\n",
       "      <td>-77.0</td>\n",
       "      <td>221.0</td>\n",
       "      <td>3</td>\n",
       "      <td>4</td>\n",
       "      <td>3</td>\n",
       "      <td>1</td>\n",
       "      <td>13.0</td>\n",
       "    </tr>\n",
       "    <tr>\n",
       "      <th>3</th>\n",
       "      <td>1430263531</td>\n",
       "      <td>4</td>\n",
       "      <td>1779</td>\n",
       "      <td>1056</td>\n",
       "      <td>14</td>\n",
       "      <td>0</td>\n",
       "      <td>0</td>\n",
       "      <td>5</td>\n",
       "      <td>2</td>\n",
       "      <td>539</td>\n",
       "      <td>...</td>\n",
       "      <td>0</td>\n",
       "      <td>-30.0</td>\n",
       "      <td>124.0</td>\n",
       "      <td>-80.0</td>\n",
       "      <td>184.0</td>\n",
       "      <td>0</td>\n",
       "      <td>4</td>\n",
       "      <td>2</td>\n",
       "      <td>0</td>\n",
       "      <td>27.0</td>\n",
       "    </tr>\n",
       "    <tr>\n",
       "      <th>4</th>\n",
       "      <td>1430282290</td>\n",
       "      <td>4</td>\n",
       "      <td>1431</td>\n",
       "      <td>1090</td>\n",
       "      <td>8</td>\n",
       "      <td>1</td>\n",
       "      <td>0</td>\n",
       "      <td>8</td>\n",
       "      <td>2</td>\n",
       "      <td>629</td>\n",
       "      <td>...</td>\n",
       "      <td>0</td>\n",
       "      <td>46.0</td>\n",
       "      <td>182.0</td>\n",
       "      <td>-80.0</td>\n",
       "      <td>225.0</td>\n",
       "      <td>6</td>\n",
       "      <td>3</td>\n",
       "      <td>3</td>\n",
       "      <td>0</td>\n",
       "      <td>-16.0</td>\n",
       "    </tr>\n",
       "  </tbody>\n",
       "</table>\n",
       "<p>5 rows × 91 columns</p>\n",
       "</div>"
      ],
      "text/plain": [
       "          start_time  r1_level  r1_xp  r1_gold  r1_lh  r1_kills  r1_deaths  \\\n",
       "match_id                                                                     \n",
       "0         1430198770         5   2098     1489     20         0          0   \n",
       "1         1430220345         4   1188     1033      9         0          1   \n",
       "2         1430227081         4   1319     1270     22         0          0   \n",
       "3         1430263531         4   1779     1056     14         0          0   \n",
       "4         1430282290         4   1431     1090      8         1          0   \n",
       "\n",
       "          r1_items  r2_level  r2_xp          ...           \\\n",
       "match_id                                     ...            \n",
       "0                7         3    842          ...            \n",
       "1               12         4   1596          ...            \n",
       "2               12         3   1314          ...            \n",
       "3                5         2    539          ...            \n",
       "4                8         2    629          ...            \n",
       "\n",
       "          radiant_ward_sentry_count  radiant_first_ward_time  \\\n",
       "match_id                                                       \n",
       "0                                 0                     35.0   \n",
       "1                                 0                    -20.0   \n",
       "2                                 1                    -39.0   \n",
       "3                                 0                    -30.0   \n",
       "4                                 0                     46.0   \n",
       "\n",
       "          dire_bottle_time  dire_courier_time  dire_flying_courier_time  \\\n",
       "match_id                                                                  \n",
       "0                    103.0              -84.0                     221.0   \n",
       "1                    149.0              -84.0                     195.0   \n",
       "2                     45.0              -77.0                     221.0   \n",
       "3                    124.0              -80.0                     184.0   \n",
       "4                    182.0              -80.0                     225.0   \n",
       "\n",
       "          dire_tpscroll_count  dire_boots_count  dire_ward_observer_count  \\\n",
       "match_id                                                                    \n",
       "0                           3                 4                         2   \n",
       "1                           5                 4                         3   \n",
       "2                           3                 4                         3   \n",
       "3                           0                 4                         2   \n",
       "4                           6                 3                         3   \n",
       "\n",
       "          dire_ward_sentry_count  dire_first_ward_time  \n",
       "match_id                                                \n",
       "0                              2                 -52.0  \n",
       "1                              1                  -5.0  \n",
       "2                              1                  13.0  \n",
       "3                              0                  27.0  \n",
       "4                              0                 -16.0  \n",
       "\n",
       "[5 rows x 91 columns]"
      ]
     },
     "execution_count": 115,
     "metadata": {},
     "output_type": "execute_result"
    }
   ],
   "source": [
    "#Добавьте полученные признаки к числовым, которые вы использовали во втором пункте данного этапа.\n",
    "features_clean_catToNum_base = features_clean_nocat.copy()\n",
    "features_clean_catToNum_base.head()"
   ]
  },
  {
   "cell_type": "code",
   "execution_count": 117,
   "metadata": {},
   "outputs": [
    {
     "data": {
      "text/html": [
       "<div>\n",
       "<style scoped>\n",
       "    .dataframe tbody tr th:only-of-type {\n",
       "        vertical-align: middle;\n",
       "    }\n",
       "\n",
       "    .dataframe tbody tr th {\n",
       "        vertical-align: top;\n",
       "    }\n",
       "\n",
       "    .dataframe thead th {\n",
       "        text-align: right;\n",
       "    }\n",
       "</style>\n",
       "<table border=\"1\" class=\"dataframe\">\n",
       "  <thead>\n",
       "    <tr style=\"text-align: right;\">\n",
       "      <th></th>\n",
       "      <th>start_time</th>\n",
       "      <th>r1_level</th>\n",
       "      <th>r1_xp</th>\n",
       "      <th>r1_gold</th>\n",
       "      <th>r1_lh</th>\n",
       "      <th>r1_kills</th>\n",
       "      <th>r1_deaths</th>\n",
       "      <th>r1_items</th>\n",
       "      <th>r2_level</th>\n",
       "      <th>r2_xp</th>\n",
       "      <th>...</th>\n",
       "      <th>98</th>\n",
       "      <th>99</th>\n",
       "      <th>100</th>\n",
       "      <th>101</th>\n",
       "      <th>102</th>\n",
       "      <th>103</th>\n",
       "      <th>104</th>\n",
       "      <th>105</th>\n",
       "      <th>106</th>\n",
       "      <th>107</th>\n",
       "    </tr>\n",
       "    <tr>\n",
       "      <th>match_id</th>\n",
       "      <th></th>\n",
       "      <th></th>\n",
       "      <th></th>\n",
       "      <th></th>\n",
       "      <th></th>\n",
       "      <th></th>\n",
       "      <th></th>\n",
       "      <th></th>\n",
       "      <th></th>\n",
       "      <th></th>\n",
       "      <th></th>\n",
       "      <th></th>\n",
       "      <th></th>\n",
       "      <th></th>\n",
       "      <th></th>\n",
       "      <th></th>\n",
       "      <th></th>\n",
       "      <th></th>\n",
       "      <th></th>\n",
       "      <th></th>\n",
       "      <th></th>\n",
       "    </tr>\n",
       "  </thead>\n",
       "  <tbody>\n",
       "    <tr>\n",
       "      <th>0</th>\n",
       "      <td>1430198770</td>\n",
       "      <td>5</td>\n",
       "      <td>2098</td>\n",
       "      <td>1489</td>\n",
       "      <td>20</td>\n",
       "      <td>0</td>\n",
       "      <td>0</td>\n",
       "      <td>7</td>\n",
       "      <td>3</td>\n",
       "      <td>842</td>\n",
       "      <td>...</td>\n",
       "      <td>0.0</td>\n",
       "      <td>0.0</td>\n",
       "      <td>0.0</td>\n",
       "      <td>0.0</td>\n",
       "      <td>0.0</td>\n",
       "      <td>1.0</td>\n",
       "      <td>0.0</td>\n",
       "      <td>0.0</td>\n",
       "      <td>0.0</td>\n",
       "      <td>0.0</td>\n",
       "    </tr>\n",
       "    <tr>\n",
       "      <th>1</th>\n",
       "      <td>1430220345</td>\n",
       "      <td>4</td>\n",
       "      <td>1188</td>\n",
       "      <td>1033</td>\n",
       "      <td>9</td>\n",
       "      <td>0</td>\n",
       "      <td>1</td>\n",
       "      <td>12</td>\n",
       "      <td>4</td>\n",
       "      <td>1596</td>\n",
       "      <td>...</td>\n",
       "      <td>0.0</td>\n",
       "      <td>0.0</td>\n",
       "      <td>0.0</td>\n",
       "      <td>0.0</td>\n",
       "      <td>0.0</td>\n",
       "      <td>0.0</td>\n",
       "      <td>0.0</td>\n",
       "      <td>0.0</td>\n",
       "      <td>0.0</td>\n",
       "      <td>0.0</td>\n",
       "    </tr>\n",
       "    <tr>\n",
       "      <th>2</th>\n",
       "      <td>1430227081</td>\n",
       "      <td>4</td>\n",
       "      <td>1319</td>\n",
       "      <td>1270</td>\n",
       "      <td>22</td>\n",
       "      <td>0</td>\n",
       "      <td>0</td>\n",
       "      <td>12</td>\n",
       "      <td>3</td>\n",
       "      <td>1314</td>\n",
       "      <td>...</td>\n",
       "      <td>0.0</td>\n",
       "      <td>0.0</td>\n",
       "      <td>0.0</td>\n",
       "      <td>0.0</td>\n",
       "      <td>0.0</td>\n",
       "      <td>0.0</td>\n",
       "      <td>0.0</td>\n",
       "      <td>0.0</td>\n",
       "      <td>0.0</td>\n",
       "      <td>0.0</td>\n",
       "    </tr>\n",
       "    <tr>\n",
       "      <th>3</th>\n",
       "      <td>1430263531</td>\n",
       "      <td>4</td>\n",
       "      <td>1779</td>\n",
       "      <td>1056</td>\n",
       "      <td>14</td>\n",
       "      <td>0</td>\n",
       "      <td>0</td>\n",
       "      <td>5</td>\n",
       "      <td>2</td>\n",
       "      <td>539</td>\n",
       "      <td>...</td>\n",
       "      <td>0.0</td>\n",
       "      <td>0.0</td>\n",
       "      <td>-1.0</td>\n",
       "      <td>0.0</td>\n",
       "      <td>0.0</td>\n",
       "      <td>0.0</td>\n",
       "      <td>0.0</td>\n",
       "      <td>0.0</td>\n",
       "      <td>0.0</td>\n",
       "      <td>0.0</td>\n",
       "    </tr>\n",
       "    <tr>\n",
       "      <th>4</th>\n",
       "      <td>1430282290</td>\n",
       "      <td>4</td>\n",
       "      <td>1431</td>\n",
       "      <td>1090</td>\n",
       "      <td>8</td>\n",
       "      <td>1</td>\n",
       "      <td>0</td>\n",
       "      <td>8</td>\n",
       "      <td>2</td>\n",
       "      <td>629</td>\n",
       "      <td>...</td>\n",
       "      <td>0.0</td>\n",
       "      <td>0.0</td>\n",
       "      <td>0.0</td>\n",
       "      <td>0.0</td>\n",
       "      <td>0.0</td>\n",
       "      <td>0.0</td>\n",
       "      <td>0.0</td>\n",
       "      <td>0.0</td>\n",
       "      <td>0.0</td>\n",
       "      <td>0.0</td>\n",
       "    </tr>\n",
       "  </tbody>\n",
       "</table>\n",
       "<p>5 rows × 199 columns</p>\n",
       "</div>"
      ],
      "text/plain": [
       "          start_time  r1_level  r1_xp  r1_gold  r1_lh  r1_kills  r1_deaths  \\\n",
       "match_id                                                                     \n",
       "0         1430198770         5   2098     1489     20         0          0   \n",
       "1         1430220345         4   1188     1033      9         0          1   \n",
       "2         1430227081         4   1319     1270     22         0          0   \n",
       "3         1430263531         4   1779     1056     14         0          0   \n",
       "4         1430282290         4   1431     1090      8         1          0   \n",
       "\n",
       "          r1_items  r2_level  r2_xp ...    98   99  100  101  102  103  104  \\\n",
       "match_id                            ...                                       \n",
       "0                7         3    842 ...   0.0  0.0  0.0  0.0  0.0  1.0  0.0   \n",
       "1               12         4   1596 ...   0.0  0.0  0.0  0.0  0.0  0.0  0.0   \n",
       "2               12         3   1314 ...   0.0  0.0  0.0  0.0  0.0  0.0  0.0   \n",
       "3                5         2    539 ...   0.0  0.0 -1.0  0.0  0.0  0.0  0.0   \n",
       "4                8         2    629 ...   0.0  0.0  0.0  0.0  0.0  0.0  0.0   \n",
       "\n",
       "          105  106  107  \n",
       "match_id                 \n",
       "0         0.0  0.0  0.0  \n",
       "1         0.0  0.0  0.0  \n",
       "2         0.0  0.0  0.0  \n",
       "3         0.0  0.0  0.0  \n",
       "4         0.0  0.0  0.0  \n",
       "\n",
       "[5 rows x 199 columns]"
      ]
     },
     "execution_count": 117,
     "metadata": {},
     "output_type": "execute_result"
    }
   ],
   "source": [
    "features_clean_catToNum = features_clean_catToNum_base.join(pandas.DataFrame(X_pick, index=features_clean_nocat.index))\n",
    "features_clean_catToNum.head()\n"
   ]
  },
  {
   "cell_type": "code",
   "execution_count": 118,
   "metadata": {},
   "outputs": [],
   "source": [
    "features_fin_catToNum = rescale_attr.fit_transform(features_clean_catToNum)\n",
    "#features_fin_catToNum[:2]"
   ]
  },
  {
   "cell_type": "code",
   "execution_count": 119,
   "metadata": {},
   "outputs": [
    {
     "name": "stdout",
     "output_type": "stream",
     "text": [
      "Time elapsed: 0:00:05.606984\n",
      "[0.71907467 0.71117649 0.71512939 0.71288168 0.71586231]\n",
      "Time elapsed: 0:00:07.789049\n",
      "[0.74685672 0.74006714 0.74277168 0.74026225 0.74423779]\n",
      "Time elapsed: 0:00:13.983975\n",
      "[0.75515333 0.74931124 0.75181648 0.74901026 0.75305284]\n",
      "Time elapsed: 0:00:20.620703\n",
      "[0.75521596 0.74985583 0.75218088 0.74951097 0.75308879]\n",
      "Time elapsed: 0:00:20.392215\n",
      "[0.75513027 0.74989157 0.75213472 0.74953537 0.75293117]\n",
      "Time elapsed: 0:00:20.722569\n",
      "[0.75511969 0.74989604 0.75212742 0.74953884 0.75290574]\n",
      "Time elapsed: 0:00:20.804055\n",
      "[0.75511883 0.74989652 0.75212657 0.74953969 0.75290278]\n",
      "Time elapsed: 0:00:21.294801\n",
      "[0.75511879 0.74989678 0.75212649 0.74953983 0.75290249]\n",
      "Time elapsed: 0:00:20.927342\n",
      "[0.75511885 0.74989672 0.75212658 0.74953981 0.75290238]\n",
      "Time elapsed: 0:00:21.562589\n",
      "[0.75511887 0.74989671 0.75212658 0.74953978 0.75290239]\n"
     ]
    }
   ],
   "source": [
    "#4 .Проведите кросс-валидацию для логистической регрессии на новой выборке с подбором лучшего параметра регуляризации.\n",
    "lr_qual_corCat = run_LogReg(features_fin_catToNum, Y)"
   ]
  },
  {
   "cell_type": "code",
   "execution_count": 120,
   "metadata": {},
   "outputs": [
    {
     "name": "stdout",
     "output_type": "stream",
     "text": [
      "best val=0.7520, with C=0.01 with correccly propagated category attributes\n"
     ]
    }
   ],
   "source": [
    "values_with_catToNum = bestC(lr_qual_corCat)[0]\n",
    "C_with_catToNum = bestC(lr_qual_corCat)[1]\n",
    "print (\"best val=%.4f, with C=%.2f with correccly propagated category attributes\" % (values_with_catToNum,C_with_catToNum))"
   ]
  },
  {
   "cell_type": "code",
   "execution_count": 121,
   "metadata": {},
   "outputs": [
    {
     "data": {
      "text/plain": [
       "1.0000913403122682"
      ]
     },
     "execution_count": 121,
     "metadata": {},
     "output_type": "execute_result"
    }
   ],
   "source": [
    "values_with_catToNum/nocat_values"
   ]
  },
  {
   "cell_type": "markdown",
   "metadata": {},
   "source": [
    "Какое получилось качество? \n",
    "0.7519018100855892\n",
    "\n",
    "Улучшилось ли оно?\n",
    "+5%\n",
    "\n",
    "Чем вы можете это объяснить?\n",
    "\n",
    "Proper use of all atributes: use category attribute as information - not remove, not directly digital"
   ]
  },
  {
   "cell_type": "code",
   "execution_count": 83,
   "metadata": {},
   "outputs": [
    {
     "data": {
      "text/plain": [
       "array([0.001, 0.002, 0.003, 0.004, 0.005, 0.006, 0.007, 0.008, 0.009,\n",
       "       0.01 , 0.011, 0.012, 0.013, 0.014, 0.015, 0.016, 0.017, 0.018,\n",
       "       0.019, 0.02 , 0.021, 0.022, 0.023, 0.024, 0.025, 0.026, 0.027,\n",
       "       0.028, 0.029, 0.03 , 0.031, 0.032, 0.033, 0.034, 0.035, 0.036,\n",
       "       0.037, 0.038, 0.039, 0.04 , 0.041, 0.042, 0.043, 0.044, 0.045,\n",
       "       0.046, 0.047, 0.048, 0.049, 0.05 , 0.051, 0.052, 0.053, 0.054,\n",
       "       0.055, 0.056, 0.057, 0.058, 0.059, 0.06 , 0.061, 0.062, 0.063,\n",
       "       0.064, 0.065, 0.066, 0.067, 0.068, 0.069, 0.07 , 0.071, 0.072,\n",
       "       0.073, 0.074, 0.075, 0.076, 0.077, 0.078, 0.079, 0.08 , 0.081,\n",
       "       0.082, 0.083, 0.084, 0.085, 0.086, 0.087, 0.088, 0.089, 0.09 ,\n",
       "       0.091, 0.092, 0.093, 0.094, 0.095, 0.096, 0.097, 0.098, 0.099,\n",
       "       0.1  ])"
      ]
     },
     "execution_count": 83,
     "metadata": {},
     "output_type": "execute_result"
    }
   ],
   "source": [
    "# с помощью лучшей из изученных моделей: update C evaluation on smaller range to find optimum\n",
    "# C_rough = 0.01, scan again in 0.001 - 0.1\n",
    "grid_C = np.linspace(0.001,0.1,100)\n",
    "grid_C"
   ]
  },
  {
   "cell_type": "code",
   "execution_count": 86,
   "metadata": {},
   "outputs": [
    {
     "name": "stdout",
     "output_type": "stream",
     "text": [
      "0.001 0:00:15.187795 [0.75503591 0.74925153 0.75165321 0.74902422 0.75306145]\n",
      "0.002 0:00:16.264617 [0.75518935 0.74960462 0.75194111 0.74934599 0.75325175]\n",
      "0.003 0:00:17.178558 [0.75518466 0.74969635 0.75200778 0.74943028 0.75324649]\n",
      "0.004 0:00:17.927311 [0.75516559 0.7497335  0.75202204 0.749468   0.75321367]\n",
      "0.005 0:00:18.066343 [0.75514967 0.74975284 0.75202147 0.74948709 0.75318775]\n",
      "0.006 0:00:18.473459 [0.75513352 0.74976621 0.75202368 0.74949457 0.75316259]\n",
      "0.007 0:00:19.875801 [0.75512131 0.74977477 0.75202086 0.74949987 0.75314054]\n",
      "0.008 0:00:19.895799 [0.755108   0.74977784 0.75201942 0.74950383 0.75312326]\n",
      "0.009000000000000001 0:00:19.696915 [0.75509847 0.74978466 0.75201887 0.74950783 0.7531102 ]\n",
      "0.010000000000000002 0:00:19.854673 [0.75509143 0.74979078 0.75201826 0.74951065 0.75309794]\n",
      "0.011 0:00:20.811085 [0.75508574 0.74979291 0.75201459 0.74951166 0.75308929]\n",
      "0.012 0:00:20.121181 [0.7550787  0.74979185 0.752013   0.74951608 0.75307763]\n",
      "0.013000000000000001 0:00:20.142270 [0.75507267 0.74979592 0.75201181 0.74951687 0.75306983]\n",
      "0.014000000000000002 0:00:20.161764 [0.75506861 0.74979802 0.7520077  0.74951705 0.7530607 ]\n",
      "0.015 0:00:20.439763 [0.75506652 0.74979957 0.75200627 0.74952026 0.75305329]\n",
      "0.016 0:00:20.551987 [0.75506315 0.74980161 0.75200527 0.74952227 0.75304635]\n",
      "0.017 0:00:20.553171 [0.75505889 0.74980403 0.75200338 0.7495222  0.75304183]\n",
      "0.018000000000000002 0:00:21.092538 [0.75505314 0.74980476 0.75200167 0.74952403 0.75303754]\n",
      "0.019000000000000003 0:00:20.552268 [0.75505163 0.74980688 0.75200003 0.74952399 0.75303286]\n",
      "0.02 0:00:20.611502 [0.75504899 0.74980803 0.75199728 0.749525   0.75302916]\n",
      "0.021 0:00:20.739793 [0.75504685 0.74980741 0.7519958  0.74952572 0.75302654]\n",
      "0.022000000000000002 0:00:20.751890 [0.75504568 0.74980806 0.75199638 0.74952684 0.75302323]\n",
      "0.023 0:00:20.809681 [0.75504377 0.74980889 0.75199623 0.74952606 0.75302004]\n",
      "0.024 0:00:20.840382 [0.7550412  0.74980951 0.75199462 0.74952583 0.75301534]\n",
      "0.025 0:00:20.881276 [0.75503909 0.7498106  0.75199363 0.74952634 0.75301125]\n",
      "0.026000000000000002 0:00:20.613855 [0.75503734 0.74981084 0.75199306 0.74952714 0.75300936]\n",
      "0.027000000000000003 0:00:21.473302 [0.75503525 0.74981067 0.75199139 0.74952894 0.75300683]\n",
      "0.028 0:00:21.056291 [0.75503356 0.7498114  0.75199102 0.74952973 0.75300503]\n",
      "0.029 0:00:21.791674 [0.75503168 0.74981108 0.75199028 0.74952946 0.75300269]\n",
      "0.030000000000000002 0:00:21.918920 [0.75503007 0.74981174 0.75198862 0.74952955 0.75300043]\n",
      "0.031 0:00:21.000345 [0.7550284  0.74981214 0.75198816 0.74953044 0.7529978 ]\n",
      "0.032 0:00:21.729245 [0.75502743 0.74981276 0.75198798 0.74953136 0.75299401]\n",
      "0.033 0:00:21.847264 [0.75502683 0.74981342 0.75198748 0.74953189 0.75299159]\n",
      "0.034 0:00:22.769584 [0.75502528 0.74981441 0.75198721 0.74953197 0.75299098]\n",
      "0.035 0:00:22.460036 [0.75502524 0.74981429 0.75198575 0.74953202 0.75298866]\n",
      "0.036000000000000004 0:00:23.778123 [0.75502457 0.74981467 0.75198507 0.74953218 0.75298661]\n",
      "0.037000000000000005 0:00:22.363130 [0.7550227  0.74981521 0.75198414 0.74953116 0.75298516]\n",
      "0.038 0:00:23.103138 [0.75502247 0.74981571 0.75198398 0.74953197 0.7529845 ]\n",
      "0.039 0:00:21.270150 [0.75502214 0.74981588 0.75198343 0.7495322  0.75298369]\n",
      "0.04 0:00:21.219847 [0.75502177 0.74981553 0.75198256 0.74953262 0.75298312]\n",
      "0.041 0:00:21.494624 [0.75502052 0.74981614 0.7519821  0.74953274 0.75298247]\n",
      "0.042 0:00:21.126319 [0.75501937 0.7498175  0.75198153 0.74953305 0.75298139]\n",
      "0.043000000000000003 0:00:23.090368 [0.75501858 0.74981748 0.75198143 0.7495332  0.75298069]\n",
      "0.044000000000000004 0:00:23.051729 [0.75501766 0.74981757 0.75198098 0.74953323 0.75297936]\n",
      "0.045 0:00:21.294868 [0.75501702 0.74981806 0.75198125 0.74953282 0.75297816]\n",
      "0.046 0:00:21.214668 [0.75501686 0.74981845 0.7519807  0.74953341 0.75297744]\n",
      "0.047 0:00:23.622698 [0.75501623 0.74981854 0.75198052 0.74953347 0.75297667]\n",
      "0.048 0:00:21.652805 [0.75501567 0.74981826 0.75197954 0.74953357 0.75297542]\n",
      "0.049 0:00:21.963262 [0.7550152  0.74981817 0.75197851 0.74953419 0.75297432]\n",
      "0.05 0:00:21.346129 [0.75501506 0.7498179  0.75197864 0.74953453 0.75297283]\n",
      "0.051000000000000004 0:00:22.140565 [0.75501503 0.74981842 0.75197819 0.74953469 0.75297223]\n",
      "0.052000000000000005 0:00:21.833083 [0.75501446 0.74981844 0.75197784 0.74953501 0.75297159]\n",
      "0.053000000000000005 0:00:21.398192 [0.75501345 0.74981863 0.75197725 0.74953495 0.75297061]\n",
      "0.054 0:00:21.225439 [0.75501359 0.7498185  0.751977   0.7495357  0.75297007]\n",
      "0.055 0:00:21.175042 [0.75501271 0.74981869 0.75197689 0.7495362  0.75297004]\n",
      "0.056 0:00:21.182117 [0.75501258 0.74981903 0.75197707 0.74953612 0.75296868]\n",
      "0.057 0:00:21.239765 [0.75501282 0.74981917 0.7519764  0.7495361  0.75296777]\n",
      "0.058 0:00:21.259039 [0.75501272 0.74981956 0.75197624 0.74953582 0.75296788]\n",
      "0.059000000000000004 0:00:21.848318 [0.75501258 0.74981982 0.75197569 0.74953562 0.75296708]\n",
      "0.060000000000000005 0:00:22.195775 [0.75501277 0.74981968 0.75197581 0.74953558 0.75296629]\n",
      "0.061 0:00:21.683567 [0.75501216 0.7498195  0.75197602 0.74953574 0.75296576]\n",
      "0.062 0:00:22.209978 [0.75501176 0.74982027 0.75197574 0.749536   0.75296486]\n",
      "0.063 0:00:22.428388 [0.75501209 0.74981994 0.75197563 0.7495363  0.75296388]\n",
      "0.064 0:00:23.277879 [0.75501159 0.74982025 0.7519755  0.74953681 0.7529631 ]\n",
      "0.065 0:00:22.464089 [0.75501122 0.74982052 0.75197556 0.74953744 0.75296248]\n",
      "0.066 0:00:22.358425 [0.75501088 0.74982023 0.7519757  0.74953734 0.75296195]\n",
      "0.067 0:00:21.513189 [0.75501052 0.74982064 0.75197574 0.74953716 0.75296143]\n",
      "0.068 0:00:21.075009 [0.75501032 0.7498209  0.75197562 0.74953738 0.75296106]\n",
      "0.069 0:00:21.070058 [0.75500987 0.74982087 0.75197544 0.74953748 0.75296069]\n",
      "0.07 0:00:21.404498 [0.75500939 0.74982112 0.75197519 0.74953744 0.75296025]\n",
      "0.07100000000000001 0:00:21.752345 [0.75500929 0.74982097 0.75197511 0.74953743 0.75296009]\n",
      "0.07200000000000001 0:00:24.731128 [0.75500903 0.74982115 0.75197501 0.7495375  0.75295948]\n",
      "0.07300000000000001 0:00:23.818802 [0.75500884 0.74982121 0.75197495 0.74953725 0.75295892]\n",
      "0.074 0:00:22.451535 [0.75500868 0.74982108 0.75197455 0.7495374  0.75295832]\n",
      "0.075 0:00:21.105109 [0.75500865 0.74982114 0.75197459 0.74953686 0.75295779]\n",
      "0.076 0:00:21.333172 [0.7550092  0.74982116 0.75197478 0.74953701 0.7529572 ]\n",
      "0.077 0:00:22.158425 [0.75500877 0.74982127 0.75197461 0.74953705 0.75295655]\n",
      "0.078 0:00:21.804211 [0.75500882 0.74982149 0.7519741  0.74953696 0.75295623]\n",
      "0.079 0:00:21.980962 [0.75500823 0.74982147 0.75197403 0.74953687 0.75295586]\n",
      "0.08 0:00:21.709784 [0.75500856 0.74982148 0.7519741  0.74953674 0.75295533]\n",
      "0.081 0:00:23.648056 [0.7550086  0.74982141 0.75197416 0.7495365  0.75295509]\n",
      "0.082 0:00:24.747528 [0.75500865 0.7498213  0.75197435 0.74953662 0.7529543 ]\n",
      "0.083 0:00:21.896197 [0.75500846 0.74982137 0.75197426 0.74953682 0.7529536 ]\n",
      "0.084 0:00:23.961626 [0.7550086  0.74982116 0.75197443 0.74953664 0.75295325]\n",
      "0.085 0:00:22.771378 [0.75500845 0.74982105 0.75197414 0.74953657 0.75295226]\n",
      "0.08600000000000001 0:00:22.124881 [0.75500854 0.74982124 0.75197449 0.74953652 0.75295195]\n",
      "0.08700000000000001 0:00:22.982685 [0.75500864 0.74982143 0.75197446 0.74953626 0.75295094]\n",
      "0.08800000000000001 0:00:22.662104 [0.75500817 0.7498213  0.75197445 0.74953626 0.75295081]\n",
      "0.089 0:00:25.760315 [0.75500814 0.74982126 0.75197435 0.74953587 0.75295071]\n",
      "0.09 0:00:24.094294 [0.75500819 0.74982121 0.7519743  0.74953614 0.75295032]\n",
      "0.091 0:00:25.668233 [0.75500774 0.74982127 0.75197425 0.74953618 0.75295028]\n",
      "0.092 0:00:25.993561 [0.7550078  0.74982152 0.75197441 0.74953623 0.75294953]\n",
      "0.093 0:00:22.905044 [0.75500781 0.74982162 0.75197433 0.74953607 0.75294934]\n",
      "0.094 0:00:23.871118 [0.75500785 0.74982141 0.75197407 0.74953604 0.75294911]\n",
      "0.095 0:00:24.570473 [0.75500772 0.74982148 0.75197381 0.74953585 0.75294884]\n",
      "0.096 0:00:25.733692 [0.75500778 0.7498213  0.75197384 0.74953579 0.75294855]\n",
      "0.097 0:00:22.516385 [0.75500754 0.74982147 0.7519736  0.7495357  0.75294824]\n",
      "0.098 0:00:21.892278 [0.75500745 0.74982132 0.75197323 0.74953597 0.7529477 ]\n",
      "0.099 0:00:21.957707 [0.75500693 0.74982165 0.75197278 0.74953618 0.75294724]\n",
      "0.1 0:00:22.731954 [0.75500689 0.74982166 0.75197248 0.74953636 0.75294704]\n"
     ]
    }
   ],
   "source": [
    "lr_optimize_qual =[]\n",
    "#features_fin_catToNum\n",
    "for i in grid_C:\n",
    "    C=i\n",
    "    lr = LogisticRegression(C=C, random_state=241)\n",
    "    start_time = datetime.datetime.now()\n",
    "    lr_scores = cross_val_score(lr, features_fin_catToNum, Y.ravel(), cv=kf, scoring='roc_auc')\n",
    "    run_time=datetime.datetime.now() - start_time\n",
    "    print (i, run_time, lr_scores)\n",
    "    lr_optimize_qual.append((i,C,run_time.total_seconds(),np.mean(lr_scores)))"
   ]
  },
  {
   "cell_type": "code",
   "execution_count": 93,
   "metadata": {},
   "outputs": [
    {
     "name": "stdout",
     "output_type": "stream",
     "text": [
      "best val=0.751921, with C=0.00400 with dropped category attributes\n"
     ]
    }
   ],
   "source": [
    "lr_optimize_qual_values = bestC(lr_optimize_qual)[0]\n",
    "lr_optimize_qual_C = bestC(lr_optimize_qual)[1]\n",
    "print (\"best val=%.6f, with C=%.5f with converted category attributes\" % (lr_optimize_qual_values,lr_optimize_qual_C))\n",
    "#best val=0.751921, with C=0.00400 with dropped category attributes"
   ]
  },
  {
   "cell_type": "code",
   "execution_count": null,
   "metadata": {},
   "outputs": [],
   "source": [
    "#Постройте предсказания вероятностей победы команды Radiant для тестовой выборки с помощью лучшей из изученных моделей\n",
    "#(лучшей с точки зрения AUC-ROC на кросс-валидации). "
   ]
  },
  {
   "cell_type": "code",
   "execution_count": 104,
   "metadata": {},
   "outputs": [
    {
     "data": {
      "text/html": [
       "<div>\n",
       "<style scoped>\n",
       "    .dataframe tbody tr th:only-of-type {\n",
       "        vertical-align: middle;\n",
       "    }\n",
       "\n",
       "    .dataframe tbody tr th {\n",
       "        vertical-align: top;\n",
       "    }\n",
       "\n",
       "    .dataframe thead th {\n",
       "        text-align: right;\n",
       "    }\n",
       "</style>\n",
       "<table border=\"1\" class=\"dataframe\">\n",
       "  <thead>\n",
       "    <tr style=\"text-align: right;\">\n",
       "      <th></th>\n",
       "      <th>start_time</th>\n",
       "      <th>lobby_type</th>\n",
       "      <th>r1_hero</th>\n",
       "      <th>r1_level</th>\n",
       "      <th>r1_xp</th>\n",
       "      <th>r1_gold</th>\n",
       "      <th>r1_lh</th>\n",
       "      <th>r1_kills</th>\n",
       "      <th>r1_deaths</th>\n",
       "      <th>r1_items</th>\n",
       "      <th>...</th>\n",
       "      <th>98</th>\n",
       "      <th>99</th>\n",
       "      <th>100</th>\n",
       "      <th>101</th>\n",
       "      <th>102</th>\n",
       "      <th>103</th>\n",
       "      <th>104</th>\n",
       "      <th>105</th>\n",
       "      <th>106</th>\n",
       "      <th>107</th>\n",
       "    </tr>\n",
       "    <tr>\n",
       "      <th>match_id</th>\n",
       "      <th></th>\n",
       "      <th></th>\n",
       "      <th></th>\n",
       "      <th></th>\n",
       "      <th></th>\n",
       "      <th></th>\n",
       "      <th></th>\n",
       "      <th></th>\n",
       "      <th></th>\n",
       "      <th></th>\n",
       "      <th></th>\n",
       "      <th></th>\n",
       "      <th></th>\n",
       "      <th></th>\n",
       "      <th></th>\n",
       "      <th></th>\n",
       "      <th></th>\n",
       "      <th></th>\n",
       "      <th></th>\n",
       "      <th></th>\n",
       "      <th></th>\n",
       "    </tr>\n",
       "  </thead>\n",
       "  <tbody>\n",
       "    <tr>\n",
       "      <th>0</th>\n",
       "      <td>1430198770</td>\n",
       "      <td>7</td>\n",
       "      <td>11</td>\n",
       "      <td>5</td>\n",
       "      <td>2098</td>\n",
       "      <td>1489</td>\n",
       "      <td>20</td>\n",
       "      <td>0</td>\n",
       "      <td>0</td>\n",
       "      <td>7</td>\n",
       "      <td>...</td>\n",
       "      <td>0.0</td>\n",
       "      <td>0.0</td>\n",
       "      <td>0.0</td>\n",
       "      <td>0.0</td>\n",
       "      <td>0.0</td>\n",
       "      <td>1.0</td>\n",
       "      <td>0.0</td>\n",
       "      <td>0.0</td>\n",
       "      <td>0.0</td>\n",
       "      <td>0.0</td>\n",
       "    </tr>\n",
       "    <tr>\n",
       "      <th>1</th>\n",
       "      <td>1430220345</td>\n",
       "      <td>0</td>\n",
       "      <td>42</td>\n",
       "      <td>4</td>\n",
       "      <td>1188</td>\n",
       "      <td>1033</td>\n",
       "      <td>9</td>\n",
       "      <td>0</td>\n",
       "      <td>1</td>\n",
       "      <td>12</td>\n",
       "      <td>...</td>\n",
       "      <td>0.0</td>\n",
       "      <td>0.0</td>\n",
       "      <td>0.0</td>\n",
       "      <td>0.0</td>\n",
       "      <td>0.0</td>\n",
       "      <td>0.0</td>\n",
       "      <td>0.0</td>\n",
       "      <td>0.0</td>\n",
       "      <td>0.0</td>\n",
       "      <td>0.0</td>\n",
       "    </tr>\n",
       "    <tr>\n",
       "      <th>2</th>\n",
       "      <td>1430227081</td>\n",
       "      <td>7</td>\n",
       "      <td>33</td>\n",
       "      <td>4</td>\n",
       "      <td>1319</td>\n",
       "      <td>1270</td>\n",
       "      <td>22</td>\n",
       "      <td>0</td>\n",
       "      <td>0</td>\n",
       "      <td>12</td>\n",
       "      <td>...</td>\n",
       "      <td>0.0</td>\n",
       "      <td>0.0</td>\n",
       "      <td>0.0</td>\n",
       "      <td>0.0</td>\n",
       "      <td>0.0</td>\n",
       "      <td>0.0</td>\n",
       "      <td>0.0</td>\n",
       "      <td>0.0</td>\n",
       "      <td>0.0</td>\n",
       "      <td>0.0</td>\n",
       "    </tr>\n",
       "    <tr>\n",
       "      <th>3</th>\n",
       "      <td>1430263531</td>\n",
       "      <td>1</td>\n",
       "      <td>29</td>\n",
       "      <td>4</td>\n",
       "      <td>1779</td>\n",
       "      <td>1056</td>\n",
       "      <td>14</td>\n",
       "      <td>0</td>\n",
       "      <td>0</td>\n",
       "      <td>5</td>\n",
       "      <td>...</td>\n",
       "      <td>0.0</td>\n",
       "      <td>0.0</td>\n",
       "      <td>-1.0</td>\n",
       "      <td>0.0</td>\n",
       "      <td>0.0</td>\n",
       "      <td>0.0</td>\n",
       "      <td>0.0</td>\n",
       "      <td>0.0</td>\n",
       "      <td>0.0</td>\n",
       "      <td>0.0</td>\n",
       "    </tr>\n",
       "    <tr>\n",
       "      <th>4</th>\n",
       "      <td>1430282290</td>\n",
       "      <td>7</td>\n",
       "      <td>13</td>\n",
       "      <td>4</td>\n",
       "      <td>1431</td>\n",
       "      <td>1090</td>\n",
       "      <td>8</td>\n",
       "      <td>1</td>\n",
       "      <td>0</td>\n",
       "      <td>8</td>\n",
       "      <td>...</td>\n",
       "      <td>0.0</td>\n",
       "      <td>0.0</td>\n",
       "      <td>0.0</td>\n",
       "      <td>0.0</td>\n",
       "      <td>0.0</td>\n",
       "      <td>0.0</td>\n",
       "      <td>0.0</td>\n",
       "      <td>0.0</td>\n",
       "      <td>0.0</td>\n",
       "      <td>0.0</td>\n",
       "    </tr>\n",
       "  </tbody>\n",
       "</table>\n",
       "<p>5 rows × 210 columns</p>\n",
       "</div>"
      ],
      "text/plain": [
       "          start_time  lobby_type  r1_hero  r1_level  r1_xp  r1_gold  r1_lh  \\\n",
       "match_id                                                                     \n",
       "0         1430198770           7       11         5   2098     1489     20   \n",
       "1         1430220345           0       42         4   1188     1033      9   \n",
       "2         1430227081           7       33         4   1319     1270     22   \n",
       "3         1430263531           1       29         4   1779     1056     14   \n",
       "4         1430282290           7       13         4   1431     1090      8   \n",
       "\n",
       "          r1_kills  r1_deaths  r1_items ...    98   99  100  101  102  103  \\\n",
       "match_id                                ...                                  \n",
       "0                0          0         7 ...   0.0  0.0  0.0  0.0  0.0  1.0   \n",
       "1                0          1        12 ...   0.0  0.0  0.0  0.0  0.0  0.0   \n",
       "2                0          0        12 ...   0.0  0.0  0.0  0.0  0.0  0.0   \n",
       "3                0          0         5 ...   0.0  0.0 -1.0  0.0  0.0  0.0   \n",
       "4                1          0         8 ...   0.0  0.0  0.0  0.0  0.0  0.0   \n",
       "\n",
       "          104  105  106  107  \n",
       "match_id                      \n",
       "0         0.0  0.0  0.0  0.0  \n",
       "1         0.0  0.0  0.0  0.0  \n",
       "2         0.0  0.0  0.0  0.0  \n",
       "3         0.0  0.0  0.0  0.0  \n",
       "4         0.0  0.0  0.0  0.0  \n",
       "\n",
       "[5 rows x 210 columns]"
      ]
     },
     "execution_count": 104,
     "metadata": {},
     "output_type": "execute_result"
    }
   ],
   "source": [
    "features_clean_catToNum.head()"
   ]
  },
  {
   "cell_type": "code",
   "execution_count": 122,
   "metadata": {},
   "outputs": [
    {
     "data": {
      "text/plain": [
       "LogisticRegression(C=0.004, class_weight=None, dual=False, fit_intercept=True,\n",
       "          intercept_scaling=1, max_iter=100, multi_class='ovr', n_jobs=1,\n",
       "          penalty='l2', random_state=241, solver='liblinear', tol=0.0001,\n",
       "          verbose=0, warm_start=False)"
      ]
     },
     "execution_count": 122,
     "metadata": {},
     "output_type": "execute_result"
    }
   ],
   "source": [
    "C=0.004\n",
    "lrfin = LogisticRegression(C=C, random_state=241)\n",
    "lrfin.fit(features_fin_catToNum, Y.ravel())"
   ]
  },
  {
   "cell_type": "code",
   "execution_count": 123,
   "metadata": {},
   "outputs": [],
   "source": [
    "# Prepate test dataset:\n",
    "# 1. take test data with cleaned missing values\n",
    "features_test_clean_nocat = features_test_clean.copy()\n",
    "\n",
    "# 2. remove category attributes\n",
    "remove_cat_attr(features_test_clean_nocat)\n",
    "\n",
    "# 3. create attributes based on category - heroes type\n",
    "X_pick_test = bag_hero_to_num(features_test_clean)\n",
    "\n",
    "# 4. add newly created attributes to initial test matrix without categories\n",
    "features_test_clean_catToNum = features_test_clean_nocat.join(pandas.DataFrame(X_pick_test, index=features_test_clean.index))\n",
    "\n",
    "# 5. normalize attributes in final test dataset\n",
    "features_test_fin1 = rescale_attr.fit_transform(features_test_clean_catToNum)\n",
    "\n"
   ]
  },
  {
   "cell_type": "code",
   "execution_count": 128,
   "metadata": {},
   "outputs": [
    {
     "data": {
      "text/plain": [
       "array([[0.18063632, 0.81936368],\n",
       "       [0.24736102, 0.75263898],\n",
       "       [0.80879367, 0.19120633],\n",
       "       ...,\n",
       "       [0.76255588, 0.23744412],\n",
       "       [0.37022597, 0.62977403],\n",
       "       [0.56642917, 0.43357083]])"
      ]
     },
     "execution_count": 128,
     "metadata": {},
     "output_type": "execute_result"
    }
   ],
   "source": [
    "rad_win_pred = lrfin.predict_proba(features_test_fin1)\n",
    "rad_win_pred"
   ]
  },
  {
   "cell_type": "code",
   "execution_count": 129,
   "metadata": {},
   "outputs": [
    {
     "name": "stdout",
     "output_type": "stream",
     "text": [
      "min = 0.004, max= 0.996\n"
     ]
    }
   ],
   "source": [
    "#Убедитесь, что предсказанные вероятности адекватные — находятся на отрезке [0, 1], не совпадают между собой (т.е. что модель не получилась константной).\n",
    "print(\"min = %.3f, max= %.3f\" % (rad_win_pred.min(), rad_win_pred.max()))\n"
   ]
  },
  {
   "cell_type": "code",
   "execution_count": null,
   "metadata": {},
   "outputs": [],
   "source": []
  },
  {
   "cell_type": "markdown",
   "metadata": {},
   "source": [
    "Report part 2:\n",
    "Q1. Какое качество получилось у логистической регрессии над всеми исходными признаками? 1.2: Как оно соотносится с качеством градиентного бустинга? 1.3: Чем вы можете объяснить эту разницу? 1.4: Быстрее ли работает логистическая регрессия по сравнению с градиентным бустингом?\n",
    "\n",
    "A1.1: 0.71634 (all_values в коде);\n",
    "A1.2: соответствует качеству очень глубокого дерева (0.71634 GB ntrees=200)\n",
    "A1.3: Линейная регрессия оптимально проводит разделяющую гиперплоскость для объектов двух классов. Градиетный бустинг хуже подходит для разреженных данных\n",
    "A1.4: время LR~10s (time_required в коду), у бустинга ~320s -> в 30 раз быстрее\n",
    "\n",
    "Q2. Как влияет на качество логистической регрессии удаление категориальных признаков (укажите новое значение метрики качества)? 2.2: Чем вы можете объяснить это изменение?\n",
    "\n",
    "A2.1: Почти не меняется : ( в коде: значение= values_with_catToNum, отношение= values_with_catToNum/nocat_values=1.0000830448450613)\n",
    "\n",
    "Q3. Сколько различных идентификаторов героев существует в данной игре?\n",
    "A3: 108\n",
    "\n",
    "Q4. Какое получилось качество при добавлении \"мешка слов\" по героям? Улучшилось ли оно по сравнению с предыдущим вариантом? Чем вы можете это объяснить?\n",
    "A. \n",
    "\n",
    "Q5. Какое минимальное и максимальное значение прогноза на тестовой выборке получилось у лучшего из алгоритмов?\n",
    "min = 0.004, max= 0.996"
   ]
  },
  {
   "cell_type": "code",
   "execution_count": null,
   "metadata": {},
   "outputs": [],
   "source": []
  },
  {
   "cell_type": "code",
   "execution_count": null,
   "metadata": {},
   "outputs": [],
   "source": []
  }
 ],
 "metadata": {
  "kernelspec": {
   "display_name": "Python 3",
   "language": "python",
   "name": "python3"
  },
  "language_info": {
   "codemirror_mode": {
    "name": "ipython",
    "version": 3
   },
   "file_extension": ".py",
   "mimetype": "text/x-python",
   "name": "python",
   "nbconvert_exporter": "python",
   "pygments_lexer": "ipython3",
   "version": "3.6.4"
  }
 },
 "nbformat": 4,
 "nbformat_minor": 2
}
