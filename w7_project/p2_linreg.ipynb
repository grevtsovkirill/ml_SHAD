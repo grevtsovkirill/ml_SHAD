{
 "cells": [
  {
   "cell_type": "markdown",
   "metadata": {},
   "source": [
    "CODE\n",
    "Подход 2: логистическая регрессия"
   ]
  },
  {
   "cell_type": "code",
   "execution_count": 2,
   "metadata": {},
   "outputs": [],
   "source": [
    "# Важно: не забывайте, что линейные алгоритмы чувствительны к масштабу признаков! \n",
    "# Может пригодиться sklearn.preprocessing.StandartScaler.\n",
    "\n",
    "import numpy as np\n",
    "import pandas\n",
    "import time\n",
    "import datetime\n",
    "from sklearn.preprocessing import StandardScaler\n",
    "from sklearn.cross_validation import KFold,cross_val_score\n",
    "\n",
    "features = pandas.read_csv('features.csv', index_col='match_id')\n",
    "features_test = pandas.read_csv('features_test.csv', index_col='match_id')\n",
    "y = features['radiant_win'].to_frame()\n",
    "features.drop(['duration',\n",
    "               'radiant_win',\n",
    "               'tower_status_radiant', \n",
    "               'tower_status_dire', \n",
    "               'barracks_status_radiant',\n",
    "               'barracks_status_dire'], axis=1, inplace=True)\n",
    "features_clean = features.fillna(0)\n",
    "features_test_clean = features_test.fillna(0)\n",
    "\n",
    "rescale_attr = StandardScaler()\n",
    "features_fin = rescale_attr.fit_transform(features_clean)\n",
    "Y=np.array(y)\n",
    "\n",
    "\n",
    "kf = KFold(y.size, n_folds=5, shuffle=True, random_state=241)"
   ]
  },
  {
   "cell_type": "code",
   "execution_count": 3,
   "metadata": {},
   "outputs": [],
   "source": [
    "#1. Оцените качество логистической регрессии (sklearn.linear_model.LogisticRegression с \n",
    "# L2-регуляризацией) с помощью кросс-валидации по той же схеме, которая использовалась для \n",
    "# градиентного бустинга. \n",
    "from sklearn.linear_model import LogisticRegression\n",
    "\n",
    "lr_qual = []\n",
    "def run_LogReg(features_fin,Y):\n",
    "    for i in range(-5,5):\n",
    "        C=10**i\n",
    "        lr = LogisticRegression(C=C, random_state=241)\n",
    "        start_time = datetime.datetime.now()\n",
    "        lr_scores = cross_val_score(lr, features_fin, Y.ravel(), cv=kf, scoring='roc_auc')\n",
    "        run_time=datetime.datetime.now() - start_time\n",
    "        print ('Time elapsed:', run_time)\n",
    "        print (lr_scores)\n",
    "        lr_qual.append((i,C,run_time.total_seconds(),np.mean(lr_scores)))\n",
    "    return lr_qual"
   ]
  },
  {
   "cell_type": "code",
   "execution_count": 4,
   "metadata": {},
   "outputs": [
    {
     "name": "stdout",
     "output_type": "stream",
     "text": [
      "Time elapsed: 0:00:03.458511\n",
      "[0.69959206 0.69159358 0.69419291 0.69433159 0.69589176]\n",
      "Time elapsed: 0:00:04.726167\n",
      "[0.7161759  0.7083769  0.70960313 0.71017245 0.71192219]\n",
      "Time elapsed: 0:00:08.460083\n",
      "[0.72134945 0.71368677 0.71425051 0.71512064 0.71649386]\n",
      "Time elapsed: 0:00:11.018461\n",
      "[0.7216634  0.71377395 0.71440813 0.71540233 0.7164595 ]\n",
      "Time elapsed: 0:00:10.981462\n",
      "[0.72165841 0.7137031  0.71438941 0.71539496 0.71640454]\n",
      "Time elapsed: 0:00:12.264499\n",
      "[0.72165762 0.71369565 0.71438656 0.71539329 0.7163998 ]\n",
      "Time elapsed: 0:00:12.672545\n",
      "[0.72165702 0.7136947  0.71438623 0.71539423 0.71639952]\n",
      "Time elapsed: 0:00:11.919500\n",
      "[0.72165734 0.71369455 0.7143859  0.71539408 0.71639946]\n",
      "Time elapsed: 0:00:11.903844\n",
      "[0.72165734 0.71369457 0.71438593 0.71539409 0.71639938]\n",
      "Time elapsed: 0:00:11.665508\n",
      "[0.72165733 0.71369457 0.71438593 0.71539407 0.71639938]\n"
     ]
    },
    {
     "data": {
      "text/plain": [
       "[(-5, 1e-05, 3.458511, 0.695120379847076),\n",
       " (-4, 0.0001, 4.726167, 0.7112501143920594),\n",
       " (-3, 0.001, 8.460083, 0.7161802463683578),\n",
       " (-2, 0.01, 11.018461, 0.716341462186996),\n",
       " (-1, 0.1, 10.981462, 0.7163100836533356),\n",
       " (0, 1, 12.264499, 0.716306583645544),\n",
       " (1, 10, 12.672545, 0.7163063399602339),\n",
       " (2, 100, 11.9195, 0.7163062657792337),\n",
       " (3, 1000, 11.903844, 0.7163062636530346),\n",
       " (4, 10000, 11.665508, 0.7163062572998156)]"
      ]
     },
     "execution_count": 4,
     "metadata": {},
     "output_type": "execute_result"
    }
   ],
   "source": [
    "run_LogReg(features_fin, Y)\n",
    "lr_qual"
   ]
  },
  {
   "cell_type": "code",
   "execution_count": 5,
   "metadata": {},
   "outputs": [],
   "source": [
    "# Подберите при этом лучший параметр регуляризации (C).\n",
    "def bestC(lr_qual):\n",
    "    lr_qual.sort(key=lambda x:x[3])\n",
    "    return max(lr_qual, key=lambda x: x[3])[3]"
   ]
  },
  {
   "cell_type": "code",
   "execution_count": 6,
   "metadata": {},
   "outputs": [
    {
     "data": {
      "text/plain": [
       "0.716341462186996"
      ]
     },
     "execution_count": 6,
     "metadata": {},
     "output_type": "execute_result"
    }
   ],
   "source": [
    "# Какое наилучшее качество у вас получилось?\n",
    "all_values = bestC(lr_qual)\n",
    "all_values"
   ]
  },
  {
   "cell_type": "markdown",
   "metadata": {},
   "source": [
    " Как оно соотносится с качеством градиентного бустинга? \n",
    " \n",
    " 0.716341462186996 -> similar to GB with ntrees=200\n"
   ]
  },
  {
   "cell_type": "code",
   "execution_count": 7,
   "metadata": {},
   "outputs": [
    {
     "data": {
      "text/plain": [
       "11.018461"
      ]
     },
     "execution_count": 7,
     "metadata": {},
     "output_type": "execute_result"
    }
   ],
   "source": [
    "# Быстрее ли работает логистическая регрессия по сравнению с градиентным бустингом?\n",
    "time_required = max(lr_qual, key=lambda x: x[3])[2]\n",
    "time_required #=10.079412"
   ]
  },
  {
   "cell_type": "markdown",
   "metadata": {},
   "source": [
    "GB: datetime.timedelta(0, 321, 256976).total_seconds() = 321.256976\n",
    "\n",
    "->  30 times faster"
   ]
  },
  {
   "cell_type": "code",
   "execution_count": 8,
   "metadata": {},
   "outputs": [],
   "source": [
    "#2. Среди признаков в выборке есть категориальные, которые мы использовали как числовые, \n",
    "#что вряд ли является хорошей идеей.\n"
   ]
  },
  {
   "cell_type": "code",
   "execution_count": 9,
   "metadata": {},
   "outputs": [],
   "source": [
    "#Категориальных признаков в этой задаче одиннадцать: lobby_type и r1_hero, r2_hero, ..., r5_hero, d1_hero, \n",
    "#d2_hero, ..., d5_hero. Уберите их из выборки,"
   ]
  },
  {
   "cell_type": "code",
   "execution_count": 10,
   "metadata": {},
   "outputs": [],
   "source": [
    "features_clean_nocat=features_clean.copy()"
   ]
  },
  {
   "cell_type": "code",
   "execution_count": 11,
   "metadata": {},
   "outputs": [],
   "source": [
    "def remove_cat_attr(features_nocat):\n",
    "    del features_nocat['lobby_type']\n",
    "    for n in range(1, 6):\n",
    "        del features_nocat['r{}_hero'.format(n)]\n",
    "        del features_nocat['d{}_hero'.format(n)]\n",
    "    return features_nocat"
   ]
  },
  {
   "cell_type": "code",
   "execution_count": 12,
   "metadata": {},
   "outputs": [
    {
     "data": {
      "text/html": [
       "<div>\n",
       "<style scoped>\n",
       "    .dataframe tbody tr th:only-of-type {\n",
       "        vertical-align: middle;\n",
       "    }\n",
       "\n",
       "    .dataframe tbody tr th {\n",
       "        vertical-align: top;\n",
       "    }\n",
       "\n",
       "    .dataframe thead th {\n",
       "        text-align: right;\n",
       "    }\n",
       "</style>\n",
       "<table border=\"1\" class=\"dataframe\">\n",
       "  <thead>\n",
       "    <tr style=\"text-align: right;\">\n",
       "      <th></th>\n",
       "      <th>start_time</th>\n",
       "      <th>r1_level</th>\n",
       "      <th>r1_xp</th>\n",
       "      <th>r1_gold</th>\n",
       "      <th>r1_lh</th>\n",
       "      <th>r1_kills</th>\n",
       "      <th>r1_deaths</th>\n",
       "      <th>r1_items</th>\n",
       "      <th>r2_level</th>\n",
       "      <th>r2_xp</th>\n",
       "      <th>...</th>\n",
       "      <th>radiant_ward_sentry_count</th>\n",
       "      <th>radiant_first_ward_time</th>\n",
       "      <th>dire_bottle_time</th>\n",
       "      <th>dire_courier_time</th>\n",
       "      <th>dire_flying_courier_time</th>\n",
       "      <th>dire_tpscroll_count</th>\n",
       "      <th>dire_boots_count</th>\n",
       "      <th>dire_ward_observer_count</th>\n",
       "      <th>dire_ward_sentry_count</th>\n",
       "      <th>dire_first_ward_time</th>\n",
       "    </tr>\n",
       "    <tr>\n",
       "      <th>match_id</th>\n",
       "      <th></th>\n",
       "      <th></th>\n",
       "      <th></th>\n",
       "      <th></th>\n",
       "      <th></th>\n",
       "      <th></th>\n",
       "      <th></th>\n",
       "      <th></th>\n",
       "      <th></th>\n",
       "      <th></th>\n",
       "      <th></th>\n",
       "      <th></th>\n",
       "      <th></th>\n",
       "      <th></th>\n",
       "      <th></th>\n",
       "      <th></th>\n",
       "      <th></th>\n",
       "      <th></th>\n",
       "      <th></th>\n",
       "      <th></th>\n",
       "      <th></th>\n",
       "    </tr>\n",
       "  </thead>\n",
       "  <tbody>\n",
       "    <tr>\n",
       "      <th>0</th>\n",
       "      <td>1430198770</td>\n",
       "      <td>5</td>\n",
       "      <td>2098</td>\n",
       "      <td>1489</td>\n",
       "      <td>20</td>\n",
       "      <td>0</td>\n",
       "      <td>0</td>\n",
       "      <td>7</td>\n",
       "      <td>3</td>\n",
       "      <td>842</td>\n",
       "      <td>...</td>\n",
       "      <td>0</td>\n",
       "      <td>35.0</td>\n",
       "      <td>103.0</td>\n",
       "      <td>-84.0</td>\n",
       "      <td>221.0</td>\n",
       "      <td>3</td>\n",
       "      <td>4</td>\n",
       "      <td>2</td>\n",
       "      <td>2</td>\n",
       "      <td>-52.0</td>\n",
       "    </tr>\n",
       "    <tr>\n",
       "      <th>1</th>\n",
       "      <td>1430220345</td>\n",
       "      <td>4</td>\n",
       "      <td>1188</td>\n",
       "      <td>1033</td>\n",
       "      <td>9</td>\n",
       "      <td>0</td>\n",
       "      <td>1</td>\n",
       "      <td>12</td>\n",
       "      <td>4</td>\n",
       "      <td>1596</td>\n",
       "      <td>...</td>\n",
       "      <td>0</td>\n",
       "      <td>-20.0</td>\n",
       "      <td>149.0</td>\n",
       "      <td>-84.0</td>\n",
       "      <td>195.0</td>\n",
       "      <td>5</td>\n",
       "      <td>4</td>\n",
       "      <td>3</td>\n",
       "      <td>1</td>\n",
       "      <td>-5.0</td>\n",
       "    </tr>\n",
       "  </tbody>\n",
       "</table>\n",
       "<p>2 rows × 91 columns</p>\n",
       "</div>"
      ],
      "text/plain": [
       "          start_time  r1_level  r1_xp  r1_gold  r1_lh  r1_kills  r1_deaths  \\\n",
       "match_id                                                                     \n",
       "0         1430198770         5   2098     1489     20         0          0   \n",
       "1         1430220345         4   1188     1033      9         0          1   \n",
       "\n",
       "          r1_items  r2_level  r2_xp          ...           \\\n",
       "match_id                                     ...            \n",
       "0                7         3    842          ...            \n",
       "1               12         4   1596          ...            \n",
       "\n",
       "          radiant_ward_sentry_count  radiant_first_ward_time  \\\n",
       "match_id                                                       \n",
       "0                                 0                     35.0   \n",
       "1                                 0                    -20.0   \n",
       "\n",
       "          dire_bottle_time  dire_courier_time  dire_flying_courier_time  \\\n",
       "match_id                                                                  \n",
       "0                    103.0              -84.0                     221.0   \n",
       "1                    149.0              -84.0                     195.0   \n",
       "\n",
       "          dire_tpscroll_count  dire_boots_count  dire_ward_observer_count  \\\n",
       "match_id                                                                    \n",
       "0                           3                 4                         2   \n",
       "1                           5                 4                         3   \n",
       "\n",
       "          dire_ward_sentry_count  dire_first_ward_time  \n",
       "match_id                                                \n",
       "0                              2                 -52.0  \n",
       "1                              1                  -5.0  \n",
       "\n",
       "[2 rows x 91 columns]"
      ]
     },
     "execution_count": 12,
     "metadata": {},
     "output_type": "execute_result"
    }
   ],
   "source": [
    "remove_cat_attr(features_clean_nocat)\n",
    "features_clean_nocat[:2]"
   ]
  },
  {
   "cell_type": "code",
   "execution_count": 13,
   "metadata": {},
   "outputs": [],
   "source": [
    "features_fin_nocat = rescale_attr.fit_transform(features_clean_nocat)"
   ]
  },
  {
   "cell_type": "code",
   "execution_count": 14,
   "metadata": {},
   "outputs": [
    {
     "name": "stdout",
     "output_type": "stream",
     "text": [
      "Time elapsed: 0:00:02.895299\n",
      "[0.69961316 0.69150564 0.69419646 0.69425458 0.69571482]\n",
      "Time elapsed: 0:00:03.953975\n",
      "[0.71630684 0.70828717 0.70971489 0.71020968 0.71172337]\n",
      "Time elapsed: 0:00:07.105742\n",
      "[0.72152794 0.71360976 0.71445497 0.71521698 0.71636831]\n",
      "Time elapsed: 0:00:09.178326\n",
      "[0.7218164  0.71370124 0.71462628 0.71551614 0.71634469]\n",
      "Time elapsed: 0:00:09.647376\n",
      "[0.72181205 0.7136378  0.7146095  0.71551012 0.71629945]\n",
      "Time elapsed: 0:00:10.145465\n",
      "[0.72181039 0.71363045 0.71460884 0.71551016 0.71629392]\n",
      "Time elapsed: 0:00:09.785907\n",
      "[0.72181043 0.71362965 0.71460893 0.71551033 0.71629306]\n",
      "Time elapsed: 0:00:10.433436\n",
      "[0.72181067 0.71362945 0.71460889 0.71551027 0.71629322]\n",
      "Time elapsed: 0:00:09.661108\n",
      "[0.72181072 0.71362952 0.71460893 0.71551026 0.71629323]\n",
      "Time elapsed: 0:00:09.771569\n",
      "[0.72181071 0.71362952 0.71460894 0.71551026 0.71629323]\n"
     ]
    },
    {
     "data": {
      "text/plain": [
       "[(-5, 1e-05, 3.458511, 0.695120379847076),\n",
       " (-4, 0.0001, 4.726167, 0.7112501143920594),\n",
       " (-3, 0.001, 8.460083, 0.7161802463683578),\n",
       " (4, 10000, 11.665508, 0.7163062572998156),\n",
       " (3, 1000, 11.903844, 0.7163062636530346),\n",
       " (2, 100, 11.9195, 0.7163062657792337),\n",
       " (1, 10, 12.672545, 0.7163063399602339),\n",
       " (0, 1, 12.264499, 0.716306583645544),\n",
       " (-1, 0.1, 10.981462, 0.7163100836533356),\n",
       " (-2, 0.01, 11.018461, 0.716341462186996),\n",
       " (-5, 1e-05, 2.895299, 0.6950569329910983),\n",
       " (-4, 0.0001, 3.953975, 0.7112483906159717),\n",
       " (-3, 0.001, 7.105742, 0.7162355910206267),\n",
       " (-2, 0.01, 9.178326, 0.7164009506527343),\n",
       " (-1, 0.1, 9.647376, 0.7163737844721112),\n",
       " (0, 1, 10.145465, 0.7163707526581122),\n",
       " (1, 10, 9.785907, 0.7163704793048005),\n",
       " (2, 100, 10.433436, 0.7163704962706654),\n",
       " (3, 1000, 9.661108, 0.7163705301659756),\n",
       " (4, 10000, 9.771569, 0.7163705301674704)]"
      ]
     },
     "execution_count": 14,
     "metadata": {},
     "output_type": "execute_result"
    }
   ],
   "source": [
    "run_LogReg(features_fin_nocat, Y)\n",
    "\n"
   ]
  },
  {
   "cell_type": "code",
   "execution_count": 15,
   "metadata": {},
   "outputs": [
    {
     "data": {
      "text/plain": [
       "0.7164009506527343"
      ]
     },
     "execution_count": 15,
     "metadata": {},
     "output_type": "execute_result"
    }
   ],
   "source": [
    "# и проведите кросс-валидацию для логистической регрессии на новой выборке с подбором лучшего параметра регуляризации.\n",
    "nocat_values = bestC(lr_qual)\n",
    "nocat_values"
   ]
  },
  {
   "cell_type": "code",
   "execution_count": 16,
   "metadata": {},
   "outputs": [
    {
     "data": {
      "text/plain": [
       "1.0000830448450613"
      ]
     },
     "execution_count": 16,
     "metadata": {},
     "output_type": "execute_result"
    }
   ],
   "source": [
    "nocat_values/all_values"
   ]
  },
  {
   "cell_type": "markdown",
   "metadata": {},
   "source": [
    " Изменилось ли качество? - no, same\n",
    " \n",
    "Чем вы можете это объяснить? - those attributes do not have any impact on the model"
   ]
  },
  {
   "cell_type": "code",
   "execution_count": 17,
   "metadata": {},
   "outputs": [],
   "source": [
    "#На предыдущем шаге мы исключили из выборки признаки rM_hero и dM_hero, которые показывают, какие именно герои играли \n",
    "# за каждую команду. Это важные признаки — герои имеют разные характеристики, и некоторые из них выигрывают чаще, \n",
    "# чем другие. Выясните из данных, сколько различных идентификаторов героев существует в данной игре (вам может \n",
    "# пригодиться фукнция unique или value_counts)."
   ]
  },
  {
   "cell_type": "code",
   "execution_count": null,
   "metadata": {},
   "outputs": [],
   "source": [
    "features_heros=features_clean.copy()\n",
    "all_heroes1=[]\n",
    "all_heroes2=[]\n",
    "for n in range(1, 6):\n",
    "    all_heroes1.append(features_heros['r{}_hero'.format(n)].unique())\n",
    "    all_heroes2.append(features_heros['d{}_hero'.format(n)].unique())\n"
   ]
  },
  {
   "cell_type": "code",
   "execution_count": null,
   "metadata": {},
   "outputs": [],
   "source": [
    "features_heros['r1_hero'][2]"
   ]
  },
  {
   "cell_type": "code",
   "execution_count": null,
   "metadata": {},
   "outputs": [],
   "source": [
    "all_names_of_heroes=[]\n",
    "for i in range(0,5):\n",
    "    for j in range(0,len(all_heroes2[i])):\n",
    "        all_names_of_heroes.append(all_heroes2[i][j])\n",
    "for i in range(0,5):\n",
    "    for j in range(0,len(all_heroes1[i])):\n",
    "        all_names_of_heroes.append(all_heroes1[i][j])        "
   ]
  },
  {
   "cell_type": "code",
   "execution_count": null,
   "metadata": {},
   "outputs": [],
   "source": [
    "hero_names = list(set(all_names_of_heroes))"
   ]
  },
  {
   "cell_type": "code",
   "execution_count": null,
   "metadata": {},
   "outputs": [],
   "source": [
    "Num_heroes = len(hero_names)\n",
    "print (Num_heroes)"
   ]
  },
  {
   "cell_type": "code",
   "execution_count": null,
   "metadata": {},
   "outputs": [],
   "source": [
    "#4. Воспользуемся подходом \"мешок слов\" для кодирования информации о героях. Пусть всего в игре имеет N различных героев.\n",
    "#Сформируем N признаков, при этом i-й будет равен нулю, если i-й герой не участвовал в матче; единице, \n",
    "#если i-й герой играл за команду Radiant; минус единице, если i-й герой играл за команду Dire. \n",
    "#Ниже вы можете найти код, который выполняет данной преобразование. \n",
    "\n",
    "# N — количество различных героев в выборке\n",
    "# Формируем \"мешок слов\" по героям\n",
    "def bag_hero_to_num(features):\n",
    "    X_pick = np.zeros((features.shape[0], 112))\n",
    "    for i, match_id in enumerate(features.index):\n",
    "        for p in range(0,5):\n",
    "            X_pick[i, features.ix[match_id, 'r%d_hero' % (p+1)]-1] = 1\n",
    "            X_pick[i, features.ix[match_id, 'd%d_hero' % (p+1)]-1] = -1\n",
    "    return pandas.DataFrame(X_pick, index=features.index)"
   ]
  },
  {
   "cell_type": "code",
   "execution_count": null,
   "metadata": {},
   "outputs": [],
   "source": [
    "X_pick"
   ]
  },
  {
   "cell_type": "code",
   "execution_count": null,
   "metadata": {},
   "outputs": [],
   "source": [
    "bag_hero_to_num(features)"
   ]
  },
  {
   "cell_type": "code",
   "execution_count": null,
   "metadata": {},
   "outputs": [],
   "source": [
    "hero_pd = pandas.DataFrame(X_pick, index=features.index)"
   ]
  },
  {
   "cell_type": "code",
   "execution_count": null,
   "metadata": {},
   "outputs": [],
   "source": [
    "hero_pd[:8]"
   ]
  },
  {
   "cell_type": "code",
   "execution_count": null,
   "metadata": {},
   "outputs": [],
   "source": [
    "#Добавьте полученные признаки к числовым, которые вы использовали во втором пункте данного этапа.\n",
    "features_clean_catToNum_base = features_clean.copy()"
   ]
  },
  {
   "cell_type": "code",
   "execution_count": null,
   "metadata": {},
   "outputs": [],
   "source": [
    "features_clean_catToNum = pandas.concat([features_clean_catToNum_base, hero_pd], axis=1)"
   ]
  },
  {
   "cell_type": "code",
   "execution_count": null,
   "metadata": {},
   "outputs": [],
   "source": [
    "features_fin_catToNum = rescale_attr.fit_transform(features_clean_catToNum)\n",
    "#features_fin_catToNum[:2]"
   ]
  },
  {
   "cell_type": "code",
   "execution_count": null,
   "metadata": {},
   "outputs": [],
   "source": [
    "#4 .Проведите кросс-валидацию для логистической регрессии на новой выборке с подбором лучшего параметра регуляризации.\n",
    "run_LogReg(features_fin_catToNum, Y)"
   ]
  },
  {
   "cell_type": "code",
   "execution_count": null,
   "metadata": {},
   "outputs": [],
   "source": [
    "values_with_catToNum = bestC(lr_qual)\n",
    "values_with_catToNum\n"
   ]
  },
  {
   "cell_type": "code",
   "execution_count": null,
   "metadata": {},
   "outputs": [],
   "source": [
    "values_with_catToNum/nocat_values"
   ]
  },
  {
   "cell_type": "markdown",
   "metadata": {},
   "source": [
    "Какое получилось качество? \n",
    "0.7519018100855892\n",
    "\n",
    "Улучшилось ли оно?\n",
    "+5%\n",
    "\n",
    "Чем вы можете это объяснить?\n",
    "\n",
    "Proper use of all atributes: use category attribute as information - not remove, not directly digital"
   ]
  },
  {
   "cell_type": "code",
   "execution_count": null,
   "metadata": {},
   "outputs": [],
   "source": [
    "#Постройте предсказания вероятностей победы команды Radiant для тестовой выборки с помощью лучшей из изученных моделей\n",
    "#(лучшей с точки зрения AUC-ROC на кросс-валидации). Убедитесь, что предсказанные вероятности адекватные — находятся на отрезке \n",
    "# [0, 1], не совпадают между собой (т.е. что модель не получилась константной)."
   ]
  },
  {
   "cell_type": "code",
   "execution_count": null,
   "metadata": {},
   "outputs": [],
   "source": [
    "C=0.01\n",
    "lr = LogisticRegression(C=C, random_state=241)\n",
    "lr.fit(features_fin_catToNum, Y.ravel())"
   ]
  },
  {
   "cell_type": "code",
   "execution_count": null,
   "metadata": {},
   "outputs": [],
   "source": [
    "features_test_clean_nocat = features_test_clean.copy()\n",
    "remove_cat_attr(features_test_clean_nocat)\n",
    "\n",
    "hero_pd_test = bag_hero_to_num(features_test)\n",
    "\n",
    "features_test_clean_catToNum = pandas.concat([features_test_clean_nocat, hero_pd_test], axis=1)\n",
    "\n",
    "features_test_fin1 = rescale_attr.fit_transform(features_test_clean_catToNum)\n",
    "\n"
   ]
  },
  {
   "cell_type": "code",
   "execution_count": null,
   "metadata": {},
   "outputs": [],
   "source": []
  },
  {
   "cell_type": "code",
   "execution_count": null,
   "metadata": {},
   "outputs": [],
   "source": [
    "lr.predict_proba(features_test_fin1)[:,1]"
   ]
  },
  {
   "cell_type": "code",
   "execution_count": null,
   "metadata": {},
   "outputs": [],
   "source": []
  },
  {
   "cell_type": "code",
   "execution_count": null,
   "metadata": {},
   "outputs": [],
   "source": []
  },
  {
   "cell_type": "code",
   "execution_count": null,
   "metadata": {},
   "outputs": [],
   "source": []
  }
 ],
 "metadata": {
  "kernelspec": {
   "display_name": "Python 3",
   "language": "python",
   "name": "python3"
  },
  "language_info": {
   "codemirror_mode": {
    "name": "ipython",
    "version": 3
   },
   "file_extension": ".py",
   "mimetype": "text/x-python",
   "name": "python",
   "nbconvert_exporter": "python",
   "pygments_lexer": "ipython3",
   "version": "3.6.4"
  }
 },
 "nbformat": 4,
 "nbformat_minor": 2
}
